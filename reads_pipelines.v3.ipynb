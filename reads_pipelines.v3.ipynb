{
 "cells": [
  {
   "cell_type": "markdown",
   "metadata": {},
   "source": [
    "### <font color=#ff0000>宏基因组分析——基于reads分析流程</font>"
   ]
  },
  {
   "cell_type": "markdown",
   "metadata": {},
   "source": [
    "#### 1. 环境配置"
   ]
  },
  {
   "cell_type": "markdown",
   "metadata": {},
   "source": [
    "#### 1.1 本机环境配置"
   ]
  },
  {
   "cell_type": "markdown",
   "metadata": {},
   "source": [
    "#### 1.1.1 安装Docker (https://www.runoob.com/docker/centos-docker-install.html)"
   ]
  },
  {
   "cell_type": "markdown",
   "metadata": {},
   "source": [
    "#### 1.1.2 加载Docker镜像 (Jupyter Notebook + sratoolkit + biobakery-workflows-add-r)"
   ]
  },
  {
   "cell_type": "markdown",
   "metadata": {},
   "source": [
    "以下两句命令在终端运行，运行之后在浏览器输入：http://localhost:7777/lab?， 进入Jupyter环境执行后续命令。"
   ]
  },
  {
   "cell_type": "code",
   "execution_count": null,
   "metadata": {},
   "outputs": [],
   "source": [
    "!sudo docker load -i ddhmed/lab-python-r-julia.tar"
   ]
  },
  {
   "cell_type": "code",
   "execution_count": null,
   "metadata": {},
   "outputs": [],
   "source": [
    "!sudo docker run -it --privileged=TRUE --rm -p 7777:8888 -v /Volumes/Untitled:/work -v /var/run/docker.sock:/var/run/docker.sock -v $(which docker):/bin/docker ddhmed/lab-python-r-julia:v1 jupyter lab --allow-root"
   ]
  },
  {
   "cell_type": "markdown",
   "metadata": {},
   "source": [
    "命令主要参数说明：\n",
    "* i : 交互模式, 允许你对容器内的标准输入 (STDIN) 进行交互\n",
    "* t : 终端, 在新容器内指定一个伪终端或终端\n",
    "* p : 端口映射, 将主机端口映射于容器内部端口\n",
    "* v : 目录挂载, 将主机目录空间映射于容器内部目录空间,/Volumes/Untitled为工作目录，可根据自己本机实际目录修改\n",
    "* ddhmed/lab-python-r-julia:v1 : 启动的镜像和版本号\n",
    "* privileged=TRUE ：允许使用本机命令权限\n",
    "* rm : 退出后该docker自动在后台删除"
   ]
  },
  {
   "cell_type": "markdown",
   "metadata": {},
   "source": [
    "以下所有命令操作都在Jupyter环境下进行，/Volumes/Untitled为工作目录，可根据自己本机实际目录修改"
   ]
  },
  {
   "cell_type": "code",
   "execution_count": null,
   "metadata": {},
   "outputs": [],
   "source": [
    "!sudo docker load -i pegi3s-sratoolkit-latest.tar"
   ]
  },
  {
   "cell_type": "code",
   "execution_count": 2,
   "metadata": {},
   "outputs": [
    {
     "name": "stdout",
     "output_type": "stream",
     "text": [
      "Loaded image: biobakery-workflows-add-r-6:latest\n"
     ]
    }
   ],
   "source": [
    "!sudo docker load -i biobakery-workflows-add-r-6.tar"
   ]
  },
  {
   "cell_type": "markdown",
   "metadata": {},
   "source": [
    "#### 1.2 服务器环境配置 (根据同济服务器配置)"
   ]
  },
  {
   "cell_type": "markdown",
   "metadata": {},
   "source": [
    "#### 1.2.1 安装biobakery-workflows (http://huttenhower.sph.harvard.edu/biobakery_workflows)"
   ]
  },
  {
   "cell_type": "markdown",
   "metadata": {},
   "source": [
    "#### 1.2.2 安装MelonnPan (https://huttenhower.sph.harvard.edu/melonnpan)"
   ]
  },
  {
   "cell_type": "markdown",
   "metadata": {},
   "source": [
    "#### 1.2.3 安装MetAML (http://segatalab.cibio.unitn.it/tools/metaml/)"
   ]
  },
  {
   "cell_type": "raw",
   "metadata": {},
   "source": []
  },
  {
   "cell_type": "markdown",
   "metadata": {},
   "source": [
    "#### 2. Jupyter、docker和服务器运行说明"
   ]
  },
  {
   "cell_type": "markdown",
   "metadata": {},
   "source": [
    "#### 2.1 Jupyter中，以！为开头的代码是bash命令，运行之前在上方菜单栏选择Kernel->Change Kernel->Python 3。"
   ]
  },
  {
   "cell_type": "markdown",
   "metadata": {},
   "source": [
    "#### 2.2 Jupyter中，不以！为开头的代码是R语言命令，运行之前在上方菜单栏选择Kernel->Change Kernel->R。"
   ]
  },
  {
   "cell_type": "markdown",
   "metadata": {},
   "source": [
    "#### 2.3 Jupyter中，图表显示所在行代码，需要在上方Code改为MarkDown之后运行。"
   ]
  },
  {
   "cell_type": "markdown",
   "metadata": {},
   "source": [
    "#### 2.4 docker运行过程中，可以在终端界面输入docker stats -a，实时查看docker命令运行占据本机CPU比例和内存比例，尽量保证CPU比例不超过100%，如果CPU占比例太多，则减少正在运行的docker命令，如果内存占比例太多，则增加docker内存，在docker菜单中选择Preferences->Advanced。本流程可以docker为设置3个CPU和2G内存。"
   ]
  },
  {
   "cell_type": "markdown",
   "metadata": {},
   "source": [
    "#### 2.5 服务器运行过程中，通过qstat -f查看任务所在节点是否负载，负载的节点有a标记，如果负载，则需要调整命令中使用的线程数量。"
   ]
  },
  {
   "cell_type": "code",
   "execution_count": null,
   "metadata": {},
   "outputs": [],
   "source": []
  },
  {
   "cell_type": "markdown",
   "metadata": {},
   "source": [
    "#### 3. 具体步骤"
   ]
  },
  {
   "cell_type": "markdown",
   "metadata": {},
   "source": [
    "#### 3.1 测序数据准备"
   ]
  },
  {
   "cell_type": "markdown",
   "metadata": {},
   "source": [
    "#### 3.1.1 原始数据SRA格式转化为fastq格式"
   ]
  },
  {
   "cell_type": "markdown",
   "metadata": {},
   "source": [
    "说明："
   ]
  },
  {
   "cell_type": "markdown",
   "metadata": {},
   "source": [
    "3.1.1.1 该命令在原始数据为SRA格式时运行，若原始数据格式已经是fastq格式，则不需要运行该命令。"
   ]
  },
  {
   "cell_type": "markdown",
   "metadata": {},
   "source": [
    "3.1.1.2 在3个CPU的docker环境下，建议每次同时运行2个fasterq-dump命令，每次运行时间大概10-20分钟。"
   ]
  },
  {
   "cell_type": "code",
   "execution_count": 1,
   "metadata": {},
   "outputs": [
    {
     "name": "stdout",
     "output_type": "stream",
     "text": [
      "spots read      : 12,230,104\n",
      "reads read      : 24,460,208\n",
      "reads written   : 24,460,208\n"
     ]
    }
   ],
   "source": [
    "!sudo docker run --rm -v /Volumes/Untitled/:/home/data pegi3s/sratoolkit:latest bash \\\n",
    "        -c 'mkdir -p /home/data/results/fasterq-dump && \\\n",
    "        file=(`ls /home/data/input_data/sra/*`) && \\\n",
    "        fasterq-dump --split-3 ${file[0]} -O /home/data/results/fasterq-dump'"
   ]
  },
  {
   "cell_type": "code",
   "execution_count": 21,
   "metadata": {},
   "outputs": [
    {
     "name": "stdout",
     "output_type": "stream",
     "text": [
      "/work/input_data/sra/SRR5935846\n"
     ]
    }
   ],
   "source": [
    "!bash -c 'file=(`ls /work/input_data/sra/*`) && echo ${file[0]}'"
   ]
  },
  {
   "cell_type": "markdown",
   "metadata": {},
   "source": [
    "这里结果显示第一个样本SRR5935846一共有24,460,208条测序短序列reads。"
   ]
  },
  {
   "cell_type": "code",
   "execution_count": 2,
   "metadata": {},
   "outputs": [
    {
     "name": "stdout",
     "output_type": "stream",
     "text": [
      "spots read      : 6,776,291\n",
      "reads read      : 13,552,582\n",
      "reads written   : 13,552,582\n"
     ]
    }
   ],
   "source": [
    "!sudo docker run --rm -v /Volumes/Untitled/:/home/data pegi3s/sratoolkit:latest bash \\\n",
    "        -c 'file=(`ls /home/data/input_data/sra/*`) && \\\n",
    "        fasterq-dump --split-3 ${file[1]} -O /home/data/results/fasterq-dump'"
   ]
  },
  {
   "cell_type": "code",
   "execution_count": 3,
   "metadata": {},
   "outputs": [
    {
     "name": "stdout",
     "output_type": "stream",
     "text": [
      "spots read      : 12,216,205\n",
      "reads read      : 24,432,410\n",
      "reads written   : 24,432,410\n"
     ]
    }
   ],
   "source": [
    "!sudo docker run --rm -v /Volumes/Untitled/:/home/data pegi3s/sratoolkit:latest bash \\\n",
    "        -c 'file=(`ls /home/data/input_data/sra/*`) && \\\n",
    "        fasterq-dump --split-3 ${file[2]} -O /home/data/results/fasterq-dump'"
   ]
  },
  {
   "cell_type": "code",
   "execution_count": 4,
   "metadata": {},
   "outputs": [
    {
     "name": "stdout",
     "output_type": "stream",
     "text": [
      "spots read      : 10,685,778\n",
      "reads read      : 21,371,556\n",
      "reads written   : 21,371,556\n"
     ]
    }
   ],
   "source": [
    "!sudo docker run --rm -v /Volumes/Untitled/:/home/data pegi3s/sratoolkit:latest bash \\\n",
    "        -c 'file=(`ls /home/data/input_data/sra/*`) && \\\n",
    "        fasterq-dump --split-3 ${file[3]} -O /home/data/results/fasterq-dump'"
   ]
  },
  {
   "cell_type": "code",
   "execution_count": 5,
   "metadata": {},
   "outputs": [
    {
     "name": "stdout",
     "output_type": "stream",
     "text": [
      "spots read      : 13,821,817\n",
      "reads read      : 27,643,634\n",
      "reads written   : 27,643,634\n"
     ]
    }
   ],
   "source": [
    "!sudo docker run --rm -v /Volumes/Untitled/:/home/data pegi3s/sratoolkit:latest bash \\\n",
    "        -c 'file=(`ls /home/data/input_data/sra/*`) && \\\n",
    "        fasterq-dump --split-3 ${file[4]} -O /home/data/results/fasterq-dump'"
   ]
  },
  {
   "cell_type": "code",
   "execution_count": 6,
   "metadata": {},
   "outputs": [
    {
     "name": "stdout",
     "output_type": "stream",
     "text": [
      "spots read      : 20,893,032\n",
      "reads read      : 41,786,064\n",
      "reads written   : 41,786,064\n"
     ]
    }
   ],
   "source": [
    "!sudo docker run --rm -v /Volumes/Untitled/:/home/data pegi3s/sratoolkit:latest bash \\\n",
    "        -c 'file=(`ls /home/data/input_data/sra/*`) && \\\n",
    "        fasterq-dump --split-3 ${file[5]} -O /home/data/results/fasterq-dump'"
   ]
  },
  {
   "cell_type": "code",
   "execution_count": 7,
   "metadata": {},
   "outputs": [
    {
     "name": "stdout",
     "output_type": "stream",
     "text": [
      "spots read      : 17,696,087\n",
      "reads read      : 35,392,174\n",
      "reads written   : 35,392,174\n"
     ]
    }
   ],
   "source": [
    "!sudo docker run --rm -v /Volumes/Untitled/:/home/data pegi3s/sratoolkit:latest bash \\\n",
    "        -c 'file=(`ls /home/data/input_data/sra/*`) && \\\n",
    "        fasterq-dump --split-3 ${file[6]} -O /home/data/results/fasterq-dump'"
   ]
  },
  {
   "cell_type": "code",
   "execution_count": 27,
   "metadata": {},
   "outputs": [
    {
     "name": "stdout",
     "output_type": "stream",
     "text": [
      "spots read      : 23,274,888\n",
      "reads read      : 46,549,776\n",
      "reads written   : 46,549,776\n"
     ]
    }
   ],
   "source": [
    "!sudo docker run --rm -v /Volumes/Untitled/:/home/data pegi3s/sratoolkit:latest bash \\\n",
    "        -c 'file=(`ls /home/data/input_data/sra/*`) && \\\n",
    "        fasterq-dump --split-3 ${file[7]} -O /home/data/results/fasterq-dump'"
   ]
  },
  {
   "cell_type": "code",
   "execution_count": 28,
   "metadata": {},
   "outputs": [
    {
     "name": "stdout",
     "output_type": "stream",
     "text": [
      "spots read      : 8,735,538\n",
      "reads read      : 17,471,076\n",
      "reads written   : 17,471,076\n"
     ]
    }
   ],
   "source": [
    "!sudo docker run --rm -v /Volumes/Untitled/:/home/data pegi3s/sratoolkit:latest bash \\\n",
    "        -c 'file=(`ls /home/data/input_data/sra/*`) && \\\n",
    "        fasterq-dump --split-3 ${file[8]} -O /home/data/results/fasterq-dump'"
   ]
  },
  {
   "cell_type": "code",
   "execution_count": 29,
   "metadata": {},
   "outputs": [
    {
     "name": "stdout",
     "output_type": "stream",
     "text": [
      "spots read      : 9,913,957\n",
      "reads read      : 19,827,914\n",
      "reads written   : 19,827,914\n"
     ]
    }
   ],
   "source": [
    "!sudo docker run --rm -v /Volumes/Untitled/:/home/data pegi3s/sratoolkit:latest bash \\\n",
    "        -c 'file=(`ls /home/data/input_data/sra/*`) && \\\n",
    "        fasterq-dump --split-3 ${file[9]} -O /home/data/results/fasterq-dump'"
   ]
  },
  {
   "cell_type": "code",
   "execution_count": 30,
   "metadata": {},
   "outputs": [
    {
     "name": "stdout",
     "output_type": "stream",
     "text": [
      "spots read      : 12,089,985\n",
      "reads read      : 24,179,970\n",
      "reads written   : 24,179,970\n"
     ]
    }
   ],
   "source": [
    "!sudo docker run --rm -v /Volumes/Untitled/:/home/data pegi3s/sratoolkit:latest bash \\\n",
    "        -c 'file=(`ls /home/data/input_data/sra/*`) && \\\n",
    "        fasterq-dump --split-3 ${file[10]} -O /home/data/results/fasterq-dump'"
   ]
  },
  {
   "cell_type": "code",
   "execution_count": null,
   "metadata": {},
   "outputs": [],
   "source": []
  },
  {
   "cell_type": "markdown",
   "metadata": {},
   "source": [
    "#### 3.1.2 修改fastq文件后缀，标记双端的forward/reverse测序序列，以便后续的预处理、群落结构分析和群落功能分析中识别forward/reverse序列。"
   ]
  },
  {
   "cell_type": "markdown",
   "metadata": {},
   "source": [
    "说明："
   ]
  },
  {
   "cell_type": "markdown",
   "metadata": {},
   "source": [
    "3.1.2.1 对于双端数据，同时运行以下两句命令修改。"
   ]
  },
  {
   "cell_type": "markdown",
   "metadata": {},
   "source": [
    "3.1.2.2 对于单端数据，则不需要修改文件后缀。"
   ]
  },
  {
   "cell_type": "code",
   "execution_count": 31,
   "metadata": {},
   "outputs": [],
   "source": [
    "!sudo docker run --rm -v /Volumes/Untitled/:/home/data pegi3s/sratoolkit:latest bash \\\n",
    "        -c 'rename.ul _1 .R1 /home/data/results/fasterq-dump/*_1.fastq'"
   ]
  },
  {
   "cell_type": "code",
   "execution_count": 32,
   "metadata": {},
   "outputs": [],
   "source": [
    "!sudo docker run --rm -v /Volumes/Untitled/:/home/data pegi3s/sratoolkit:latest bash \\\n",
    "        -c 'rename.ul _2 .R2 /home/data/results/fasterq-dump/*_2.fastq'"
   ]
  },
  {
   "cell_type": "code",
   "execution_count": null,
   "metadata": {},
   "outputs": [],
   "source": []
  },
  {
   "cell_type": "markdown",
   "metadata": {},
   "source": [
    "#### 3.1.3 修改fastq文件表述行，标记双端的forward/reverse测序序列，以便后续质控算法中识别forward/reverse序列。"
   ]
  },
  {
   "cell_type": "markdown",
   "metadata": {},
   "source": [
    "说明："
   ]
  },
  {
   "cell_type": "markdown",
   "metadata": {},
   "source": [
    "3.1.3.1 对于双端序列，forward序列的描述行以 /1结尾，reverse序列的描述行以 /2结尾。"
   ]
  },
  {
   "cell_type": "markdown",
   "metadata": {},
   "source": [
    "3.1.3.2 对于单端序列，不需要做此步骤。"
   ]
  },
  {
   "cell_type": "markdown",
   "metadata": {},
   "source": [
    "3.1.3.3 下面每一条python程序占用CPU比较高，约80%-90%，每个文件命令运行时间约15分钟，一共22个文件，总运行时间约5.5小时。"
   ]
  },
  {
   "cell_type": "code",
   "execution_count": 46,
   "metadata": {},
   "outputs": [],
   "source": [
    "!sudo docker run --rm -v /Volumes/Untitled/:/home/data biobakery-workflows-add-r-6 bash \\\n",
    "    -c 'file=(`ls /home/data/results/fasterq-dump/*.fastq`) && \\\n",
    "    mkdir -p /home/data/results/fasterq-dump-change-name/ && \\\n",
    "    for x in ${file[*]}; do python /home/data/SeqIO_change_fastq_ID.py $x; done'"
   ]
  },
  {
   "cell_type": "code",
   "execution_count": null,
   "metadata": {},
   "outputs": [],
   "source": []
  },
  {
   "cell_type": "markdown",
   "metadata": {},
   "source": [
    "#### 3.2 预处理、群落结构丰度谱和功能丰度谱构建"
   ]
  },
  {
   "cell_type": "markdown",
   "metadata": {},
   "source": [
    "说明："
   ]
  },
  {
   "cell_type": "markdown",
   "metadata": {},
   "source": [
    "3.2.1 预处理、群落结构丰度谱和群落功能丰度谱分析属于三个串联步骤，目前有整合命令可以运行，该命令在服务器跑，需要安装biobakery_workflows软件，输入文件为3.1.3步骤处理好的fasterq-dump-change-name文件夹。在后面结果展示中，会将整合命令中每个步骤执行的具体命令一一说明。"
   ]
  },
  {
   "cell_type": "markdown",
   "metadata": {},
   "source": [
    "3.2.2 服务器上运行命令：\n",
    "biobakery_workflows wmgx --input fasterq-dump-change-name/ --output biobakery_workflows/ --threads 8 --input-extension fastq --local-jobs 8"
   ]
  },
  {
   "cell_type": "markdown",
   "metadata": {},
   "source": [
    "3.2.3 该命令中--local-jobs参数表示每次并行运行的样本数量，--threads表示每个运行样本所用线程数，该参数设置需要根据服务器节点数量而定，尽量保证local-jobs*threads<服务器总节点数量，该命令运行时间大概是7个小时，运行完之后，从服务器下载biobakery_workflows文件夹到本机/Volumes/Untitled/results。"
   ]
  },
  {
   "cell_type": "markdown",
   "metadata": {},
   "source": [
    "3.2.4 运行结果下载到本机之后，用以下命令在/home/data/results/biobakery_workflows_output_vis文件夹中生成结果报告和图表，以下对每一步骤结果及其所用命令进行展示。注意：3.2.5-3.2.7步骤的命令不需运行，这些命令已包含3.2.2总命令中，3.2.5-3.2.7步骤的命令仅作为内部命令的详细讲解。"
   ]
  },
  {
   "cell_type": "code",
   "execution_count": null,
   "metadata": {},
   "outputs": [],
   "source": [
    "!sudo docker run --rm -v /Volumes/Untitled:/home/data biobakery-workflows-add-r-6 bash \\\n",
    "    -c 'biobakery_workflows wmgx_vis --input /home/data/results/biobakery_workflows/ --output /home/data/results/biobakery_workflows_output_vis --project-name IBD_test'"
   ]
  },
  {
   "cell_type": "markdown",
   "metadata": {},
   "source": [
    "3.2.5 预处理步骤"
   ]
  },
  {
   "cell_type": "markdown",
   "metadata": {},
   "source": [
    "3.2.5.1 示例命令\n",
    "* kneaddata –input SRR5935917.R1.fastq –output main –threads 8\n",
    "–output-prefix SRR5935917 –input SRR5935917.R2.fastq –cat-final-output\n",
    "–reference-db kneaddata_db_human_genome –serial –run-trf"
   ]
  },
  {
   "cell_type": "markdown",
   "metadata": {},
   "source": [
    "3.2.5.2 主要参数说明\n",
    " * –cat-final-output：最终输出所有fastq文件合并成一个文件\n",
    " * –reference-db：宿主参考基因组数据库，默认是以人类作为宿主参考基因组，如果是其它物种，则需要提供其它宿主物种对应的bowtie index数据库；而在biobakery_workflows命令中，可以通过修改对应的参数--qc-options\n",
    " * –serial：在bowtie比对步骤中，过滤在多个数据库的串行输入，以便每次在每个数据库中搜索一部分测序序列reads，提高运算速度\n",
    " * run-trf：利用TRF软件去除串联重复序列"
   ]
  },
  {
   "cell_type": "markdown",
   "metadata": {},
   "source": [
    "3.2.5.3 样本质控统计图表"
   ]
  },
  {
   "cell_type": "markdown",
   "metadata": {},
   "source": [
    "![**wmgx_report_figure2_1**](results/biobakery_workflows_output_vis/figures/wmgx_report_figure2_1.png)"
   ]
  },
  {
   "cell_type": "markdown",
   "metadata": {},
   "source": [
    "![**wmgx_report_figure5_1**](results/biobakery_workflows_output_vis/figures/wmgx_report_figure5_1.png)"
   ]
  },
  {
   "cell_type": "markdown",
   "metadata": {},
   "source": [
    "图表说明："
   ]
  },
  {
   "cell_type": "markdown",
   "metadata": {},
   "source": [
    "* Raw：原始reads数量（双端测序统计一端reads数量）\n",
    "* Trim：根据质量分数<20和合格序列长度<50%原始序列长度的质控准则，去除低质量碱基后的reads数量（双端测序统计一端reads数量）\n",
    "* hg38：去除与hg38宿主人类参考基因组比对上的序列，合并双端测序所有序列，统计reads数量"
   ]
  },
  {
   "cell_type": "markdown",
   "metadata": {},
   "source": [
    "3.2.5.4 样本孤儿序列统计图表"
   ]
  },
  {
   "cell_type": "markdown",
   "metadata": {},
   "source": [
    "![**wmgx_report_figure3_1**](results/biobakery_workflows_output_vis/figures/wmgx_report_figure3_1.png)"
   ]
  },
  {
   "cell_type": "markdown",
   "metadata": {},
   "source": [
    "![**wmgx_report_figure6_1**](results/biobakery_workflows_output_vis/figures/wmgx_report_figure6_1.png)"
   ]
  },
  {
   "cell_type": "markdown",
   "metadata": {},
   "source": [
    "图表说明："
   ]
  },
  {
   "cell_type": "markdown",
   "metadata": {},
   "source": [
    "hg38 orphan1和hg38 orphan2表示分别在双端的forward和reverse序列中未与hg38宿主人类基因组比对，而其另一端比对上hg38基因组，另一端序列属于宿主污染，而其本身序列并不属于宿主污染。"
   ]
  },
  {
   "cell_type": "code",
   "execution_count": null,
   "metadata": {},
   "outputs": [],
   "source": []
  },
  {
   "cell_type": "markdown",
   "metadata": {},
   "source": [
    "3.2.6 群落结构丰度谱构建步骤"
   ]
  },
  {
   "cell_type": "markdown",
   "metadata": {},
   "source": [
    "3.2.6.1 示例命令\n",
    "* metaphlan2.py SRR5935917.fastq –input_type fastq –output_file\n",
    "SRR5935917_taxonomic_profile.tsv –samout SRR5935917_bowtie2.sam\n",
    "–nproc 8 –no_map –tmp_dir main\n",
    "* count_features.py –input metaphlan2_taxonomic_profiles.tsv –output\n",
    "metaphlan2_species_counts_table.tsv –include s__ –filter t__ –reducesample-\n",
    "name\n",
    "* humann2_join_tables –input main –output metaphlan2_taxonomic_profiles.tsv\n",
    "–file_name taxonomic_profile\n",
    "* sample2markers.py –ifn_samples SRR5935917_bowtie2.sam –input_type\n",
    "sam –output_dir strainphlan –nprocs 8 –min_read_depth 10\n",
    "* strainphlan.py –ifn_samples *.markers –output_dir strainphlan –\n",
    "print_clades_only > clades_list.txt\n",
    "* extract_markers.py –mpa_pkl mpa_v20_m200.pkl –ifn_markers\n",
    "all_markers.fasta –clade s__Bacteroides_vulgatus –ofn_markers\n",
    "s__Bacteroides_vulgatus.markers.fasta\n",
    "* strainphlan.py –ifn_samples *.markers –output_dir strainphlan –clades\n",
    "s__Bacteroides_uniformis –nprocs_main 8 –keep_alignment_files\n",
    "–ifn_markers s__Bacteroides_uniformis.markers.fasta > 0_clade.log"
   ]
  },
  {
   "cell_type": "markdown",
   "metadata": {},
   "source": [
    "3.2.6.2 主要参数说明\n",
    " * –samout：输出比对SAM文件\n",
    " * –nproc：比对并行所用线程数量\n",
    " * –no_map：不存储--bowtie2out的比对文件，节省硬盘空间\n",
    " * –include：只统计包含某一字段的数量，比如这里只统计包含s__（也就是物种）字段的数量，也就是统计物种水平以及菌株种系水平的数量\n",
    " * –filter：不统计包含某一字段的数量，比如这里不统计包含t__（也就是菌株种系水平）字段的数量，结合–include s__参数，这里count_features.py只统计物种水平的数量\n",
    " * –reducesample-name：简化样本名称，只保留样本标记字段\n",
    " * –ifn_samples：输入每个样本比对文件或markers文件\n",
    " * –min_read_depth：比对上reads最少数量\n",
    " * –print_clades_only：只需给出菌株所属进化分支\n",
    " * –mpa_pkl：MetaPhlAn软件已构建的菌株标志蛋白的meta文件\n",
    " * –ifn_markers：输入MetaPhlAn软件已构建的菌株标志蛋白序列文件，或用户指定的某一特定菌株标志蛋白序列文件\n",
    " * –clade：选择某一特定进化分支分析所有样本的菌株分布\n",
    " * –ofn_markers：输出菌株标志蛋白序列\n",
    " * –keep_alignment_files：保留所有菌株标志序列的比对文件"
   ]
  },
  {
   "cell_type": "markdown",
   "metadata": {},
   "source": [
    "3.2.6.3 物种分类数量统计表格"
   ]
  },
  {
   "cell_type": "markdown",
   "metadata": {},
   "source": [
    "![**wmgx_report_figure9_1**](results/biobakery_workflows_output_vis/figures/wmgx_report_figure9_1.png)"
   ]
  },
  {
   "cell_type": "markdown",
   "metadata": {},
   "source": [
    "表格说明：filtered过滤条件是至少在10%样本中具有超过0.01%的物种分类丰度"
   ]
  },
  {
   "cell_type": "markdown",
   "metadata": {},
   "source": [
    "3.2.6.4 基于物种水平丰度谱（前25种高丰度物种）和Bray-Curtis距离对样本进行PCoA降维分析"
   ]
  },
  {
   "cell_type": "markdown",
   "metadata": {},
   "source": [
    "![**wmgx_report_figure10_1_2**](results/biobakery_workflows_output_vis/figures/wmgx_report_figure10_1_2.png)"
   ]
  },
  {
   "cell_type": "markdown",
   "metadata": {},
   "source": [
    "图说明：图中亮蓝色方框表示健康人样本，其余样本表示CD病人，从PCoA图可以看出，健康人之间高丰度物种群落较为相似，而CD病人之间高丰度物种群落差距较大，这一结论与目前多篇文献结论一致。"
   ]
  },
  {
   "cell_type": "markdown",
   "metadata": {},
   "source": [
    "3.2.6.5 基于属水平丰度谱（前25种高丰度属）和Bray-Curtis距离对样本进行PCoA降维分析"
   ]
  },
  {
   "cell_type": "markdown",
   "metadata": {},
   "source": [
    "![**wmgx_report_figure12_1_2**](results/biobakery_workflows_output_vis/figures/wmgx_report_figure12_1_2.png)"
   ]
  },
  {
   "cell_type": "markdown",
   "metadata": {},
   "source": [
    "图说明：图中亮蓝色方框表示健康人样本，其余样本表示CD病人。比较基于物种水平和属水平丰度谱计算得到的样本间BC距离，可以发现，物种水平的菌群在CD病人和健康人之间具有较高分辨率。物种水平中，健康人之间BC距离比较紧密，与CD病人的差距更大。"
   ]
  },
  {
   "cell_type": "markdown",
   "metadata": {},
   "source": [
    "3.2.6.6 基于物种水平丰度谱（前25种高丰度物种）对样本间Spearman相关性进行聚类分析"
   ]
  },
  {
   "cell_type": "markdown",
   "metadata": {},
   "source": [
    "![**wmgx_report_figure14_1**](results/biobakery_workflows_output_vis/figures/wmgx_report_figure14_1.png)"
   ]
  },
  {
   "cell_type": "markdown",
   "metadata": {},
   "source": [
    "图说明：图中亮蓝色方框表示健康人样本，其余样本表示CD病人。"
   ]
  },
  {
   "cell_type": "markdown",
   "metadata": {},
   "source": [
    "3.2.6.7 基于物种水平丰度谱（前25种高丰度物种）和Bray-Curtis距离对样本进行聚类分析"
   ]
  },
  {
   "cell_type": "markdown",
   "metadata": {},
   "source": [
    "![**wmgx_report_figure15_1_2**](results/biobakery_workflows_output_vis/figures/wmgx_report_figure15_1_2.png)"
   ]
  },
  {
   "cell_type": "markdown",
   "metadata": {},
   "source": [
    "图说明：图中亮蓝色方框表示健康人样本，其余样本表示CD病人。比较对样本间Spearman相似性和BC距离的聚类分析结果，可以发现，这两种聚类分析结果一致。"
   ]
  },
  {
   "cell_type": "markdown",
   "metadata": {},
   "source": [
    "3.2.6.8 基于属水平丰度谱（前25种高丰度属）对样本间Spearman相关性进行聚类分析"
   ]
  },
  {
   "cell_type": "markdown",
   "metadata": {},
   "source": [
    "![**wmgx_report_figure16_1_2**](results/biobakery_workflows_output_vis/figures/wmgx_report_figure16_1_2.png)"
   ]
  },
  {
   "cell_type": "markdown",
   "metadata": {},
   "source": [
    "图说明：图中亮蓝色方框表示健康人样本，其余样本表示CD病人。"
   ]
  },
  {
   "cell_type": "markdown",
   "metadata": {},
   "source": [
    "3.2.6.9 基于属水平丰度谱（前25种高丰度属）对样本间BC距离进行聚类分析"
   ]
  },
  {
   "cell_type": "markdown",
   "metadata": {},
   "source": [
    "![**wmgx_report_figure17_1_2**](results/biobakery_workflows_output_vis/figures/wmgx_report_figure17_1_2.png)"
   ]
  },
  {
   "cell_type": "markdown",
   "metadata": {},
   "source": [
    "图说明：图中亮蓝色方框表示健康人样本，其余样本表示CD病人。比较对样本间Spearman相似性和BC距离的聚类分析结果，可以发现，这两种聚类分析结果一致。"
   ]
  },
  {
   "cell_type": "markdown",
   "metadata": {},
   "source": [
    "3.2.6.10 各样本高丰度物种菌群组成图（前15种高丰度物种）"
   ]
  },
  {
   "cell_type": "markdown",
   "metadata": {},
   "source": [
    "![**wmgx_report_figure19_1_2**](results/biobakery_workflows_output_vis/figures/wmgx_report_figure19_1_2.png)"
   ]
  },
  {
   "cell_type": "markdown",
   "metadata": {},
   "source": [
    "图说明：图中亮蓝色方框表示健康人样本，其余样本表示CD病人。从图中可以看出，健康人和CD病人在物种水平的菌群组成差异很大，健康人的菌群物种组成较为相似，除了样本SRR5950563，普氏杆菌Prevotella copri丰度在健康人样本中具有明显优势；而在CD病人的菌群物种组成变化较大，其中，普通拟杆菌Bacteroides vulgatus和单形拟杆菌Bacteroides uniformis是CD病人的优势菌群物种，而普通拟杆菌Bacteroides vulgatus是CD疾病的“明星物种”，文献报道它抑制了肠道黏液的分泌，导致CD疾病发生。"
   ]
  },
  {
   "cell_type": "markdown",
   "metadata": {},
   "source": [
    "3.2.6.11 各样本高丰度属菌群组成图（前15种高丰度属）"
   ]
  },
  {
   "cell_type": "markdown",
   "metadata": {},
   "source": [
    "![**wmgx_report_figure21_1_2**](results/biobakery_workflows_output_vis/figures/wmgx_report_figure21_1_2.png)"
   ]
  },
  {
   "cell_type": "markdown",
   "metadata": {},
   "source": [
    "图说明：图中亮蓝色方框表示健康人样本，其余样本表示CD病人。从图中可以看出，与物种水平组成相比，健康人和CD病人在属水平菌群组成差异相对较小，说明物种水平的菌群在CD病人和健康人之间具有较高分辨率，其中拟杆菌属Bacteroides是CD病人的优势属菌群，而普氏菌属Prevotella是健康人的优势属菌群。"
   ]
  },
  {
   "cell_type": "code",
   "execution_count": null,
   "metadata": {},
   "outputs": [],
   "source": [
    "3.2.6.12 样本特异性菌株进化树"
   ]
  },
  {
   "cell_type": "markdown",
   "metadata": {},
   "source": [
    "![**RAxML_bestTree.s__Eubacterium_rectale**](results/biobakery_workflows/strainphlan/RAxML_bestTree.s__Eubacterium_rectale.svg)"
   ]
  },
  {
   "cell_type": "markdown",
   "metadata": {},
   "source": [
    "图说明：蓝色字体表示健康人样本，红色字体表示CD病人样本。"
   ]
  },
  {
   "cell_type": "code",
   "execution_count": null,
   "metadata": {},
   "outputs": [],
   "source": []
  },
  {
   "cell_type": "markdown",
   "metadata": {},
   "source": [
    "3.2.7 群落功能分析步骤"
   ]
  },
  {
   "cell_type": "markdown",
   "metadata": {},
   "source": [
    "3.2.7.1 示例命令\n",
    "* humann2 –input SRR5946998.fastq –output main –o-log SRR5946998.log\n",
    "–threads 8 –taxonomic-profile SRR5946998_taxonomic_profile.tsv\n",
    "* humann2_renorm_table –input SRR5935917_pathabundance.tsv –output\n",
    "SRR5935917_pathabundance_relab.tsv –units relab –special n\n",
    "* humann2_regroup_table –input SRR5935917_genefamilies.tsv –output\n",
    "SRR5935917_ecs.tsv –groups uniref90_level4ec\n",
    "* humann2_join_tables –input main –output genefamilies.tsv –file_name\n",
    "genefamilies\n",
    "* humann2_join_tables –input genes –output genefamilies_relab.tsv\n",
    "* humann2_join_tables –input main –output pathabundance.tsv –file_name\n",
    "pathabundance\n",
    "* humann2_join_tables –input pathways –output pathabundance_relab.tsv\n",
    "* humann2_join_tables –input regrouped –output ecs.tsv –file_name ecs\n",
    "* humann2_join_tables –input ecs –output ecs_relab.tsv\n",
    "* humann2_join_tables –input counts –output humann2_feature_counts.tsv\n",
    "–file_name _relab_counts.tsv\n",
    "* count_features.py –input pathabundance_relab.tsv –output humann2_\n",
    "pathabundance_relab_counts.tsv –reduce-sample-name –ignoreun-\n",
    "features –ignore-stratification\n",
    "* count_features.py –input ecs_relab.tsv –output humann2_ecs_relab_counts.tsv\n",
    "–reduce-sample-name –ignore-un-features –ignore-stratification\n",
    "* count_features.py –input genefamilies_relab.tsv –output humann2_genefamilies_relab_counts.tsv\n",
    "–reduce-sample-name –ignore-un-features –ignore-stratification"
   ]
  },
  {
   "cell_type": "markdown",
   "metadata": {},
   "source": [
    "3.2.7.2 主要参数说明\n",
    "* –taxonomic-profile：上游工具MetaPhlan产生的物种丰度谱\n",
    "* –units：标准化算法，这里relab参数选项表示以相对丰度进行标准化\n",
    "* –special：包含无特定功能，例如，UNMAPPED, UNINTEGRATED, and UNGROUPED\n",
    "* –groups：功能群选项，这里以uniref90_level4ec单位，将基因组织成功能群\n",
    "* –ignore-un-features：统计功能数量过程中不包括UNMAPPED, UNGROUPED, or UNINTEGRATED等无特定功能\n",
    "* –ignore-stratification：统计功能数量过程中不按照物种分类水平进行分层统计，统计整体群落功能数量"
   ]
  },
  {
   "cell_type": "markdown",
   "metadata": {},
   "source": [
    "3.2.7.3 基于高丰度通路对样本进行聚类分析（前50条高丰度通路，丰度值经过log10转化）"
   ]
  },
  {
   "cell_type": "markdown",
   "metadata": {},
   "source": [
    "![**wmgx_report_figure26_1_2**](results/biobakery_workflows_output_vis/figures/wmgx_report_figure26_1_2.png)"
   ]
  },
  {
   "cell_type": "markdown",
   "metadata": {},
   "source": [
    "图说明：图中亮蓝色方框表示健康人样本，其余样本表示CD病人。从图中可以看出，CD病人样本SRR5936044的通路丰度与其它样本显著不同，通过查看meta表格可知，该病人服用过抗生素，这可能影响菌群功能。"
   ]
  },
  {
   "cell_type": "markdown",
   "metadata": {},
   "source": [
    "3.2.7.4 基于高丰度通路对样本进行聚类分析（前50条高丰度通路，丰度值经过z-score转化）"
   ]
  },
  {
   "cell_type": "markdown",
   "metadata": {},
   "source": [
    "![**wmgx_report_figure27_1_2**](results/biobakery_workflows_output_vis/figures/wmgx_report_figure27_1_2.png)"
   ]
  },
  {
   "cell_type": "markdown",
   "metadata": {},
   "source": [
    "图说明：图中亮蓝色方框表示健康人样本，其余样本表示CD病人。从图中可以看出，CD病人样本SRR5936044的通路丰度与其它样本显著不同。丰度值经过log10转化和z-score转化的结果相似。"
   ]
  },
  {
   "cell_type": "markdown",
   "metadata": {},
   "source": [
    "3.2.7.5 所有样本高丰度通路统计表格（前50条高丰度通路）"
   ]
  },
  {
   "cell_type": "markdown",
   "metadata": {},
   "source": [
    "![**wmgx_report_figure29_1**](results/biobakery_workflows_output_vis/figures/wmgx_report_figure29_1.png)"
   ]
  },
  {
   "cell_type": "markdown",
   "metadata": {},
   "source": [
    "表格说明：Average表示该通路在所有样本丰度的平均值，Variance表示该通路在所有样本丰度的方差"
   ]
  },
  {
   "cell_type": "code",
   "execution_count": null,
   "metadata": {},
   "outputs": [],
   "source": []
  },
  {
   "cell_type": "markdown",
   "metadata": {},
   "source": [
    "#### 3.3 群落代谢物丰度谱构建"
   ]
  },
  {
   "cell_type": "markdown",
   "metadata": {},
   "source": [
    "3.3.1 群落功能基因谱的数据准备"
   ]
  },
  {
   "cell_type": "code",
   "execution_count": null,
   "metadata": {},
   "outputs": [],
   "source": [
    "genefamilies <- read.delim(\"/work/results/biobakery_workflows/humann2/merged/genefamilies_relab.tsv\",stringsAsFactors=F,sep=\"\\t\",header=T)"
   ]
  },
  {
   "cell_type": "code",
   "execution_count": null,
   "metadata": {},
   "outputs": [],
   "source": [
    "UniRef90 <- genefamilies[sapply(genefamilies$X..Gene.Family,function(x) length(strsplit(x,\"\\\\|\")[[1]])==1),]"
   ]
  },
  {
   "cell_type": "code",
   "execution_count": null,
   "metadata": {},
   "outputs": [],
   "source": [
    "colnames(UniRef90) <- sapply(colnames(UniRef90),function(x) strsplit(x,\"_\")[[1]][1])"
   ]
  },
  {
   "cell_type": "code",
   "execution_count": null,
   "metadata": {},
   "outputs": [],
   "source": [
    "colnames(UniRef90)[1]=\"ID\""
   ]
  },
  {
   "cell_type": "code",
   "execution_count": null,
   "metadata": {},
   "outputs": [],
   "source": [
    "UniRef90_2 <- rbind(colnames(UniRef90),UniRef90)"
   ]
  },
  {
   "cell_type": "code",
   "execution_count": null,
   "metadata": {},
   "outputs": [],
   "source": [
    "UniRef90_3 <- t(UniRef90_2)"
   ]
  },
  {
   "cell_type": "code",
   "execution_count": null,
   "metadata": {},
   "outputs": [],
   "source": [
    "write.table(UniRef90_3,\"/work/results/biobakery_workflows/humann2/merged/genefamilies_relab_input_for_MelonnPan.tsv\",sep=\"\\t\",col.names=F,row.names=F,quote=F)"
   ]
  },
  {
   "cell_type": "markdown",
   "metadata": {},
   "source": [
    "3.3.2 在服务器上安装MelonnPan软件，输入文件为3.3.1步骤处理好的genefamilies_relab_input_for_MelonnPan.tsv文件"
   ]
  },
  {
   "cell_type": "markdown",
   "metadata": {},
   "source": [
    "3.3.3 服务器上运行命令：\n",
    "Rscript predict_metabolites.R -i genefamilies_relab_input_for_MelonnPan.tsv -o melonnpan/"
   ]
  },
  {
   "cell_type": "markdown",
   "metadata": {},
   "source": [
    "3.3.4 命令运行时间约3-4小时，运行完之后，从服务器下载melonnpan文件夹到本地/Volumes/Untitled/results"
   ]
  },
  {
   "cell_type": "markdown",
   "metadata": {},
   "source": [
    "3.3.5 代谢物数量统计表格"
   ]
  },
  {
   "cell_type": "code",
   "execution_count": 1,
   "metadata": {},
   "outputs": [],
   "source": [
    "MelonnPan_Predicted_Metabolites <- read.table(\"/work/results/melonnpan/MelonnPan_Predicted_Metabolites.txt\",stringsAsFactors=F,sep=\"\\t\",header=T)"
   ]
  },
  {
   "cell_type": "code",
   "execution_count": 2,
   "metadata": {},
   "outputs": [],
   "source": [
    "metabolites_number <- apply(MelonnPan_Predicted_Metabolites,1,function(x) sum(x[-1]>0))"
   ]
  },
  {
   "cell_type": "code",
   "execution_count": 3,
   "metadata": {},
   "outputs": [],
   "source": [
    "filtered_index <- apply(MelonnPan_Predicted_Metabolites[,-1],2,function(x) sum(x>0.0001)>1)"
   ]
  },
  {
   "cell_type": "code",
   "execution_count": 4,
   "metadata": {},
   "outputs": [],
   "source": [
    "MelonnPan_Predicted_Metabolites_filtered <- cbind(MelonnPan_Predicted_Metabolites[,1],MelonnPan_Predicted_Metabolites[,-1][,filtered_index])"
   ]
  },
  {
   "cell_type": "code",
   "execution_count": 5,
   "metadata": {},
   "outputs": [],
   "source": [
    "metabolites_filtered_number <- apply(MelonnPan_Predicted_Metabolites_filtered,1,function(x) sum(x[-1]>0.0001))"
   ]
  },
  {
   "cell_type": "code",
   "execution_count": 6,
   "metadata": {},
   "outputs": [],
   "source": [
    "Metabolites_data <- data.frame(Metabolites=metabolites_number,Metabolites_filtered=metabolites_filtered_number)"
   ]
  },
  {
   "cell_type": "code",
   "execution_count": 7,
   "metadata": {},
   "outputs": [],
   "source": [
    "rownames(Metabolites_data) <- MelonnPan_Predicted_Metabolites$ID"
   ]
  },
  {
   "cell_type": "code",
   "execution_count": 8,
   "metadata": {},
   "outputs": [],
   "source": [
    "write.table(Metabolites_data,\"/work/results/melonnpan/metabolite_counts_table.txt\",quote=F,sep=\"\\t\")"
   ]
  },
  {
   "cell_type": "code",
   "execution_count": 12,
   "metadata": {},
   "outputs": [
    {
     "data": {
      "text/html": [
       "<table>\n",
       "<caption>A data.frame: 11 × 2</caption>\n",
       "<thead>\n",
       "\t<tr><th></th><th scope=col>Metabolites</th><th scope=col>Metabolites_filtered</th></tr>\n",
       "\t<tr><th></th><th scope=col>&lt;int&gt;</th><th scope=col>&lt;int&gt;</th></tr>\n",
       "</thead>\n",
       "<tbody>\n",
       "\t<tr><th scope=row>SRR5935846</th><td>80</td><td>16</td></tr>\n",
       "\t<tr><th scope=row>SRR5935917</th><td>80</td><td>19</td></tr>\n",
       "\t<tr><th scope=row>SRR5936044</th><td>80</td><td>19</td></tr>\n",
       "\t<tr><th scope=row>SRR5936058</th><td>80</td><td>22</td></tr>\n",
       "\t<tr><th scope=row>SRR5946729</th><td>80</td><td>18</td></tr>\n",
       "\t<tr><th scope=row>SRR5946747</th><td>80</td><td>21</td></tr>\n",
       "\t<tr><th scope=row>SRR5946795</th><td>80</td><td>18</td></tr>\n",
       "\t<tr><th scope=row>SRR5946902</th><td>80</td><td>16</td></tr>\n",
       "\t<tr><th scope=row>SRR5946998</th><td>80</td><td>17</td></tr>\n",
       "\t<tr><th scope=row>SRR5950563</th><td>80</td><td>19</td></tr>\n",
       "\t<tr><th scope=row>SRR5962883</th><td>80</td><td>17</td></tr>\n",
       "</tbody>\n",
       "</table>\n"
      ],
      "text/latex": [
       "A data.frame: 11 × 2\n",
       "\\begin{tabular}{r|ll}\n",
       "  & Metabolites & Metabolites\\_filtered\\\\\n",
       "  & <int> & <int>\\\\\n",
       "\\hline\n",
       "\tSRR5935846 & 80 & 16\\\\\n",
       "\tSRR5935917 & 80 & 19\\\\\n",
       "\tSRR5936044 & 80 & 19\\\\\n",
       "\tSRR5936058 & 80 & 22\\\\\n",
       "\tSRR5946729 & 80 & 18\\\\\n",
       "\tSRR5946747 & 80 & 21\\\\\n",
       "\tSRR5946795 & 80 & 18\\\\\n",
       "\tSRR5946902 & 80 & 16\\\\\n",
       "\tSRR5946998 & 80 & 17\\\\\n",
       "\tSRR5950563 & 80 & 19\\\\\n",
       "\tSRR5962883 & 80 & 17\\\\\n",
       "\\end{tabular}\n"
      ],
      "text/markdown": [
       "\n",
       "A data.frame: 11 × 2\n",
       "\n",
       "| <!--/--> | Metabolites &lt;int&gt; | Metabolites_filtered &lt;int&gt; |\n",
       "|---|---|---|\n",
       "| SRR5935846 | 80 | 16 |\n",
       "| SRR5935917 | 80 | 19 |\n",
       "| SRR5936044 | 80 | 19 |\n",
       "| SRR5936058 | 80 | 22 |\n",
       "| SRR5946729 | 80 | 18 |\n",
       "| SRR5946747 | 80 | 21 |\n",
       "| SRR5946795 | 80 | 18 |\n",
       "| SRR5946902 | 80 | 16 |\n",
       "| SRR5946998 | 80 | 17 |\n",
       "| SRR5950563 | 80 | 19 |\n",
       "| SRR5962883 | 80 | 17 |\n",
       "\n"
      ],
      "text/plain": [
       "           Metabolites Metabolites_filtered\n",
       "SRR5935846 80          16                  \n",
       "SRR5935917 80          19                  \n",
       "SRR5936044 80          19                  \n",
       "SRR5936058 80          22                  \n",
       "SRR5946729 80          18                  \n",
       "SRR5946747 80          21                  \n",
       "SRR5946795 80          18                  \n",
       "SRR5946902 80          16                  \n",
       "SRR5946998 80          17                  \n",
       "SRR5950563 80          19                  \n",
       "SRR5962883 80          17                  "
      ]
     },
     "metadata": {},
     "output_type": "display_data"
    }
   ],
   "source": [
    "Metabolites_data"
   ]
  },
  {
   "cell_type": "markdown",
   "metadata": {},
   "source": [
    "3.3.6 基于代谢物丰度谱（前25种高丰度代谢物）和Bray-Curtis距离对样本进行PCoA降维分析"
   ]
  },
  {
   "cell_type": "code",
   "execution_count": 1,
   "metadata": {},
   "outputs": [
    {
     "name": "stdout",
     "output_type": "stream",
     "text": [
      "Loading required package: permute\n",
      "Loading required package: lattice\n",
      "This is vegan 2.5-6\n",
      "null device \n",
      "          1 \n"
     ]
    }
   ],
   "source": [
    "!sudo docker run --rm -v /Volumes/Untitled:/home/data biobakery-workflows-add-r-6 bash \\\n",
    "    -c 'Rscript /home/data/Metabolite_BC_PcoA.R \\\n",
    "    --metabolite_profile /home/data/results/melonnpan/MelonnPan_Predicted_Metabolites.txt \\\n",
    "    --metadata /home/data/IBD_test_metadata.txt \\\n",
    "    --output_plot /home/data/results/melonnpan/Top_25_metabolites_BC_PcoA.pdf'"
   ]
  },
  {
   "cell_type": "markdown",
   "metadata": {},
   "source": [
    "![**Top_25_metabolites_BC_PcoA**](results/melonnpan/Top_25_metabolites_BC_PcoA.pdf)"
   ]
  },
  {
   "cell_type": "markdown",
   "metadata": {},
   "source": [
    "3.3.7 基于代谢物丰度谱（前25种高丰度代谢物）和Spearman相关性度量对样本进行聚类分析"
   ]
  },
  {
   "cell_type": "code",
   "execution_count": 9,
   "metadata": {},
   "outputs": [],
   "source": [
    "MelonnPan_Predicted_Metabolites <- read.table(\"/work/results/melonnpan/MelonnPan_Predicted_Metabolites.txt\",stringsAsFactors=F,sep=\"\\t\",header=T)"
   ]
  },
  {
   "cell_type": "code",
   "execution_count": 10,
   "metadata": {},
   "outputs": [],
   "source": [
    "rownames(MelonnPan_Predicted_Metabolites) <- MelonnPan_Predicted_Metabolites$ID"
   ]
  },
  {
   "cell_type": "code",
   "execution_count": 11,
   "metadata": {},
   "outputs": [],
   "source": [
    "MelonnPan_Predicted_Metabolites <- MelonnPan_Predicted_Metabolites[,-1]"
   ]
  },
  {
   "cell_type": "code",
   "execution_count": 12,
   "metadata": {},
   "outputs": [],
   "source": [
    "write.table(t(MelonnPan_Predicted_Metabolites),\"/work/results/melonnpan/MelonnPan_Predicted_Metabolites_input_for_hclust2.txt\",quote=F,sep=\"\\t\")"
   ]
  },
  {
   "cell_type": "code",
   "execution_count": 4,
   "metadata": {},
   "outputs": [
    {
     "name": "stdout",
     "output_type": "stream",
     "text": [
      "/opt/conda/bin/hclust2.py:152: FutureWarning: read_table is deprecated, use read_csv instead.\n",
      "  index_col = self.args.sname_row if self.args.sname_row > -1 else None\n"
     ]
    }
   ],
   "source": [
    "!sudo docker run --rm -v /Volumes/Untitled:/home/data biobakery-workflows-add-r-6 bash \\\n",
    "    -c 'hclust2.py -i /home/data/results/melonnpan/MelonnPan_Predicted_Metabolites_input_for_hclust2.txt \\\n",
    "    -o /home/data/results/melonnpan/Metabolite_Spearman_Heatmap.pdf --ftop 25 \\\n",
    "    --f_dist_f spearman --s_dist_f spearman --cell_aspect_ratio 0.5 -l \\\n",
    "    --max_flabel_len 100 --max_slabel_len 100 --dpi 300 \\\n",
    "    --title \"Top 25 metabolites by average abundance (Spearman)\" \\\n",
    "    --title_fontsize 15'"
   ]
  },
  {
   "cell_type": "markdown",
   "metadata": {},
   "source": [
    "![**Metabolite_Spearman_Heatmap**](results/melonnpan/Metabolite_Spearman_Heatmap.pdf)"
   ]
  },
  {
   "cell_type": "markdown",
   "metadata": {},
   "source": [
    "图说明：图中亮蓝色方框表示健康人样本，其余样本表示CD病人。"
   ]
  },
  {
   "cell_type": "markdown",
   "metadata": {},
   "source": [
    "3.3.8 基于代谢物丰度谱（前25种高丰度代谢物）和Bray-Curtis距离对样本进行聚类分析"
   ]
  },
  {
   "cell_type": "code",
   "execution_count": 5,
   "metadata": {},
   "outputs": [
    {
     "name": "stdout",
     "output_type": "stream",
     "text": [
      "/opt/conda/bin/hclust2.py:152: FutureWarning: read_table is deprecated, use read_csv instead.\n",
      "  index_col = self.args.sname_row if self.args.sname_row > -1 else None\n"
     ]
    }
   ],
   "source": [
    "!sudo docker run --rm -v /Volumes/Untitled:/home/data biobakery-workflows-add-r-6 bash \\\n",
    "    -c 'hclust2.py -i /home/data/results/melonnpan/MelonnPan_Predicted_Metabolites_input_for_hclust2.txt \\\n",
    "    -o /home/data/results/melonnpan/Metabolite_BrayCurtis_Heatmap.pdf --ftop 25 \\\n",
    "    --f_dist_f braycurtis --s_dist_f braycurtis --cell_aspect_ratio 0.5 -l \\\n",
    "    --max_flabel_len 100 --max_slabel_len 100 --dpi 300 \\\n",
    "    --title \"Top 25 metabolites by average abundance (Bray-Curtis)\" \\\n",
    "    --title_fontsize 15'"
   ]
  },
  {
   "cell_type": "markdown",
   "metadata": {},
   "source": [
    "![**Metabolite_BrayCurtis_Heatmap**](results/melonnpan/Metabolite_BrayCurtis_Heatmap.pdf)"
   ]
  },
  {
   "cell_type": "markdown",
   "metadata": {},
   "source": [
    "图说明：图中亮蓝色方框表示健康人样本，其余样本表示CD病人。"
   ]
  },
  {
   "cell_type": "markdown",
   "metadata": {},
   "source": [
    "3.3.9 各样本高丰度代谢物组成图（前15种高丰度代谢物）"
   ]
  },
  {
   "cell_type": "code",
   "execution_count": 1,
   "metadata": {},
   "outputs": [],
   "source": [
    "!sudo docker run --rm -v /Volumes/Untitled:/home/data biobakery-workflows-add-r-6 bash \\\n",
    "    -c 'Rscript /home/data/Metabolites_Barplot.R \\\n",
    "    --metabolite_profile /home/data/results/melonnpan/MelonnPan_Predicted_Metabolites_input_for_hclust2.txt \\\n",
    "    --metadata /home/data/IBD_test_metadata.txt \\\n",
    "    --output_plot /home/data/results/melonnpan/Top_15_metabolites_Barplot.pdf'"
   ]
  },
  {
   "cell_type": "markdown",
   "metadata": {},
   "source": [
    "![**Top_15_metabolites_Barplot**](results/melonnpan/Top_15_metabolites_Barplot.pdf)"
   ]
  },
  {
   "cell_type": "markdown",
   "metadata": {},
   "source": [
    "图说明：图中红色字体样本表示CD病人，蓝色字体样本表示健康人。"
   ]
  },
  {
   "cell_type": "code",
   "execution_count": null,
   "metadata": {},
   "outputs": [],
   "source": []
  },
  {
   "cell_type": "markdown",
   "metadata": {},
   "source": [
    "#### 3.4 群落结构、功能及代谢物的差异丰度分析和特征marker分析"
   ]
  },
  {
   "cell_type": "markdown",
   "metadata": {},
   "source": [
    "创建存放差异分析结果文件夹"
   ]
  },
  {
   "cell_type": "code",
   "execution_count": null,
   "metadata": {},
   "outputs": [],
   "source": [
    "!bash -c 'mkdir -p /work/results/metagenomeSeq/'"
   ]
  },
  {
   "cell_type": "markdown",
   "metadata": {},
   "source": [
    "3.4.1 群落结构差异分析"
   ]
  },
  {
   "cell_type": "markdown",
   "metadata": {},
   "source": [
    "3.4.1.1 不考虑混杂因素，在CD疾病和健康两种状态下，分析群落结构的差异丰度变化"
   ]
  },
  {
   "cell_type": "markdown",
   "metadata": {},
   "source": [
    "3.4.1.1.1 代码命令"
   ]
  },
  {
   "cell_type": "code",
   "execution_count": null,
   "metadata": {},
   "outputs": [],
   "source": [
    "!sudo docker run --rm -v /Volumes/Untitled:/home/data biobakery-workflows-add-r-6 bash \\\n",
    "    -c 'Rscript /home/data/metagenomeSeq_species_diagnosis.R \\\n",
    "    --taxonomic_profile /home/data/results/biobakery_workflows/metaphlan2/merged/metaphlan2_taxonomic_profiles.tsv \\\n",
    "    --metadata /home/data/IBD_test_metadata.txt \\\n",
    "    --read_count /home/data/results/biobakery_workflows_output_vis/data/humann2_read_and_species_count_table.tsv \\\n",
    "    --output_all /home/data/results/metagenomeSeq/CD_vs_nonIBD_species.txt \\\n",
    "    --output_DA /home/data/results/metagenomeSeq/CD_vs_nonIBD_species_DA.txt'"
   ]
  },
  {
   "cell_type": "markdown",
   "metadata": {},
   "source": [
    "参数说明：\n",
    "* --taxonomic_profile：3.2.6步骤中MetaPhlan2产生的物种分类丰度谱\n",
    "* --metadata：IBD项目的meta信息表格\n",
    "* --read_count：每个样本经过质控之后，用于物种分类丰度谱构建的测序序列数量\n",
    "* --output_all：输出所有物种的分析结果\n",
    "* --output_DA：输出具有差异丰度变化物种的分析结果"
   ]
  },
  {
   "cell_type": "markdown",
   "metadata": {},
   "source": [
    "从结果可以看出，一共有4个物种具有差异丰度变化，查看组间差异物种分类丰度谱/work/results/metagenomeSeq/CD_vs_nonIBD_species_DA.txt"
   ]
  },
  {
   "cell_type": "code",
   "execution_count": 13,
   "metadata": {},
   "outputs": [],
   "source": [
    "CD_vs_nonIBD_species_DA <- read.table(\"/work/results/metagenomeSeq/CD_vs_nonIBD_species_DA.txt\",stringsAsFactors=F,sep=\"\\t\",header=T)"
   ]
  },
  {
   "cell_type": "code",
   "execution_count": 14,
   "metadata": {},
   "outputs": [
    {
     "data": {
      "text/html": [
       "<table>\n",
       "<caption>A data.frame: 4 × 3</caption>\n",
       "<thead>\n",
       "\t<tr><th scope=col>species</th><th scope=col>fold_change</th><th scope=col>adjustPvalue</th></tr>\n",
       "\t<tr><th scope=col>&lt;chr&gt;</th><th scope=col>&lt;dbl&gt;</th><th scope=col>&lt;dbl&gt;</th></tr>\n",
       "</thead>\n",
       "<tbody>\n",
       "\t<tr><td>k__Bacteria|p__Verrucomicrobia|c__Verrucomicrobiae|o__Verrucomicrobiales|f__Verrucomicrobiaceae|g__Akkermansia|s__Akkermansia_muciniphila</td><td>  0.0000</td><td>2.143816e-07</td></tr>\n",
       "\t<tr><td>k__Bacteria|p__Bacteroidetes|c__Bacteroidia|o__Bacteroidales|f__Prevotellaceae|g__Prevotella|s__Prevotella_copri                         </td><td>  0.0000</td><td>1.161919e-04</td></tr>\n",
       "\t<tr><td>k__Bacteria|p__Bacteroidetes|c__Bacteroidia|o__Bacteroidales|f__Rikenellaceae|g__Alistipes|s__Alistipes_onderdonkii                      </td><td>  0.0000</td><td>1.190214e-02</td></tr>\n",
       "\t<tr><td>k__Bacteria|p__Proteobacteria|c__Deltaproteobacteria|o__Desulfovibrionales|f__Desulfovibrionaceae|g__Bilophila|s__Bilophila_wadsworthia  </td><td>936.3356</td><td>1.790751e-02</td></tr>\n",
       "</tbody>\n",
       "</table>\n"
      ],
      "text/latex": [
       "A data.frame: 4 × 3\n",
       "\\begin{tabular}{r|lll}\n",
       " species & fold\\_change & adjustPvalue\\\\\n",
       " <chr> & <dbl> & <dbl>\\\\\n",
       "\\hline\n",
       "\t k\\_\\_Bacteria\\textbar{}p\\_\\_Verrucomicrobia\\textbar{}c\\_\\_Verrucomicrobiae\\textbar{}o\\_\\_Verrucomicrobiales\\textbar{}f\\_\\_Verrucomicrobiaceae\\textbar{}g\\_\\_Akkermansia\\textbar{}s\\_\\_Akkermansia\\_muciniphila &   0.0000 & 2.143816e-07\\\\\n",
       "\t k\\_\\_Bacteria\\textbar{}p\\_\\_Bacteroidetes\\textbar{}c\\_\\_Bacteroidia\\textbar{}o\\_\\_Bacteroidales\\textbar{}f\\_\\_Prevotellaceae\\textbar{}g\\_\\_Prevotella\\textbar{}s\\_\\_Prevotella\\_copri                          &   0.0000 & 1.161919e-04\\\\\n",
       "\t k\\_\\_Bacteria\\textbar{}p\\_\\_Bacteroidetes\\textbar{}c\\_\\_Bacteroidia\\textbar{}o\\_\\_Bacteroidales\\textbar{}f\\_\\_Rikenellaceae\\textbar{}g\\_\\_Alistipes\\textbar{}s\\_\\_Alistipes\\_onderdonkii                       &   0.0000 & 1.190214e-02\\\\\n",
       "\t k\\_\\_Bacteria\\textbar{}p\\_\\_Proteobacteria\\textbar{}c\\_\\_Deltaproteobacteria\\textbar{}o\\_\\_Desulfovibrionales\\textbar{}f\\_\\_Desulfovibrionaceae\\textbar{}g\\_\\_Bilophila\\textbar{}s\\_\\_Bilophila\\_wadsworthia   & 936.3356 & 1.790751e-02\\\\\n",
       "\\end{tabular}\n"
      ],
      "text/markdown": [
       "\n",
       "A data.frame: 4 × 3\n",
       "\n",
       "| species &lt;chr&gt; | fold_change &lt;dbl&gt; | adjustPvalue &lt;dbl&gt; |\n",
       "|---|---|---|\n",
       "| k__Bacteria|p__Verrucomicrobia|c__Verrucomicrobiae|o__Verrucomicrobiales|f__Verrucomicrobiaceae|g__Akkermansia|s__Akkermansia_muciniphila |   0.0000 | 2.143816e-07 |\n",
       "| k__Bacteria|p__Bacteroidetes|c__Bacteroidia|o__Bacteroidales|f__Prevotellaceae|g__Prevotella|s__Prevotella_copri                          |   0.0000 | 1.161919e-04 |\n",
       "| k__Bacteria|p__Bacteroidetes|c__Bacteroidia|o__Bacteroidales|f__Rikenellaceae|g__Alistipes|s__Alistipes_onderdonkii                       |   0.0000 | 1.190214e-02 |\n",
       "| k__Bacteria|p__Proteobacteria|c__Deltaproteobacteria|o__Desulfovibrionales|f__Desulfovibrionaceae|g__Bilophila|s__Bilophila_wadsworthia   | 936.3356 | 1.790751e-02 |\n",
       "\n"
      ],
      "text/plain": [
       "  species                                                                                                                                  \n",
       "1 k__Bacteria|p__Verrucomicrobia|c__Verrucomicrobiae|o__Verrucomicrobiales|f__Verrucomicrobiaceae|g__Akkermansia|s__Akkermansia_muciniphila\n",
       "2 k__Bacteria|p__Bacteroidetes|c__Bacteroidia|o__Bacteroidales|f__Prevotellaceae|g__Prevotella|s__Prevotella_copri                         \n",
       "3 k__Bacteria|p__Bacteroidetes|c__Bacteroidia|o__Bacteroidales|f__Rikenellaceae|g__Alistipes|s__Alistipes_onderdonkii                      \n",
       "4 k__Bacteria|p__Proteobacteria|c__Deltaproteobacteria|o__Desulfovibrionales|f__Desulfovibrionaceae|g__Bilophila|s__Bilophila_wadsworthia  \n",
       "  fold_change adjustPvalue\n",
       "1   0.0000    2.143816e-07\n",
       "2   0.0000    1.161919e-04\n",
       "3   0.0000    1.190214e-02\n",
       "4 936.3356    1.790751e-02"
      ]
     },
     "metadata": {},
     "output_type": "display_data"
    }
   ],
   "source": [
    "CD_vs_nonIBD_species_DA"
   ]
  },
  {
   "cell_type": "markdown",
   "metadata": {},
   "source": [
    "3.4.1.1.2 基于差异物种丰度谱对样本进行聚类分析"
   ]
  },
  {
   "cell_type": "code",
   "execution_count": 1,
   "metadata": {},
   "outputs": [],
   "source": [
    "DA <- read.table(\"/work/results/metagenomeSeq/CD_vs_nonIBD_species_DA.txt\",stringsAsFactors=F,sep=\"\\t\",header=T)"
   ]
  },
  {
   "cell_type": "code",
   "execution_count": 2,
   "metadata": {},
   "outputs": [],
   "source": [
    "metaphlan2_taxonomic_profiles <- read.delim(\"/work/results/biobakery_workflows/metaphlan2/merged/metaphlan2_taxonomic_profiles.tsv\",stringsAsFactors=F,sep=\"\\t\",header=T)"
   ]
  },
  {
   "cell_type": "code",
   "execution_count": 3,
   "metadata": {},
   "outputs": [],
   "source": [
    "species_taxonomic_profiles <- metaphlan2_taxonomic_profiles[sapply(metaphlan2_taxonomic_profiles$X.SampleID,function(x) length(strsplit(x,\"\\\\|\")[[1]])==7),]"
   ]
  },
  {
   "cell_type": "code",
   "execution_count": 4,
   "metadata": {},
   "outputs": [],
   "source": [
    "species_taxonomic_profiles[,-1] <- species_taxonomic_profiles[,-1]/100"
   ]
  },
  {
   "cell_type": "code",
   "execution_count": 5,
   "metadata": {},
   "outputs": [],
   "source": [
    "colnames(species_taxonomic_profiles)[-1] <- sapply(colnames(species_taxonomic_profiles)[-1],function(x) strsplit(x,\"_\")[[1]][1])"
   ]
  },
  {
   "cell_type": "code",
   "execution_count": 6,
   "metadata": {},
   "outputs": [],
   "source": [
    "IBD_test_metadata <- read.table(\"/work/IBD_test_metadata.txt\",stringsAsFactors=F,sep=\"\\t\",header=T)"
   ]
  },
  {
   "cell_type": "code",
   "execution_count": 7,
   "metadata": {},
   "outputs": [],
   "source": [
    "read_count <- read.delim(\"/work/results/biobakery_workflows_output_vis/data/humann2_read_and_species_count_table.tsv\",stringsAsFactor=F,sep=\"\\t\")"
   ]
  },
  {
   "cell_type": "code",
   "execution_count": 8,
   "metadata": {},
   "outputs": [],
   "source": [
    "species_counts = sweep(species_taxonomic_profiles[,-1],2,read_count[match(colnames(species_taxonomic_profiles)[-1],read_count$X..samples),\"total.reads\"], \"*\")"
   ]
  },
  {
   "cell_type": "code",
   "execution_count": 9,
   "metadata": {},
   "outputs": [],
   "source": [
    "species_counts = round(species_counts)"
   ]
  },
  {
   "cell_type": "code",
   "execution_count": 10,
   "metadata": {},
   "outputs": [],
   "source": [
    "rownames(species_counts) <- species_taxonomic_profiles$X.SampleID"
   ]
  },
  {
   "cell_type": "code",
   "execution_count": 11,
   "metadata": {},
   "outputs": [],
   "source": [
    "DA_profile <- species_counts[match(DA$species,rownames(species_counts)),]"
   ]
  },
  {
   "cell_type": "code",
   "execution_count": 15,
   "metadata": {},
   "outputs": [],
   "source": [
    "write.table(DA_profile,\"/work/results/metagenomeSeq/CD_vs_nonIBD_species_DA_profile.txt\",quote=F,sep=\"\\t\")"
   ]
  },
  {
   "cell_type": "code",
   "execution_count": 16,
   "metadata": {},
   "outputs": [
    {
     "name": "stdout",
     "output_type": "stream",
     "text": [
      "/opt/conda/bin/hclust2.py:152: FutureWarning: read_table is deprecated, use read_csv instead.\n",
      "  index_col = self.args.sname_row if self.args.sname_row > -1 else None\n"
     ]
    }
   ],
   "source": [
    "!sudo docker run --rm -v /Volumes/Untitled:/home/data biobakery-workflows-add-r-6 bash \\\n",
    "    -c 'hclust2.py -i /home/data/results/metagenomeSeq/CD_vs_nonIBD_species_DA_profile.txt \\\n",
    "    -o /home/data/results/metagenomeSeq/DA_species_Heatmap.pdf \\\n",
    "    --cell_aspect_ratio 1.5 -l \\\n",
    "    --max_flabel_len 100 --max_slabel_len 100 --dpi 300 \\\n",
    "    --title \"Species with differential abundance\" \\\n",
    "    --title_fontsize 15 \\\n",
    "    --colorbar_font_size 10'"
   ]
  },
  {
   "cell_type": "markdown",
   "metadata": {},
   "source": [
    "![**DA_species_Heatmap**](results/metagenomeSeq/DA_species_Heatmap.pdf)"
   ]
  },
  {
   "cell_type": "markdown",
   "metadata": {},
   "source": [
    "图说明：图中亮蓝色方框表示健康人样本，其余样本表示CD病人。在4个具有差异物种的丰度谱中，CD病人聚成一支。差异物种Akkermansia_muciniphila、Alistipes_onderdonkii和Prevotella_copri显著下调，而Bilophila_wadsworthia显著上调。之前研究表明Bilophila_wadsworthia细菌肠道炎症失调的患者中高水平繁殖。"
   ]
  },
  {
   "cell_type": "markdown",
   "metadata": {},
   "source": [
    "3.4.1.2 以抗生素使用情况作为混杂因素，在CD疾病和健康两种状态下，分析群落结构的差异丰度变化"
   ]
  },
  {
   "cell_type": "markdown",
   "metadata": {},
   "source": [
    "说明：在样本数量足够多时，理论上，可以同时考虑多个混杂因素，考虑到测试数据样本量较少，因此我们这里混杂因素分析每次只考虑一个混杂因素。"
   ]
  },
  {
   "cell_type": "markdown",
   "metadata": {},
   "source": [
    "3.4.1.2.1 代码命令"
   ]
  },
  {
   "cell_type": "code",
   "execution_count": 81,
   "metadata": {},
   "outputs": [
    {
     "name": "stdout",
     "output_type": "stream",
     "text": [
      "Loading required package: Biobase\n",
      "Loading required package: BiocGenerics\n",
      "Loading required package: parallel\n",
      "\n",
      "Attaching package: ‘BiocGenerics’\n",
      "\n",
      "The following objects are masked from ‘package:parallel’:\n",
      "\n",
      "    clusterApply, clusterApplyLB, clusterCall, clusterEvalQ,\n",
      "    clusterExport, clusterMap, parApply, parCapply, parLapply,\n",
      "    parLapplyLB, parRapply, parSapply, parSapplyLB\n",
      "\n",
      "The following objects are masked from ‘package:stats’:\n",
      "\n",
      "    IQR, mad, sd, var, xtabs\n",
      "\n",
      "The following objects are masked from ‘package:base’:\n",
      "\n",
      "    anyDuplicated, append, as.data.frame, basename, cbind, colnames,\n",
      "    dirname, do.call, duplicated, eval, evalq, Filter, Find, get, grep,\n",
      "    grepl, intersect, is.unsorted, lapply, Map, mapply, match, mget,\n",
      "    order, paste, pmax, pmax.int, pmin, pmin.int, Position, rank,\n",
      "    rbind, Reduce, rownames, sapply, setdiff, sort, table, tapply,\n",
      "    union, unique, unsplit, which, which.max, which.min\n",
      "\n",
      "Welcome to Bioconductor\n",
      "\n",
      "    Vignettes contain introductory material; view with\n",
      "    'browseVignettes()'. To cite Bioconductor, see\n",
      "    'citation(\"Biobase\")', and for packages 'citation(\"pkgname\")'.\n",
      "\n",
      "Loading required package: limma\n",
      "\n",
      "Attaching package: ‘limma’\n",
      "\n",
      "The following object is masked from ‘package:BiocGenerics’:\n",
      "\n",
      "    plotMA\n",
      "\n",
      "Loading required package: glmnet\n",
      "Loading required package: Matrix\n",
      "Loaded glmnet 3.0-2\n",
      "\n",
      "Loading required package: RColorBrewer\n",
      "Default value being used.\n",
      "it= 0, nll=14.38, log10(eps+1)=Inf, stillActive=166\n",
      "it= 1, nll=14.28, log10(eps+1)=0.09, stillActive=92\n",
      "it= 2, nll=14.01, log10(eps+1)=0.08, stillActive=67\n",
      "it= 3, nll=14.96, log10(eps+1)=0.05, stillActive=11\n",
      "it= 4, nll=15.15, log10(eps+1)=0.00, stillActive=1\n",
      "it= 5, nll=15.17, log10(eps+1)=0.00, stillActive=0\n",
      "[1] \"Number of species with differential abundance:74\"\n"
     ]
    }
   ],
   "source": [
    "!sudo docker run --rm -v /Volumes/Untitled:/home/data biobakery-workflows-add-r-6 bash \\\n",
    "    -c 'Rscript /home/data/metagenomeSeq_species_diagnosis_confounder.R \\\n",
    "    --taxonomic_profile /home/data/results/biobakery_workflows/metaphlan2/merged/metaphlan2_taxonomic_profiles.tsv \\\n",
    "    --metadata /home/data/IBD_test_metadata.txt \\\n",
    "    --read_count /home/data/results/biobakery_workflows_output_vis/data/humann2_read_and_species_count_table.tsv \\\n",
    "    --output_all /home/data/results/metagenomeSeq/CD_vs_nonIBD_species_confounder_Antibiotics.txt \\\n",
    "    --output_DA /home/data/results/metagenomeSeq/CD_vs_nonIBD_species_DA_confounder_Antibiotics.txt \\\n",
    "    --confounder Antibiotics'    "
   ]
  },
  {
   "cell_type": "markdown",
   "metadata": {},
   "source": [
    "参数说明：\n",
    "* --taxonomic_profile：3.2.6步骤中MetaPhlan2产生的物种分类丰度谱\n",
    "* --metadata：IBD项目的meta信息表格\n",
    "* --read_count：每个样本经过质控之后，用于物种分类丰度谱构建的测序序列数量\n",
    "* --output_all：输出所有物种的分析结果\n",
    "* --output_DA：输出具有差异丰度变化物种的分析结果\n",
    "* --confounder：混杂因素名称"
   ]
  },
  {
   "cell_type": "markdown",
   "metadata": {},
   "source": [
    "从结果可以看出，在差异分析模型中考虑了抗生素使用情况这个混杂因素之后，一共有74个物种具有差异丰度变化，查看组间差异物种分类丰度谱/home/data/results/metagenomeSeq/CD_vs_nonIBD_species_DA_confounder_Antibiotics.txt"
   ]
  },
  {
   "cell_type": "code",
   "execution_count": 2,
   "metadata": {},
   "outputs": [],
   "source": [
    "CD_vs_nonIBD_species_DA_confounder_Antibiotics <- read.table(\"/work/results/metagenomeSeq/CD_vs_nonIBD_species_DA_confounder_Antibiotics.txt\",stringsAsFactors=F,sep=\"\\t\",header=T)"
   ]
  },
  {
   "cell_type": "code",
   "execution_count": 3,
   "metadata": {},
   "outputs": [
    {
     "data": {
      "text/html": [
       "<table>\n",
       "<caption>A data.frame: 74 × 3</caption>\n",
       "<thead>\n",
       "\t<tr><th scope=col>species</th><th scope=col>fold_change</th><th scope=col>adjustPvalue</th></tr>\n",
       "\t<tr><th scope=col>&lt;chr&gt;</th><th scope=col>&lt;dbl&gt;</th><th scope=col>&lt;dbl&gt;</th></tr>\n",
       "</thead>\n",
       "<tbody>\n",
       "\t<tr><td>k__Bacteria|p__Bacteroidetes|c__Bacteroidia|o__Bacteroidales|f__Prevotellaceae|g__Prevotella|s__Prevotella_copri                                    </td><td>0.000000e+00</td><td>3.819061e-12</td></tr>\n",
       "\t<tr><td>k__Bacteria|p__Firmicutes|c__Clostridia|o__Clostridiales|f__Lachnospiraceae|g__Coprococcus|s__Coprococcus_sp_ART55_1                                </td><td>0.000000e+00</td><td>3.725740e-07</td></tr>\n",
       "\t<tr><td>k__Bacteria|p__Verrucomicrobia|c__Verrucomicrobiae|o__Verrucomicrobiales|f__Verrucomicrobiaceae|g__Akkermansia|s__Akkermansia_muciniphila           </td><td>0.000000e+00</td><td>8.297757e-07</td></tr>\n",
       "\t<tr><td>k__Bacteria|p__Bacteroidetes|c__Bacteroidia|o__Bacteroidales|f__Bacteroidaceae|g__Bacteroides|s__Bacteroides_sp_1_1_6                               </td><td>         Inf</td><td>1.733825e-06</td></tr>\n",
       "\t<tr><td>k__Bacteria|p__Firmicutes|c__Clostridia|o__Clostridiales|f__Oscillospiraceae|g__Oscillibacter|s__Oscillibacter_sp_KLE_1745                          </td><td>         Inf</td><td>1.733825e-06</td></tr>\n",
       "\t<tr><td>k__Bacteria|p__Bacteroidetes|c__Bacteroidia|o__Bacteroidales|f__Bacteroidaceae|g__Bacteroides|s__Bacteroides_sp_4_3_47FAA                           </td><td>0.000000e+00</td><td>2.180688e-06</td></tr>\n",
       "\t<tr><td>k__Bacteria|p__Firmicutes|c__Clostridia|o__Clostridiales|f__Clostridiaceae|g__Clostridium|s__Clostridium_symbiosum                                  </td><td>         Inf</td><td>2.545477e-06</td></tr>\n",
       "\t<tr><td>k__Bacteria|p__Firmicutes|c__Clostridia|o__Clostridiales|f__Clostridiaceae|g__Clostridium|s__Clostridium_clostridioforme                            </td><td>         Inf</td><td>4.075885e-06</td></tr>\n",
       "\t<tr><td>k__Bacteria|p__Bacteroidetes|c__Bacteroidia|o__Bacteroidales|f__Bacteroidaceae|g__Bacteroides|s__Bacteroides_coprocola                              </td><td>0.000000e+00</td><td>4.627589e-06</td></tr>\n",
       "\t<tr><td>k__Bacteria|p__Bacteroidetes|c__Bacteroidia|o__Bacteroidales|f__Porphyromonadaceae|g__Barnesiella|s__Barnesiella_intestinihominis                   </td><td>1.786616e-01</td><td>4.627589e-06</td></tr>\n",
       "\t<tr><td>k__Bacteria|p__Bacteroidetes|c__Bacteroidia|o__Bacteroidales|f__Rikenellaceae|g__Alistipes|s__Alistipes_onderdonkii                                 </td><td>0.000000e+00</td><td>5.835094e-06</td></tr>\n",
       "\t<tr><td>k__Bacteria|p__Firmicutes|c__Clostridia|o__Clostridiales|f__Clostridiaceae|g__Clostridium|s__Clostridium_hathewayi                                  </td><td>         Inf</td><td>8.998488e-06</td></tr>\n",
       "\t<tr><td>k__Bacteria|p__Firmicutes|c__Negativicutes|o__Selenomonadales|f__Acidaminococcaceae|g__Phascolarctobacterium|s__Phascolarctobacterium_succinatutens </td><td>0.000000e+00</td><td>9.973117e-06</td></tr>\n",
       "\t<tr><td>k__Bacteria|p__Firmicutes|c__Clostridia|o__Clostridiales|f__Clostridiaceae|g__Clostridium|s__Clostridium_sp_KLE_1755                                </td><td>         Inf</td><td>1.068907e-05</td></tr>\n",
       "\t<tr><td>k__Bacteria|p__Bacteroidetes|c__Bacteroidia|o__Bacteroidales|f__Rikenellaceae|g__Alistipes|s__Alistipes_shahii                                      </td><td>1.122386e-02</td><td>1.194474e-05</td></tr>\n",
       "\t<tr><td>k__Bacteria|p__Bacteroidetes|c__Bacteroidia|o__Bacteroidales|f__Bacteroidaceae|g__Bacteroides|s__Bacteroides_finegoldii                             </td><td>0.000000e+00</td><td>1.345163e-05</td></tr>\n",
       "\t<tr><td>k__Bacteria|p__Firmicutes|c__Clostridia|o__Clostridiales|f__Eubacteriaceae|g__Eubacterium|s__Eubacterium_sp_3_1_31                                  </td><td>         Inf</td><td>1.446351e-05</td></tr>\n",
       "\t<tr><td>k__Bacteria|p__Firmicutes|c__Clostridia|o__Clostridiales|f__Clostridiaceae|g__Clostridium|s__Clostridium_asparagiforme                              </td><td>         Inf</td><td>1.720065e-05</td></tr>\n",
       "\t<tr><td>k__Bacteria|p__Firmicutes|c__Clostridia|o__Clostridiales|f__Ruminococcaceae|g__Ruminococcus|s__Ruminococcus_callidus                                </td><td>0.000000e+00</td><td>3.550747e-05</td></tr>\n",
       "\t<tr><td>k__Bacteria|p__Proteobacteria|c__Deltaproteobacteria|o__Desulfovibrionales|f__Desulfovibrionaceae|g__Desulfovibrio|s__Desulfovibrio_piger           </td><td>0.000000e+00</td><td>3.950881e-05</td></tr>\n",
       "\t<tr><td>k__Bacteria|p__Firmicutes|c__Clostridia|o__Clostridiales|f__Clostridiaceae|g__Clostridium|s__Clostridium_nexile                                     </td><td>         Inf</td><td>4.086152e-05</td></tr>\n",
       "\t<tr><td>k__Archaea|p__Euryarchaeota|c__Methanobacteria|o__Methanobacteriales|f__Methanobacteriaceae|g__Methanobrevibacter|s__Methanobrevibacter_smithii     </td><td>0.000000e+00</td><td>4.088700e-05</td></tr>\n",
       "\t<tr><td>k__Bacteria|p__Bacteroidetes|c__Bacteroidia|o__Bacteroidales|f__Rikenellaceae|g__Alistipes|s__Alistipes_finegoldii                                  </td><td>0.000000e+00</td><td>4.698641e-05</td></tr>\n",
       "\t<tr><td>k__Bacteria|p__Bacteroidetes|c__Bacteroidia|o__Bacteroidales|f__Bacteroidaceae|g__Bacteroides|s__Bacteroides_eggerthii                              </td><td>3.599094e-04</td><td>4.698641e-05</td></tr>\n",
       "\t<tr><td>k__Bacteria|p__Proteobacteria|c__Deltaproteobacteria|o__Desulfovibrionales|f__Desulfovibrionaceae|g__Bilophila|s__Bilophila_wadsworthia             </td><td>9.363356e+02</td><td>6.099762e-05</td></tr>\n",
       "\t<tr><td>k__Bacteria|p__Bacteroidetes|c__Bacteroidia|o__Bacteroidales|f__Bacteroidaceae|g__Bacteroides|s__Bacteroides_plebeius                               </td><td>0.000000e+00</td><td>6.421797e-05</td></tr>\n",
       "\t<tr><td>k__Bacteria|p__Actinobacteria|c__Actinobacteria|o__Bifidobacteriales|f__Bifidobacteriaceae|g__Bifidobacterium|s__Bifidobacterium_bifidum            </td><td>4.719788e-01</td><td>1.017304e-04</td></tr>\n",
       "\t<tr><td>k__Bacteria|p__Actinobacteria|c__Actinobacteria|o__Bifidobacteriales|f__Bifidobacteriaceae|g__Bifidobacterium|s__Bifidobacterium_adolescentis       </td><td>2.943803e-01</td><td>1.503561e-04</td></tr>\n",
       "\t<tr><td>k__Bacteria|p__Firmicutes|c__Clostridia|o__Clostridiales|f__Clostridiaceae|g__Clostridium|s__Clostridium_sp_D5                                      </td><td>         Inf</td><td>1.725472e-04</td></tr>\n",
       "\t<tr><td>k__Archaea|p__Euryarchaeota|c__Methanobacteria|o__Methanobacteriales|f__Methanobacteriaceae|g__Methanobrevibacter|s__Methanobrevibacter_unclassified</td><td>0.000000e+00</td><td>1.829639e-04</td></tr>\n",
       "\t<tr><td>⋮</td><td>⋮</td><td>⋮</td></tr>\n",
       "\t<tr><td>k__Bacteria|p__Bacteroidetes|c__Bacteroidia|o__Bacteroidales|f__Prevotellaceae|g__Prevotella|s__Prevotella_timonensis                                            </td><td>        Inf</td><td>0.001371200</td></tr>\n",
       "\t<tr><td>k__Bacteria|p__Firmicutes|c__Clostridia|o__Clostridiales|f__Clostridiales_noname|g__Clostridiales_noname|s__Clostridiales_bacterium_1_7_47FAA                    </td><td>75.32993004</td><td>0.001617747</td></tr>\n",
       "\t<tr><td>k__Bacteria|p__Firmicutes|c__Clostridia|o__Clostridiales|f__Lachnospiraceae|g__Butyrivibrio|s__Butyrivibrio_crossotus                                            </td><td> 0.00000000</td><td>0.001735883</td></tr>\n",
       "\t<tr><td>k__Bacteria|p__Firmicutes|c__Erysipelotrichia|o__Erysipelotrichales|f__Erysipelotrichaceae|g__Coprobacillus|s__Coprobacillus_unclassified                        </td><td>        Inf</td><td>0.001835627</td></tr>\n",
       "\t<tr><td>k__Bacteria|p__Bacteroidetes|c__Bacteroidia|o__Bacteroidales|f__Porphyromonadaceae|g__Porphyromonas|s__Porphyromonas_bennonis                                    </td><td>        Inf</td><td>0.002629983</td></tr>\n",
       "\t<tr><td>k__Bacteria|p__Firmicutes|c__Clostridia|o__Clostridiales|f__Lachnospiraceae|g__Lachnospiraceae_noname|s__Lachnospiraceae_bacterium_5_1_57FAA                     </td><td>        Inf</td><td>0.002990782</td></tr>\n",
       "\t<tr><td>k__Bacteria|p__Actinobacteria|c__Actinobacteria|o__Coriobacteriales|f__Coriobacteriaceae|g__Collinsella|s__Collinsella_unclassified                              </td><td> 0.00000000</td><td>0.003297376</td></tr>\n",
       "\t<tr><td>k__Bacteria|p__Proteobacteria|c__Gammaproteobacteria|o__Pasteurellales|f__Pasteurellaceae|g__Actinobacillus|s__Actinobacillus_unclassified                       </td><td>        Inf</td><td>0.003472965</td></tr>\n",
       "\t<tr><td>k__Bacteria|p__Actinobacteria|c__Actinobacteria|o__Coriobacteriales|f__Coriobacteriaceae|g__Eggerthella|s__Eggerthella_lenta                                     </td><td>        Inf</td><td>0.003789978</td></tr>\n",
       "\t<tr><td>k__Bacteria|p__Proteobacteria|c__Deltaproteobacteria|o__Desulfovibrionales|f__Desulfovibrionaceae|g__Desulfovibrio|s__Desulfovibrio_desulfuricans                </td><td> 0.00000000</td><td>0.003996297</td></tr>\n",
       "\t<tr><td>k__Bacteria|p__Bacteroidetes|c__Bacteroidia|o__Bacteroidales|f__Porphyromonadaceae|g__Porphyromonas|s__Porphyromonas_somerae                                     </td><td>        Inf</td><td>0.004413682</td></tr>\n",
       "\t<tr><td>k__Bacteria|p__Firmicutes|c__Clostridia|o__Clostridiales|f__Clostridiaceae|g__Clostridiaceae_noname|s__Clostridiaceae_bacterium_JC118                            </td><td>24.75188227</td><td>0.007928487</td></tr>\n",
       "\t<tr><td>k__Viruses|p__Viruses_noname|c__Viruses_noname|o__Viruses_noname|f__Retroviridae|g__Gammaretrovirus|s__Porcine_type_C_oncovirus                                  </td><td> 0.00000000</td><td>0.008357053</td></tr>\n",
       "\t<tr><td>k__Bacteria|p__Bacteroidetes|c__Bacteroidia|o__Bacteroidales|f__Porphyromonadaceae|g__Coprobacter|s__Coprobacter_fastidiosus                                     </td><td> 4.79127433</td><td>0.009152933</td></tr>\n",
       "\t<tr><td>k__Bacteria|p__Firmicutes|c__Erysipelotrichia|o__Erysipelotrichales|f__Erysipelotrichaceae|g__Erysipelotrichaceae_noname|s__Eubacterium_biforme                  </td><td> 0.00000000</td><td>0.010761197</td></tr>\n",
       "\t<tr><td>k__Bacteria|p__Firmicutes|c__Clostridia|o__Clostridiales|f__Lachnospiraceae|g__Lachnospiraceae_noname|s__Lachnospiraceae_bacterium_9_1_43BFAA                    </td><td>        Inf</td><td>0.012067128</td></tr>\n",
       "\t<tr><td>k__Bacteria|p__Bacteroidetes|c__Bacteroidia|o__Bacteroidales|f__Bacteroidaceae|g__Bacteroides|s__Bacteroides_thetaiotaomicron                                    </td><td> 0.03112551</td><td>0.013946649</td></tr>\n",
       "\t<tr><td>k__Bacteria|p__Bacteroidetes|c__Bacteroidia|o__Bacteroidales|f__Bacteroidales_noname|g__Bacteroidales_noname|s__Bacteroidales_bacterium_ph8                      </td><td> 0.02517771</td><td>0.017831071</td></tr>\n",
       "\t<tr><td>k__Bacteria|p__Bacteroidetes|c__Bacteroidia|o__Bacteroidales|f__Bacteroidaceae|g__Bacteroides|s__Bacteroides_fragilis                                            </td><td>10.60021433</td><td>0.021751918</td></tr>\n",
       "\t<tr><td>k__Bacteria|p__Actinobacteria|c__Actinobacteria|o__Actinomycetales|f__Micrococcaceae|g__Rothia|s__Rothia_mucilaginosa                                            </td><td> 0.00000000</td><td>0.022344542</td></tr>\n",
       "\t<tr><td>k__Bacteria|p__Bacteroidetes|c__Bacteroidia|o__Bacteroidales|f__Porphyromonadaceae|g__Parabacteroides|s__Parabacteroides_unclassified                            </td><td> 0.46189912</td><td>0.022344542</td></tr>\n",
       "\t<tr><td>k__Bacteria|p__Firmicutes|c__Clostridia|o__Clostridiales|f__Clostridiaceae|g__Clostridium|s__Clostridium_scindens                                                </td><td>        Inf</td><td>0.027006870</td></tr>\n",
       "\t<tr><td>k__Bacteria|p__Firmicutes|c__Erysipelotrichia|o__Erysipelotrichales|f__Erysipelotrichaceae|g__Erysipelotrichaceae_noname|s__Erysipelotrichaceae_bacterium_6_1_45 </td><td>        Inf</td><td>0.028845675</td></tr>\n",
       "\t<tr><td>k__Bacteria|p__Firmicutes|c__Erysipelotrichia|o__Erysipelotrichales|f__Erysipelotrichaceae|g__Erysipelotrichaceae_noname|s__Erysipelotrichaceae_bacterium_2_2_44A</td><td>        Inf</td><td>0.033475639</td></tr>\n",
       "\t<tr><td>k__Bacteria|p__Firmicutes|c__Negativicutes|o__Selenomonadales|f__Veillonellaceae|g__Megamonas|s__Megamonas_unclassified                                          </td><td> 0.00000000</td><td>0.034102070</td></tr>\n",
       "\t<tr><td>k__Bacteria|p__Bacteroidetes|c__Bacteroidia|o__Bacteroidales|f__Rikenellaceae|g__Alistipes|s__Alistipes_sp_AP11                                                  </td><td> 0.00000000</td><td>0.037277800</td></tr>\n",
       "\t<tr><td>k__Bacteria|p__Firmicutes|c__Clostridia|o__Clostridiales|f__Clostridiaceae|g__Clostridium|s__Clostridium_hylemonae                                               </td><td>        Inf</td><td>0.039670899</td></tr>\n",
       "\t<tr><td>k__Bacteria|p__Firmicutes|c__Negativicutes|o__Selenomonadales|f__Veillonellaceae|g__Megamonas|s__Megamonas_hypermegale                                           </td><td> 0.00000000</td><td>0.044421948</td></tr>\n",
       "\t<tr><td>k__Bacteria|p__Firmicutes|c__Clostridia|o__Clostridiales|f__Ruminococcaceae|g__Ruminococcus|s__Ruminococcus_lactaris                                             </td><td> 0.00000000</td><td>0.047432334</td></tr>\n",
       "\t<tr><td>k__Bacteria|p__Bacteroidetes|c__Bacteroidia|o__Bacteroidales|f__Bacteroidaceae|g__Bacteroides|s__Bacteroides_dorei                                               </td><td> 0.28191354</td><td>0.047847531</td></tr>\n",
       "</tbody>\n",
       "</table>\n"
      ],
      "text/latex": [
       "A data.frame: 74 × 3\n",
       "\\begin{tabular}{r|lll}\n",
       " species & fold\\_change & adjustPvalue\\\\\n",
       " <chr> & <dbl> & <dbl>\\\\\n",
       "\\hline\n",
       "\t k\\_\\_Bacteria\\textbar{}p\\_\\_Bacteroidetes\\textbar{}c\\_\\_Bacteroidia\\textbar{}o\\_\\_Bacteroidales\\textbar{}f\\_\\_Prevotellaceae\\textbar{}g\\_\\_Prevotella\\textbar{}s\\_\\_Prevotella\\_copri                                     & 0.000000e+00 & 3.819061e-12\\\\\n",
       "\t k\\_\\_Bacteria\\textbar{}p\\_\\_Firmicutes\\textbar{}c\\_\\_Clostridia\\textbar{}o\\_\\_Clostridiales\\textbar{}f\\_\\_Lachnospiraceae\\textbar{}g\\_\\_Coprococcus\\textbar{}s\\_\\_Coprococcus\\_sp\\_ART55\\_1                                 & 0.000000e+00 & 3.725740e-07\\\\\n",
       "\t k\\_\\_Bacteria\\textbar{}p\\_\\_Verrucomicrobia\\textbar{}c\\_\\_Verrucomicrobiae\\textbar{}o\\_\\_Verrucomicrobiales\\textbar{}f\\_\\_Verrucomicrobiaceae\\textbar{}g\\_\\_Akkermansia\\textbar{}s\\_\\_Akkermansia\\_muciniphila            & 0.000000e+00 & 8.297757e-07\\\\\n",
       "\t k\\_\\_Bacteria\\textbar{}p\\_\\_Bacteroidetes\\textbar{}c\\_\\_Bacteroidia\\textbar{}o\\_\\_Bacteroidales\\textbar{}f\\_\\_Bacteroidaceae\\textbar{}g\\_\\_Bacteroides\\textbar{}s\\_\\_Bacteroides\\_sp\\_1\\_1\\_6                                &          Inf & 1.733825e-06\\\\\n",
       "\t k\\_\\_Bacteria\\textbar{}p\\_\\_Firmicutes\\textbar{}c\\_\\_Clostridia\\textbar{}o\\_\\_Clostridiales\\textbar{}f\\_\\_Oscillospiraceae\\textbar{}g\\_\\_Oscillibacter\\textbar{}s\\_\\_Oscillibacter\\_sp\\_KLE\\_1745                           &          Inf & 1.733825e-06\\\\\n",
       "\t k\\_\\_Bacteria\\textbar{}p\\_\\_Bacteroidetes\\textbar{}c\\_\\_Bacteroidia\\textbar{}o\\_\\_Bacteroidales\\textbar{}f\\_\\_Bacteroidaceae\\textbar{}g\\_\\_Bacteroides\\textbar{}s\\_\\_Bacteroides\\_sp\\_4\\_3\\_47FAA                            & 0.000000e+00 & 2.180688e-06\\\\\n",
       "\t k\\_\\_Bacteria\\textbar{}p\\_\\_Firmicutes\\textbar{}c\\_\\_Clostridia\\textbar{}o\\_\\_Clostridiales\\textbar{}f\\_\\_Clostridiaceae\\textbar{}g\\_\\_Clostridium\\textbar{}s\\_\\_Clostridium\\_symbiosum                                   &          Inf & 2.545477e-06\\\\\n",
       "\t k\\_\\_Bacteria\\textbar{}p\\_\\_Firmicutes\\textbar{}c\\_\\_Clostridia\\textbar{}o\\_\\_Clostridiales\\textbar{}f\\_\\_Clostridiaceae\\textbar{}g\\_\\_Clostridium\\textbar{}s\\_\\_Clostridium\\_clostridioforme                             &          Inf & 4.075885e-06\\\\\n",
       "\t k\\_\\_Bacteria\\textbar{}p\\_\\_Bacteroidetes\\textbar{}c\\_\\_Bacteroidia\\textbar{}o\\_\\_Bacteroidales\\textbar{}f\\_\\_Bacteroidaceae\\textbar{}g\\_\\_Bacteroides\\textbar{}s\\_\\_Bacteroides\\_coprocola                               & 0.000000e+00 & 4.627589e-06\\\\\n",
       "\t k\\_\\_Bacteria\\textbar{}p\\_\\_Bacteroidetes\\textbar{}c\\_\\_Bacteroidia\\textbar{}o\\_\\_Bacteroidales\\textbar{}f\\_\\_Porphyromonadaceae\\textbar{}g\\_\\_Barnesiella\\textbar{}s\\_\\_Barnesiella\\_intestinihominis                    & 1.786616e-01 & 4.627589e-06\\\\\n",
       "\t k\\_\\_Bacteria\\textbar{}p\\_\\_Bacteroidetes\\textbar{}c\\_\\_Bacteroidia\\textbar{}o\\_\\_Bacteroidales\\textbar{}f\\_\\_Rikenellaceae\\textbar{}g\\_\\_Alistipes\\textbar{}s\\_\\_Alistipes\\_onderdonkii                                  & 0.000000e+00 & 5.835094e-06\\\\\n",
       "\t k\\_\\_Bacteria\\textbar{}p\\_\\_Firmicutes\\textbar{}c\\_\\_Clostridia\\textbar{}o\\_\\_Clostridiales\\textbar{}f\\_\\_Clostridiaceae\\textbar{}g\\_\\_Clostridium\\textbar{}s\\_\\_Clostridium\\_hathewayi                                   &          Inf & 8.998488e-06\\\\\n",
       "\t k\\_\\_Bacteria\\textbar{}p\\_\\_Firmicutes\\textbar{}c\\_\\_Negativicutes\\textbar{}o\\_\\_Selenomonadales\\textbar{}f\\_\\_Acidaminococcaceae\\textbar{}g\\_\\_Phascolarctobacterium\\textbar{}s\\_\\_Phascolarctobacterium\\_succinatutens  & 0.000000e+00 & 9.973117e-06\\\\\n",
       "\t k\\_\\_Bacteria\\textbar{}p\\_\\_Firmicutes\\textbar{}c\\_\\_Clostridia\\textbar{}o\\_\\_Clostridiales\\textbar{}f\\_\\_Clostridiaceae\\textbar{}g\\_\\_Clostridium\\textbar{}s\\_\\_Clostridium\\_sp\\_KLE\\_1755                                 &          Inf & 1.068907e-05\\\\\n",
       "\t k\\_\\_Bacteria\\textbar{}p\\_\\_Bacteroidetes\\textbar{}c\\_\\_Bacteroidia\\textbar{}o\\_\\_Bacteroidales\\textbar{}f\\_\\_Rikenellaceae\\textbar{}g\\_\\_Alistipes\\textbar{}s\\_\\_Alistipes\\_shahii                                       & 1.122386e-02 & 1.194474e-05\\\\\n",
       "\t k\\_\\_Bacteria\\textbar{}p\\_\\_Bacteroidetes\\textbar{}c\\_\\_Bacteroidia\\textbar{}o\\_\\_Bacteroidales\\textbar{}f\\_\\_Bacteroidaceae\\textbar{}g\\_\\_Bacteroides\\textbar{}s\\_\\_Bacteroides\\_finegoldii                              & 0.000000e+00 & 1.345163e-05\\\\\n",
       "\t k\\_\\_Bacteria\\textbar{}p\\_\\_Firmicutes\\textbar{}c\\_\\_Clostridia\\textbar{}o\\_\\_Clostridiales\\textbar{}f\\_\\_Eubacteriaceae\\textbar{}g\\_\\_Eubacterium\\textbar{}s\\_\\_Eubacterium\\_sp\\_3\\_1\\_31                                   &          Inf & 1.446351e-05\\\\\n",
       "\t k\\_\\_Bacteria\\textbar{}p\\_\\_Firmicutes\\textbar{}c\\_\\_Clostridia\\textbar{}o\\_\\_Clostridiales\\textbar{}f\\_\\_Clostridiaceae\\textbar{}g\\_\\_Clostridium\\textbar{}s\\_\\_Clostridium\\_asparagiforme                               &          Inf & 1.720065e-05\\\\\n",
       "\t k\\_\\_Bacteria\\textbar{}p\\_\\_Firmicutes\\textbar{}c\\_\\_Clostridia\\textbar{}o\\_\\_Clostridiales\\textbar{}f\\_\\_Ruminococcaceae\\textbar{}g\\_\\_Ruminococcus\\textbar{}s\\_\\_Ruminococcus\\_callidus                                 & 0.000000e+00 & 3.550747e-05\\\\\n",
       "\t k\\_\\_Bacteria\\textbar{}p\\_\\_Proteobacteria\\textbar{}c\\_\\_Deltaproteobacteria\\textbar{}o\\_\\_Desulfovibrionales\\textbar{}f\\_\\_Desulfovibrionaceae\\textbar{}g\\_\\_Desulfovibrio\\textbar{}s\\_\\_Desulfovibrio\\_piger            & 0.000000e+00 & 3.950881e-05\\\\\n",
       "\t k\\_\\_Bacteria\\textbar{}p\\_\\_Firmicutes\\textbar{}c\\_\\_Clostridia\\textbar{}o\\_\\_Clostridiales\\textbar{}f\\_\\_Clostridiaceae\\textbar{}g\\_\\_Clostridium\\textbar{}s\\_\\_Clostridium\\_nexile                                      &          Inf & 4.086152e-05\\\\\n",
       "\t k\\_\\_Archaea\\textbar{}p\\_\\_Euryarchaeota\\textbar{}c\\_\\_Methanobacteria\\textbar{}o\\_\\_Methanobacteriales\\textbar{}f\\_\\_Methanobacteriaceae\\textbar{}g\\_\\_Methanobrevibacter\\textbar{}s\\_\\_Methanobrevibacter\\_smithii      & 0.000000e+00 & 4.088700e-05\\\\\n",
       "\t k\\_\\_Bacteria\\textbar{}p\\_\\_Bacteroidetes\\textbar{}c\\_\\_Bacteroidia\\textbar{}o\\_\\_Bacteroidales\\textbar{}f\\_\\_Rikenellaceae\\textbar{}g\\_\\_Alistipes\\textbar{}s\\_\\_Alistipes\\_finegoldii                                   & 0.000000e+00 & 4.698641e-05\\\\\n",
       "\t k\\_\\_Bacteria\\textbar{}p\\_\\_Bacteroidetes\\textbar{}c\\_\\_Bacteroidia\\textbar{}o\\_\\_Bacteroidales\\textbar{}f\\_\\_Bacteroidaceae\\textbar{}g\\_\\_Bacteroides\\textbar{}s\\_\\_Bacteroides\\_eggerthii                               & 3.599094e-04 & 4.698641e-05\\\\\n",
       "\t k\\_\\_Bacteria\\textbar{}p\\_\\_Proteobacteria\\textbar{}c\\_\\_Deltaproteobacteria\\textbar{}o\\_\\_Desulfovibrionales\\textbar{}f\\_\\_Desulfovibrionaceae\\textbar{}g\\_\\_Bilophila\\textbar{}s\\_\\_Bilophila\\_wadsworthia              & 9.363356e+02 & 6.099762e-05\\\\\n",
       "\t k\\_\\_Bacteria\\textbar{}p\\_\\_Bacteroidetes\\textbar{}c\\_\\_Bacteroidia\\textbar{}o\\_\\_Bacteroidales\\textbar{}f\\_\\_Bacteroidaceae\\textbar{}g\\_\\_Bacteroides\\textbar{}s\\_\\_Bacteroides\\_plebeius                                & 0.000000e+00 & 6.421797e-05\\\\\n",
       "\t k\\_\\_Bacteria\\textbar{}p\\_\\_Actinobacteria\\textbar{}c\\_\\_Actinobacteria\\textbar{}o\\_\\_Bifidobacteriales\\textbar{}f\\_\\_Bifidobacteriaceae\\textbar{}g\\_\\_Bifidobacterium\\textbar{}s\\_\\_Bifidobacterium\\_bifidum             & 4.719788e-01 & 1.017304e-04\\\\\n",
       "\t k\\_\\_Bacteria\\textbar{}p\\_\\_Actinobacteria\\textbar{}c\\_\\_Actinobacteria\\textbar{}o\\_\\_Bifidobacteriales\\textbar{}f\\_\\_Bifidobacteriaceae\\textbar{}g\\_\\_Bifidobacterium\\textbar{}s\\_\\_Bifidobacterium\\_adolescentis        & 2.943803e-01 & 1.503561e-04\\\\\n",
       "\t k\\_\\_Bacteria\\textbar{}p\\_\\_Firmicutes\\textbar{}c\\_\\_Clostridia\\textbar{}o\\_\\_Clostridiales\\textbar{}f\\_\\_Clostridiaceae\\textbar{}g\\_\\_Clostridium\\textbar{}s\\_\\_Clostridium\\_sp\\_D5                                       &          Inf & 1.725472e-04\\\\\n",
       "\t k\\_\\_Archaea\\textbar{}p\\_\\_Euryarchaeota\\textbar{}c\\_\\_Methanobacteria\\textbar{}o\\_\\_Methanobacteriales\\textbar{}f\\_\\_Methanobacteriaceae\\textbar{}g\\_\\_Methanobrevibacter\\textbar{}s\\_\\_Methanobrevibacter\\_unclassified & 0.000000e+00 & 1.829639e-04\\\\\n",
       "\t ⋮ & ⋮ & ⋮\\\\\n",
       "\t k\\_\\_Bacteria\\textbar{}p\\_\\_Bacteroidetes\\textbar{}c\\_\\_Bacteroidia\\textbar{}o\\_\\_Bacteroidales\\textbar{}f\\_\\_Prevotellaceae\\textbar{}g\\_\\_Prevotella\\textbar{}s\\_\\_Prevotella\\_timonensis                                             &         Inf & 0.001371200\\\\\n",
       "\t k\\_\\_Bacteria\\textbar{}p\\_\\_Firmicutes\\textbar{}c\\_\\_Clostridia\\textbar{}o\\_\\_Clostridiales\\textbar{}f\\_\\_Clostridiales\\_noname\\textbar{}g\\_\\_Clostridiales\\_noname\\textbar{}s\\_\\_Clostridiales\\_bacterium\\_1\\_7\\_47FAA                     & 75.32993004 & 0.001617747\\\\\n",
       "\t k\\_\\_Bacteria\\textbar{}p\\_\\_Firmicutes\\textbar{}c\\_\\_Clostridia\\textbar{}o\\_\\_Clostridiales\\textbar{}f\\_\\_Lachnospiraceae\\textbar{}g\\_\\_Butyrivibrio\\textbar{}s\\_\\_Butyrivibrio\\_crossotus                                             &  0.00000000 & 0.001735883\\\\\n",
       "\t k\\_\\_Bacteria\\textbar{}p\\_\\_Firmicutes\\textbar{}c\\_\\_Erysipelotrichia\\textbar{}o\\_\\_Erysipelotrichales\\textbar{}f\\_\\_Erysipelotrichaceae\\textbar{}g\\_\\_Coprobacillus\\textbar{}s\\_\\_Coprobacillus\\_unclassified                         &         Inf & 0.001835627\\\\\n",
       "\t k\\_\\_Bacteria\\textbar{}p\\_\\_Bacteroidetes\\textbar{}c\\_\\_Bacteroidia\\textbar{}o\\_\\_Bacteroidales\\textbar{}f\\_\\_Porphyromonadaceae\\textbar{}g\\_\\_Porphyromonas\\textbar{}s\\_\\_Porphyromonas\\_bennonis                                     &         Inf & 0.002629983\\\\\n",
       "\t k\\_\\_Bacteria\\textbar{}p\\_\\_Firmicutes\\textbar{}c\\_\\_Clostridia\\textbar{}o\\_\\_Clostridiales\\textbar{}f\\_\\_Lachnospiraceae\\textbar{}g\\_\\_Lachnospiraceae\\_noname\\textbar{}s\\_\\_Lachnospiraceae\\_bacterium\\_5\\_1\\_57FAA                      &         Inf & 0.002990782\\\\\n",
       "\t k\\_\\_Bacteria\\textbar{}p\\_\\_Actinobacteria\\textbar{}c\\_\\_Actinobacteria\\textbar{}o\\_\\_Coriobacteriales\\textbar{}f\\_\\_Coriobacteriaceae\\textbar{}g\\_\\_Collinsella\\textbar{}s\\_\\_Collinsella\\_unclassified                               &  0.00000000 & 0.003297376\\\\\n",
       "\t k\\_\\_Bacteria\\textbar{}p\\_\\_Proteobacteria\\textbar{}c\\_\\_Gammaproteobacteria\\textbar{}o\\_\\_Pasteurellales\\textbar{}f\\_\\_Pasteurellaceae\\textbar{}g\\_\\_Actinobacillus\\textbar{}s\\_\\_Actinobacillus\\_unclassified                        &         Inf & 0.003472965\\\\\n",
       "\t k\\_\\_Bacteria\\textbar{}p\\_\\_Actinobacteria\\textbar{}c\\_\\_Actinobacteria\\textbar{}o\\_\\_Coriobacteriales\\textbar{}f\\_\\_Coriobacteriaceae\\textbar{}g\\_\\_Eggerthella\\textbar{}s\\_\\_Eggerthella\\_lenta                                      &         Inf & 0.003789978\\\\\n",
       "\t k\\_\\_Bacteria\\textbar{}p\\_\\_Proteobacteria\\textbar{}c\\_\\_Deltaproteobacteria\\textbar{}o\\_\\_Desulfovibrionales\\textbar{}f\\_\\_Desulfovibrionaceae\\textbar{}g\\_\\_Desulfovibrio\\textbar{}s\\_\\_Desulfovibrio\\_desulfuricans                 &  0.00000000 & 0.003996297\\\\\n",
       "\t k\\_\\_Bacteria\\textbar{}p\\_\\_Bacteroidetes\\textbar{}c\\_\\_Bacteroidia\\textbar{}o\\_\\_Bacteroidales\\textbar{}f\\_\\_Porphyromonadaceae\\textbar{}g\\_\\_Porphyromonas\\textbar{}s\\_\\_Porphyromonas\\_somerae                                      &         Inf & 0.004413682\\\\\n",
       "\t k\\_\\_Bacteria\\textbar{}p\\_\\_Firmicutes\\textbar{}c\\_\\_Clostridia\\textbar{}o\\_\\_Clostridiales\\textbar{}f\\_\\_Clostridiaceae\\textbar{}g\\_\\_Clostridiaceae\\_noname\\textbar{}s\\_\\_Clostridiaceae\\_bacterium\\_JC118                             & 24.75188227 & 0.007928487\\\\\n",
       "\t k\\_\\_Viruses\\textbar{}p\\_\\_Viruses\\_noname\\textbar{}c\\_\\_Viruses\\_noname\\textbar{}o\\_\\_Viruses\\_noname\\textbar{}f\\_\\_Retroviridae\\textbar{}g\\_\\_Gammaretrovirus\\textbar{}s\\_\\_Porcine\\_type\\_C\\_oncovirus                                   &  0.00000000 & 0.008357053\\\\\n",
       "\t k\\_\\_Bacteria\\textbar{}p\\_\\_Bacteroidetes\\textbar{}c\\_\\_Bacteroidia\\textbar{}o\\_\\_Bacteroidales\\textbar{}f\\_\\_Porphyromonadaceae\\textbar{}g\\_\\_Coprobacter\\textbar{}s\\_\\_Coprobacter\\_fastidiosus                                      &  4.79127433 & 0.009152933\\\\\n",
       "\t k\\_\\_Bacteria\\textbar{}p\\_\\_Firmicutes\\textbar{}c\\_\\_Erysipelotrichia\\textbar{}o\\_\\_Erysipelotrichales\\textbar{}f\\_\\_Erysipelotrichaceae\\textbar{}g\\_\\_Erysipelotrichaceae\\_noname\\textbar{}s\\_\\_Eubacterium\\_biforme                   &  0.00000000 & 0.010761197\\\\\n",
       "\t k\\_\\_Bacteria\\textbar{}p\\_\\_Firmicutes\\textbar{}c\\_\\_Clostridia\\textbar{}o\\_\\_Clostridiales\\textbar{}f\\_\\_Lachnospiraceae\\textbar{}g\\_\\_Lachnospiraceae\\_noname\\textbar{}s\\_\\_Lachnospiraceae\\_bacterium\\_9\\_1\\_43BFAA                     &         Inf & 0.012067128\\\\\n",
       "\t k\\_\\_Bacteria\\textbar{}p\\_\\_Bacteroidetes\\textbar{}c\\_\\_Bacteroidia\\textbar{}o\\_\\_Bacteroidales\\textbar{}f\\_\\_Bacteroidaceae\\textbar{}g\\_\\_Bacteroides\\textbar{}s\\_\\_Bacteroides\\_thetaiotaomicron                                     &  0.03112551 & 0.013946649\\\\\n",
       "\t k\\_\\_Bacteria\\textbar{}p\\_\\_Bacteroidetes\\textbar{}c\\_\\_Bacteroidia\\textbar{}o\\_\\_Bacteroidales\\textbar{}f\\_\\_Bacteroidales\\_noname\\textbar{}g\\_\\_Bacteroidales\\_noname\\textbar{}s\\_\\_Bacteroidales\\_bacterium\\_ph8                       &  0.02517771 & 0.017831071\\\\\n",
       "\t k\\_\\_Bacteria\\textbar{}p\\_\\_Bacteroidetes\\textbar{}c\\_\\_Bacteroidia\\textbar{}o\\_\\_Bacteroidales\\textbar{}f\\_\\_Bacteroidaceae\\textbar{}g\\_\\_Bacteroides\\textbar{}s\\_\\_Bacteroides\\_fragilis                                             & 10.60021433 & 0.021751918\\\\\n",
       "\t k\\_\\_Bacteria\\textbar{}p\\_\\_Actinobacteria\\textbar{}c\\_\\_Actinobacteria\\textbar{}o\\_\\_Actinomycetales\\textbar{}f\\_\\_Micrococcaceae\\textbar{}g\\_\\_Rothia\\textbar{}s\\_\\_Rothia\\_mucilaginosa                                             &  0.00000000 & 0.022344542\\\\\n",
       "\t k\\_\\_Bacteria\\textbar{}p\\_\\_Bacteroidetes\\textbar{}c\\_\\_Bacteroidia\\textbar{}o\\_\\_Bacteroidales\\textbar{}f\\_\\_Porphyromonadaceae\\textbar{}g\\_\\_Parabacteroides\\textbar{}s\\_\\_Parabacteroides\\_unclassified                             &  0.46189912 & 0.022344542\\\\\n",
       "\t k\\_\\_Bacteria\\textbar{}p\\_\\_Firmicutes\\textbar{}c\\_\\_Clostridia\\textbar{}o\\_\\_Clostridiales\\textbar{}f\\_\\_Clostridiaceae\\textbar{}g\\_\\_Clostridium\\textbar{}s\\_\\_Clostridium\\_scindens                                                 &         Inf & 0.027006870\\\\\n",
       "\t k\\_\\_Bacteria\\textbar{}p\\_\\_Firmicutes\\textbar{}c\\_\\_Erysipelotrichia\\textbar{}o\\_\\_Erysipelotrichales\\textbar{}f\\_\\_Erysipelotrichaceae\\textbar{}g\\_\\_Erysipelotrichaceae\\_noname\\textbar{}s\\_\\_Erysipelotrichaceae\\_bacterium\\_6\\_1\\_45  &         Inf & 0.028845675\\\\\n",
       "\t k\\_\\_Bacteria\\textbar{}p\\_\\_Firmicutes\\textbar{}c\\_\\_Erysipelotrichia\\textbar{}o\\_\\_Erysipelotrichales\\textbar{}f\\_\\_Erysipelotrichaceae\\textbar{}g\\_\\_Erysipelotrichaceae\\_noname\\textbar{}s\\_\\_Erysipelotrichaceae\\_bacterium\\_2\\_2\\_44A &         Inf & 0.033475639\\\\\n",
       "\t k\\_\\_Bacteria\\textbar{}p\\_\\_Firmicutes\\textbar{}c\\_\\_Negativicutes\\textbar{}o\\_\\_Selenomonadales\\textbar{}f\\_\\_Veillonellaceae\\textbar{}g\\_\\_Megamonas\\textbar{}s\\_\\_Megamonas\\_unclassified                                           &  0.00000000 & 0.034102070\\\\\n",
       "\t k\\_\\_Bacteria\\textbar{}p\\_\\_Bacteroidetes\\textbar{}c\\_\\_Bacteroidia\\textbar{}o\\_\\_Bacteroidales\\textbar{}f\\_\\_Rikenellaceae\\textbar{}g\\_\\_Alistipes\\textbar{}s\\_\\_Alistipes\\_sp\\_AP11                                                   &  0.00000000 & 0.037277800\\\\\n",
       "\t k\\_\\_Bacteria\\textbar{}p\\_\\_Firmicutes\\textbar{}c\\_\\_Clostridia\\textbar{}o\\_\\_Clostridiales\\textbar{}f\\_\\_Clostridiaceae\\textbar{}g\\_\\_Clostridium\\textbar{}s\\_\\_Clostridium\\_hylemonae                                                &         Inf & 0.039670899\\\\\n",
       "\t k\\_\\_Bacteria\\textbar{}p\\_\\_Firmicutes\\textbar{}c\\_\\_Negativicutes\\textbar{}o\\_\\_Selenomonadales\\textbar{}f\\_\\_Veillonellaceae\\textbar{}g\\_\\_Megamonas\\textbar{}s\\_\\_Megamonas\\_hypermegale                                            &  0.00000000 & 0.044421948\\\\\n",
       "\t k\\_\\_Bacteria\\textbar{}p\\_\\_Firmicutes\\textbar{}c\\_\\_Clostridia\\textbar{}o\\_\\_Clostridiales\\textbar{}f\\_\\_Ruminococcaceae\\textbar{}g\\_\\_Ruminococcus\\textbar{}s\\_\\_Ruminococcus\\_lactaris                                              &  0.00000000 & 0.047432334\\\\\n",
       "\t k\\_\\_Bacteria\\textbar{}p\\_\\_Bacteroidetes\\textbar{}c\\_\\_Bacteroidia\\textbar{}o\\_\\_Bacteroidales\\textbar{}f\\_\\_Bacteroidaceae\\textbar{}g\\_\\_Bacteroides\\textbar{}s\\_\\_Bacteroides\\_dorei                                                &  0.28191354 & 0.047847531\\\\\n",
       "\\end{tabular}\n"
      ],
      "text/markdown": [
       "\n",
       "A data.frame: 74 × 3\n",
       "\n",
       "| species &lt;chr&gt; | fold_change &lt;dbl&gt; | adjustPvalue &lt;dbl&gt; |\n",
       "|---|---|---|\n",
       "| k__Bacteria|p__Bacteroidetes|c__Bacteroidia|o__Bacteroidales|f__Prevotellaceae|g__Prevotella|s__Prevotella_copri                                     | 0.000000e+00 | 3.819061e-12 |\n",
       "| k__Bacteria|p__Firmicutes|c__Clostridia|o__Clostridiales|f__Lachnospiraceae|g__Coprococcus|s__Coprococcus_sp_ART55_1                                 | 0.000000e+00 | 3.725740e-07 |\n",
       "| k__Bacteria|p__Verrucomicrobia|c__Verrucomicrobiae|o__Verrucomicrobiales|f__Verrucomicrobiaceae|g__Akkermansia|s__Akkermansia_muciniphila            | 0.000000e+00 | 8.297757e-07 |\n",
       "| k__Bacteria|p__Bacteroidetes|c__Bacteroidia|o__Bacteroidales|f__Bacteroidaceae|g__Bacteroides|s__Bacteroides_sp_1_1_6                                |          Inf | 1.733825e-06 |\n",
       "| k__Bacteria|p__Firmicutes|c__Clostridia|o__Clostridiales|f__Oscillospiraceae|g__Oscillibacter|s__Oscillibacter_sp_KLE_1745                           |          Inf | 1.733825e-06 |\n",
       "| k__Bacteria|p__Bacteroidetes|c__Bacteroidia|o__Bacteroidales|f__Bacteroidaceae|g__Bacteroides|s__Bacteroides_sp_4_3_47FAA                            | 0.000000e+00 | 2.180688e-06 |\n",
       "| k__Bacteria|p__Firmicutes|c__Clostridia|o__Clostridiales|f__Clostridiaceae|g__Clostridium|s__Clostridium_symbiosum                                   |          Inf | 2.545477e-06 |\n",
       "| k__Bacteria|p__Firmicutes|c__Clostridia|o__Clostridiales|f__Clostridiaceae|g__Clostridium|s__Clostridium_clostridioforme                             |          Inf | 4.075885e-06 |\n",
       "| k__Bacteria|p__Bacteroidetes|c__Bacteroidia|o__Bacteroidales|f__Bacteroidaceae|g__Bacteroides|s__Bacteroides_coprocola                               | 0.000000e+00 | 4.627589e-06 |\n",
       "| k__Bacteria|p__Bacteroidetes|c__Bacteroidia|o__Bacteroidales|f__Porphyromonadaceae|g__Barnesiella|s__Barnesiella_intestinihominis                    | 1.786616e-01 | 4.627589e-06 |\n",
       "| k__Bacteria|p__Bacteroidetes|c__Bacteroidia|o__Bacteroidales|f__Rikenellaceae|g__Alistipes|s__Alistipes_onderdonkii                                  | 0.000000e+00 | 5.835094e-06 |\n",
       "| k__Bacteria|p__Firmicutes|c__Clostridia|o__Clostridiales|f__Clostridiaceae|g__Clostridium|s__Clostridium_hathewayi                                   |          Inf | 8.998488e-06 |\n",
       "| k__Bacteria|p__Firmicutes|c__Negativicutes|o__Selenomonadales|f__Acidaminococcaceae|g__Phascolarctobacterium|s__Phascolarctobacterium_succinatutens  | 0.000000e+00 | 9.973117e-06 |\n",
       "| k__Bacteria|p__Firmicutes|c__Clostridia|o__Clostridiales|f__Clostridiaceae|g__Clostridium|s__Clostridium_sp_KLE_1755                                 |          Inf | 1.068907e-05 |\n",
       "| k__Bacteria|p__Bacteroidetes|c__Bacteroidia|o__Bacteroidales|f__Rikenellaceae|g__Alistipes|s__Alistipes_shahii                                       | 1.122386e-02 | 1.194474e-05 |\n",
       "| k__Bacteria|p__Bacteroidetes|c__Bacteroidia|o__Bacteroidales|f__Bacteroidaceae|g__Bacteroides|s__Bacteroides_finegoldii                              | 0.000000e+00 | 1.345163e-05 |\n",
       "| k__Bacteria|p__Firmicutes|c__Clostridia|o__Clostridiales|f__Eubacteriaceae|g__Eubacterium|s__Eubacterium_sp_3_1_31                                   |          Inf | 1.446351e-05 |\n",
       "| k__Bacteria|p__Firmicutes|c__Clostridia|o__Clostridiales|f__Clostridiaceae|g__Clostridium|s__Clostridium_asparagiforme                               |          Inf | 1.720065e-05 |\n",
       "| k__Bacteria|p__Firmicutes|c__Clostridia|o__Clostridiales|f__Ruminococcaceae|g__Ruminococcus|s__Ruminococcus_callidus                                 | 0.000000e+00 | 3.550747e-05 |\n",
       "| k__Bacteria|p__Proteobacteria|c__Deltaproteobacteria|o__Desulfovibrionales|f__Desulfovibrionaceae|g__Desulfovibrio|s__Desulfovibrio_piger            | 0.000000e+00 | 3.950881e-05 |\n",
       "| k__Bacteria|p__Firmicutes|c__Clostridia|o__Clostridiales|f__Clostridiaceae|g__Clostridium|s__Clostridium_nexile                                      |          Inf | 4.086152e-05 |\n",
       "| k__Archaea|p__Euryarchaeota|c__Methanobacteria|o__Methanobacteriales|f__Methanobacteriaceae|g__Methanobrevibacter|s__Methanobrevibacter_smithii      | 0.000000e+00 | 4.088700e-05 |\n",
       "| k__Bacteria|p__Bacteroidetes|c__Bacteroidia|o__Bacteroidales|f__Rikenellaceae|g__Alistipes|s__Alistipes_finegoldii                                   | 0.000000e+00 | 4.698641e-05 |\n",
       "| k__Bacteria|p__Bacteroidetes|c__Bacteroidia|o__Bacteroidales|f__Bacteroidaceae|g__Bacteroides|s__Bacteroides_eggerthii                               | 3.599094e-04 | 4.698641e-05 |\n",
       "| k__Bacteria|p__Proteobacteria|c__Deltaproteobacteria|o__Desulfovibrionales|f__Desulfovibrionaceae|g__Bilophila|s__Bilophila_wadsworthia              | 9.363356e+02 | 6.099762e-05 |\n",
       "| k__Bacteria|p__Bacteroidetes|c__Bacteroidia|o__Bacteroidales|f__Bacteroidaceae|g__Bacteroides|s__Bacteroides_plebeius                                | 0.000000e+00 | 6.421797e-05 |\n",
       "| k__Bacteria|p__Actinobacteria|c__Actinobacteria|o__Bifidobacteriales|f__Bifidobacteriaceae|g__Bifidobacterium|s__Bifidobacterium_bifidum             | 4.719788e-01 | 1.017304e-04 |\n",
       "| k__Bacteria|p__Actinobacteria|c__Actinobacteria|o__Bifidobacteriales|f__Bifidobacteriaceae|g__Bifidobacterium|s__Bifidobacterium_adolescentis        | 2.943803e-01 | 1.503561e-04 |\n",
       "| k__Bacteria|p__Firmicutes|c__Clostridia|o__Clostridiales|f__Clostridiaceae|g__Clostridium|s__Clostridium_sp_D5                                       |          Inf | 1.725472e-04 |\n",
       "| k__Archaea|p__Euryarchaeota|c__Methanobacteria|o__Methanobacteriales|f__Methanobacteriaceae|g__Methanobrevibacter|s__Methanobrevibacter_unclassified | 0.000000e+00 | 1.829639e-04 |\n",
       "| ⋮ | ⋮ | ⋮ |\n",
       "| k__Bacteria|p__Bacteroidetes|c__Bacteroidia|o__Bacteroidales|f__Prevotellaceae|g__Prevotella|s__Prevotella_timonensis                                             |         Inf | 0.001371200 |\n",
       "| k__Bacteria|p__Firmicutes|c__Clostridia|o__Clostridiales|f__Clostridiales_noname|g__Clostridiales_noname|s__Clostridiales_bacterium_1_7_47FAA                     | 75.32993004 | 0.001617747 |\n",
       "| k__Bacteria|p__Firmicutes|c__Clostridia|o__Clostridiales|f__Lachnospiraceae|g__Butyrivibrio|s__Butyrivibrio_crossotus                                             |  0.00000000 | 0.001735883 |\n",
       "| k__Bacteria|p__Firmicutes|c__Erysipelotrichia|o__Erysipelotrichales|f__Erysipelotrichaceae|g__Coprobacillus|s__Coprobacillus_unclassified                         |         Inf | 0.001835627 |\n",
       "| k__Bacteria|p__Bacteroidetes|c__Bacteroidia|o__Bacteroidales|f__Porphyromonadaceae|g__Porphyromonas|s__Porphyromonas_bennonis                                     |         Inf | 0.002629983 |\n",
       "| k__Bacteria|p__Firmicutes|c__Clostridia|o__Clostridiales|f__Lachnospiraceae|g__Lachnospiraceae_noname|s__Lachnospiraceae_bacterium_5_1_57FAA                      |         Inf | 0.002990782 |\n",
       "| k__Bacteria|p__Actinobacteria|c__Actinobacteria|o__Coriobacteriales|f__Coriobacteriaceae|g__Collinsella|s__Collinsella_unclassified                               |  0.00000000 | 0.003297376 |\n",
       "| k__Bacteria|p__Proteobacteria|c__Gammaproteobacteria|o__Pasteurellales|f__Pasteurellaceae|g__Actinobacillus|s__Actinobacillus_unclassified                        |         Inf | 0.003472965 |\n",
       "| k__Bacteria|p__Actinobacteria|c__Actinobacteria|o__Coriobacteriales|f__Coriobacteriaceae|g__Eggerthella|s__Eggerthella_lenta                                      |         Inf | 0.003789978 |\n",
       "| k__Bacteria|p__Proteobacteria|c__Deltaproteobacteria|o__Desulfovibrionales|f__Desulfovibrionaceae|g__Desulfovibrio|s__Desulfovibrio_desulfuricans                 |  0.00000000 | 0.003996297 |\n",
       "| k__Bacteria|p__Bacteroidetes|c__Bacteroidia|o__Bacteroidales|f__Porphyromonadaceae|g__Porphyromonas|s__Porphyromonas_somerae                                      |         Inf | 0.004413682 |\n",
       "| k__Bacteria|p__Firmicutes|c__Clostridia|o__Clostridiales|f__Clostridiaceae|g__Clostridiaceae_noname|s__Clostridiaceae_bacterium_JC118                             | 24.75188227 | 0.007928487 |\n",
       "| k__Viruses|p__Viruses_noname|c__Viruses_noname|o__Viruses_noname|f__Retroviridae|g__Gammaretrovirus|s__Porcine_type_C_oncovirus                                   |  0.00000000 | 0.008357053 |\n",
       "| k__Bacteria|p__Bacteroidetes|c__Bacteroidia|o__Bacteroidales|f__Porphyromonadaceae|g__Coprobacter|s__Coprobacter_fastidiosus                                      |  4.79127433 | 0.009152933 |\n",
       "| k__Bacteria|p__Firmicutes|c__Erysipelotrichia|o__Erysipelotrichales|f__Erysipelotrichaceae|g__Erysipelotrichaceae_noname|s__Eubacterium_biforme                   |  0.00000000 | 0.010761197 |\n",
       "| k__Bacteria|p__Firmicutes|c__Clostridia|o__Clostridiales|f__Lachnospiraceae|g__Lachnospiraceae_noname|s__Lachnospiraceae_bacterium_9_1_43BFAA                     |         Inf | 0.012067128 |\n",
       "| k__Bacteria|p__Bacteroidetes|c__Bacteroidia|o__Bacteroidales|f__Bacteroidaceae|g__Bacteroides|s__Bacteroides_thetaiotaomicron                                     |  0.03112551 | 0.013946649 |\n",
       "| k__Bacteria|p__Bacteroidetes|c__Bacteroidia|o__Bacteroidales|f__Bacteroidales_noname|g__Bacteroidales_noname|s__Bacteroidales_bacterium_ph8                       |  0.02517771 | 0.017831071 |\n",
       "| k__Bacteria|p__Bacteroidetes|c__Bacteroidia|o__Bacteroidales|f__Bacteroidaceae|g__Bacteroides|s__Bacteroides_fragilis                                             | 10.60021433 | 0.021751918 |\n",
       "| k__Bacteria|p__Actinobacteria|c__Actinobacteria|o__Actinomycetales|f__Micrococcaceae|g__Rothia|s__Rothia_mucilaginosa                                             |  0.00000000 | 0.022344542 |\n",
       "| k__Bacteria|p__Bacteroidetes|c__Bacteroidia|o__Bacteroidales|f__Porphyromonadaceae|g__Parabacteroides|s__Parabacteroides_unclassified                             |  0.46189912 | 0.022344542 |\n",
       "| k__Bacteria|p__Firmicutes|c__Clostridia|o__Clostridiales|f__Clostridiaceae|g__Clostridium|s__Clostridium_scindens                                                 |         Inf | 0.027006870 |\n",
       "| k__Bacteria|p__Firmicutes|c__Erysipelotrichia|o__Erysipelotrichales|f__Erysipelotrichaceae|g__Erysipelotrichaceae_noname|s__Erysipelotrichaceae_bacterium_6_1_45  |         Inf | 0.028845675 |\n",
       "| k__Bacteria|p__Firmicutes|c__Erysipelotrichia|o__Erysipelotrichales|f__Erysipelotrichaceae|g__Erysipelotrichaceae_noname|s__Erysipelotrichaceae_bacterium_2_2_44A |         Inf | 0.033475639 |\n",
       "| k__Bacteria|p__Firmicutes|c__Negativicutes|o__Selenomonadales|f__Veillonellaceae|g__Megamonas|s__Megamonas_unclassified                                           |  0.00000000 | 0.034102070 |\n",
       "| k__Bacteria|p__Bacteroidetes|c__Bacteroidia|o__Bacteroidales|f__Rikenellaceae|g__Alistipes|s__Alistipes_sp_AP11                                                   |  0.00000000 | 0.037277800 |\n",
       "| k__Bacteria|p__Firmicutes|c__Clostridia|o__Clostridiales|f__Clostridiaceae|g__Clostridium|s__Clostridium_hylemonae                                                |         Inf | 0.039670899 |\n",
       "| k__Bacteria|p__Firmicutes|c__Negativicutes|o__Selenomonadales|f__Veillonellaceae|g__Megamonas|s__Megamonas_hypermegale                                            |  0.00000000 | 0.044421948 |\n",
       "| k__Bacteria|p__Firmicutes|c__Clostridia|o__Clostridiales|f__Ruminococcaceae|g__Ruminococcus|s__Ruminococcus_lactaris                                              |  0.00000000 | 0.047432334 |\n",
       "| k__Bacteria|p__Bacteroidetes|c__Bacteroidia|o__Bacteroidales|f__Bacteroidaceae|g__Bacteroides|s__Bacteroides_dorei                                                |  0.28191354 | 0.047847531 |\n",
       "\n"
      ],
      "text/plain": [
       "   species                                                                                                                                                          \n",
       "1  k__Bacteria|p__Bacteroidetes|c__Bacteroidia|o__Bacteroidales|f__Prevotellaceae|g__Prevotella|s__Prevotella_copri                                                 \n",
       "2  k__Bacteria|p__Firmicutes|c__Clostridia|o__Clostridiales|f__Lachnospiraceae|g__Coprococcus|s__Coprococcus_sp_ART55_1                                             \n",
       "3  k__Bacteria|p__Verrucomicrobia|c__Verrucomicrobiae|o__Verrucomicrobiales|f__Verrucomicrobiaceae|g__Akkermansia|s__Akkermansia_muciniphila                        \n",
       "4  k__Bacteria|p__Bacteroidetes|c__Bacteroidia|o__Bacteroidales|f__Bacteroidaceae|g__Bacteroides|s__Bacteroides_sp_1_1_6                                            \n",
       "5  k__Bacteria|p__Firmicutes|c__Clostridia|o__Clostridiales|f__Oscillospiraceae|g__Oscillibacter|s__Oscillibacter_sp_KLE_1745                                       \n",
       "6  k__Bacteria|p__Bacteroidetes|c__Bacteroidia|o__Bacteroidales|f__Bacteroidaceae|g__Bacteroides|s__Bacteroides_sp_4_3_47FAA                                        \n",
       "7  k__Bacteria|p__Firmicutes|c__Clostridia|o__Clostridiales|f__Clostridiaceae|g__Clostridium|s__Clostridium_symbiosum                                               \n",
       "8  k__Bacteria|p__Firmicutes|c__Clostridia|o__Clostridiales|f__Clostridiaceae|g__Clostridium|s__Clostridium_clostridioforme                                         \n",
       "9  k__Bacteria|p__Bacteroidetes|c__Bacteroidia|o__Bacteroidales|f__Bacteroidaceae|g__Bacteroides|s__Bacteroides_coprocola                                           \n",
       "10 k__Bacteria|p__Bacteroidetes|c__Bacteroidia|o__Bacteroidales|f__Porphyromonadaceae|g__Barnesiella|s__Barnesiella_intestinihominis                                \n",
       "11 k__Bacteria|p__Bacteroidetes|c__Bacteroidia|o__Bacteroidales|f__Rikenellaceae|g__Alistipes|s__Alistipes_onderdonkii                                              \n",
       "12 k__Bacteria|p__Firmicutes|c__Clostridia|o__Clostridiales|f__Clostridiaceae|g__Clostridium|s__Clostridium_hathewayi                                               \n",
       "13 k__Bacteria|p__Firmicutes|c__Negativicutes|o__Selenomonadales|f__Acidaminococcaceae|g__Phascolarctobacterium|s__Phascolarctobacterium_succinatutens              \n",
       "14 k__Bacteria|p__Firmicutes|c__Clostridia|o__Clostridiales|f__Clostridiaceae|g__Clostridium|s__Clostridium_sp_KLE_1755                                             \n",
       "15 k__Bacteria|p__Bacteroidetes|c__Bacteroidia|o__Bacteroidales|f__Rikenellaceae|g__Alistipes|s__Alistipes_shahii                                                   \n",
       "16 k__Bacteria|p__Bacteroidetes|c__Bacteroidia|o__Bacteroidales|f__Bacteroidaceae|g__Bacteroides|s__Bacteroides_finegoldii                                          \n",
       "17 k__Bacteria|p__Firmicutes|c__Clostridia|o__Clostridiales|f__Eubacteriaceae|g__Eubacterium|s__Eubacterium_sp_3_1_31                                               \n",
       "18 k__Bacteria|p__Firmicutes|c__Clostridia|o__Clostridiales|f__Clostridiaceae|g__Clostridium|s__Clostridium_asparagiforme                                           \n",
       "19 k__Bacteria|p__Firmicutes|c__Clostridia|o__Clostridiales|f__Ruminococcaceae|g__Ruminococcus|s__Ruminococcus_callidus                                             \n",
       "20 k__Bacteria|p__Proteobacteria|c__Deltaproteobacteria|o__Desulfovibrionales|f__Desulfovibrionaceae|g__Desulfovibrio|s__Desulfovibrio_piger                        \n",
       "21 k__Bacteria|p__Firmicutes|c__Clostridia|o__Clostridiales|f__Clostridiaceae|g__Clostridium|s__Clostridium_nexile                                                  \n",
       "22 k__Archaea|p__Euryarchaeota|c__Methanobacteria|o__Methanobacteriales|f__Methanobacteriaceae|g__Methanobrevibacter|s__Methanobrevibacter_smithii                  \n",
       "23 k__Bacteria|p__Bacteroidetes|c__Bacteroidia|o__Bacteroidales|f__Rikenellaceae|g__Alistipes|s__Alistipes_finegoldii                                               \n",
       "24 k__Bacteria|p__Bacteroidetes|c__Bacteroidia|o__Bacteroidales|f__Bacteroidaceae|g__Bacteroides|s__Bacteroides_eggerthii                                           \n",
       "25 k__Bacteria|p__Proteobacteria|c__Deltaproteobacteria|o__Desulfovibrionales|f__Desulfovibrionaceae|g__Bilophila|s__Bilophila_wadsworthia                          \n",
       "26 k__Bacteria|p__Bacteroidetes|c__Bacteroidia|o__Bacteroidales|f__Bacteroidaceae|g__Bacteroides|s__Bacteroides_plebeius                                            \n",
       "27 k__Bacteria|p__Actinobacteria|c__Actinobacteria|o__Bifidobacteriales|f__Bifidobacteriaceae|g__Bifidobacterium|s__Bifidobacterium_bifidum                         \n",
       "28 k__Bacteria|p__Actinobacteria|c__Actinobacteria|o__Bifidobacteriales|f__Bifidobacteriaceae|g__Bifidobacterium|s__Bifidobacterium_adolescentis                    \n",
       "29 k__Bacteria|p__Firmicutes|c__Clostridia|o__Clostridiales|f__Clostridiaceae|g__Clostridium|s__Clostridium_sp_D5                                                   \n",
       "30 k__Archaea|p__Euryarchaeota|c__Methanobacteria|o__Methanobacteriales|f__Methanobacteriaceae|g__Methanobrevibacter|s__Methanobrevibacter_unclassified             \n",
       "⋮  ⋮                                                                                                                                                                \n",
       "45 k__Bacteria|p__Bacteroidetes|c__Bacteroidia|o__Bacteroidales|f__Prevotellaceae|g__Prevotella|s__Prevotella_timonensis                                            \n",
       "46 k__Bacteria|p__Firmicutes|c__Clostridia|o__Clostridiales|f__Clostridiales_noname|g__Clostridiales_noname|s__Clostridiales_bacterium_1_7_47FAA                    \n",
       "47 k__Bacteria|p__Firmicutes|c__Clostridia|o__Clostridiales|f__Lachnospiraceae|g__Butyrivibrio|s__Butyrivibrio_crossotus                                            \n",
       "48 k__Bacteria|p__Firmicutes|c__Erysipelotrichia|o__Erysipelotrichales|f__Erysipelotrichaceae|g__Coprobacillus|s__Coprobacillus_unclassified                        \n",
       "49 k__Bacteria|p__Bacteroidetes|c__Bacteroidia|o__Bacteroidales|f__Porphyromonadaceae|g__Porphyromonas|s__Porphyromonas_bennonis                                    \n",
       "50 k__Bacteria|p__Firmicutes|c__Clostridia|o__Clostridiales|f__Lachnospiraceae|g__Lachnospiraceae_noname|s__Lachnospiraceae_bacterium_5_1_57FAA                     \n",
       "51 k__Bacteria|p__Actinobacteria|c__Actinobacteria|o__Coriobacteriales|f__Coriobacteriaceae|g__Collinsella|s__Collinsella_unclassified                              \n",
       "52 k__Bacteria|p__Proteobacteria|c__Gammaproteobacteria|o__Pasteurellales|f__Pasteurellaceae|g__Actinobacillus|s__Actinobacillus_unclassified                       \n",
       "53 k__Bacteria|p__Actinobacteria|c__Actinobacteria|o__Coriobacteriales|f__Coriobacteriaceae|g__Eggerthella|s__Eggerthella_lenta                                     \n",
       "54 k__Bacteria|p__Proteobacteria|c__Deltaproteobacteria|o__Desulfovibrionales|f__Desulfovibrionaceae|g__Desulfovibrio|s__Desulfovibrio_desulfuricans                \n",
       "55 k__Bacteria|p__Bacteroidetes|c__Bacteroidia|o__Bacteroidales|f__Porphyromonadaceae|g__Porphyromonas|s__Porphyromonas_somerae                                     \n",
       "56 k__Bacteria|p__Firmicutes|c__Clostridia|o__Clostridiales|f__Clostridiaceae|g__Clostridiaceae_noname|s__Clostridiaceae_bacterium_JC118                            \n",
       "57 k__Viruses|p__Viruses_noname|c__Viruses_noname|o__Viruses_noname|f__Retroviridae|g__Gammaretrovirus|s__Porcine_type_C_oncovirus                                  \n",
       "58 k__Bacteria|p__Bacteroidetes|c__Bacteroidia|o__Bacteroidales|f__Porphyromonadaceae|g__Coprobacter|s__Coprobacter_fastidiosus                                     \n",
       "59 k__Bacteria|p__Firmicutes|c__Erysipelotrichia|o__Erysipelotrichales|f__Erysipelotrichaceae|g__Erysipelotrichaceae_noname|s__Eubacterium_biforme                  \n",
       "60 k__Bacteria|p__Firmicutes|c__Clostridia|o__Clostridiales|f__Lachnospiraceae|g__Lachnospiraceae_noname|s__Lachnospiraceae_bacterium_9_1_43BFAA                    \n",
       "61 k__Bacteria|p__Bacteroidetes|c__Bacteroidia|o__Bacteroidales|f__Bacteroidaceae|g__Bacteroides|s__Bacteroides_thetaiotaomicron                                    \n",
       "62 k__Bacteria|p__Bacteroidetes|c__Bacteroidia|o__Bacteroidales|f__Bacteroidales_noname|g__Bacteroidales_noname|s__Bacteroidales_bacterium_ph8                      \n",
       "63 k__Bacteria|p__Bacteroidetes|c__Bacteroidia|o__Bacteroidales|f__Bacteroidaceae|g__Bacteroides|s__Bacteroides_fragilis                                            \n",
       "64 k__Bacteria|p__Actinobacteria|c__Actinobacteria|o__Actinomycetales|f__Micrococcaceae|g__Rothia|s__Rothia_mucilaginosa                                            \n",
       "65 k__Bacteria|p__Bacteroidetes|c__Bacteroidia|o__Bacteroidales|f__Porphyromonadaceae|g__Parabacteroides|s__Parabacteroides_unclassified                            \n",
       "66 k__Bacteria|p__Firmicutes|c__Clostridia|o__Clostridiales|f__Clostridiaceae|g__Clostridium|s__Clostridium_scindens                                                \n",
       "67 k__Bacteria|p__Firmicutes|c__Erysipelotrichia|o__Erysipelotrichales|f__Erysipelotrichaceae|g__Erysipelotrichaceae_noname|s__Erysipelotrichaceae_bacterium_6_1_45 \n",
       "68 k__Bacteria|p__Firmicutes|c__Erysipelotrichia|o__Erysipelotrichales|f__Erysipelotrichaceae|g__Erysipelotrichaceae_noname|s__Erysipelotrichaceae_bacterium_2_2_44A\n",
       "69 k__Bacteria|p__Firmicutes|c__Negativicutes|o__Selenomonadales|f__Veillonellaceae|g__Megamonas|s__Megamonas_unclassified                                          \n",
       "70 k__Bacteria|p__Bacteroidetes|c__Bacteroidia|o__Bacteroidales|f__Rikenellaceae|g__Alistipes|s__Alistipes_sp_AP11                                                  \n",
       "71 k__Bacteria|p__Firmicutes|c__Clostridia|o__Clostridiales|f__Clostridiaceae|g__Clostridium|s__Clostridium_hylemonae                                               \n",
       "72 k__Bacteria|p__Firmicutes|c__Negativicutes|o__Selenomonadales|f__Veillonellaceae|g__Megamonas|s__Megamonas_hypermegale                                           \n",
       "73 k__Bacteria|p__Firmicutes|c__Clostridia|o__Clostridiales|f__Ruminococcaceae|g__Ruminococcus|s__Ruminococcus_lactaris                                             \n",
       "74 k__Bacteria|p__Bacteroidetes|c__Bacteroidia|o__Bacteroidales|f__Bacteroidaceae|g__Bacteroides|s__Bacteroides_dorei                                               \n",
       "   fold_change  adjustPvalue\n",
       "1  0.000000e+00 3.819061e-12\n",
       "2  0.000000e+00 3.725740e-07\n",
       "3  0.000000e+00 8.297757e-07\n",
       "4           Inf 1.733825e-06\n",
       "5           Inf 1.733825e-06\n",
       "6  0.000000e+00 2.180688e-06\n",
       "7           Inf 2.545477e-06\n",
       "8           Inf 4.075885e-06\n",
       "9  0.000000e+00 4.627589e-06\n",
       "10 1.786616e-01 4.627589e-06\n",
       "11 0.000000e+00 5.835094e-06\n",
       "12          Inf 8.998488e-06\n",
       "13 0.000000e+00 9.973117e-06\n",
       "14          Inf 1.068907e-05\n",
       "15 1.122386e-02 1.194474e-05\n",
       "16 0.000000e+00 1.345163e-05\n",
       "17          Inf 1.446351e-05\n",
       "18          Inf 1.720065e-05\n",
       "19 0.000000e+00 3.550747e-05\n",
       "20 0.000000e+00 3.950881e-05\n",
       "21          Inf 4.086152e-05\n",
       "22 0.000000e+00 4.088700e-05\n",
       "23 0.000000e+00 4.698641e-05\n",
       "24 3.599094e-04 4.698641e-05\n",
       "25 9.363356e+02 6.099762e-05\n",
       "26 0.000000e+00 6.421797e-05\n",
       "27 4.719788e-01 1.017304e-04\n",
       "28 2.943803e-01 1.503561e-04\n",
       "29          Inf 1.725472e-04\n",
       "30 0.000000e+00 1.829639e-04\n",
       "⋮  ⋮            ⋮           \n",
       "45         Inf  0.001371200 \n",
       "46 75.32993004  0.001617747 \n",
       "47  0.00000000  0.001735883 \n",
       "48         Inf  0.001835627 \n",
       "49         Inf  0.002629983 \n",
       "50         Inf  0.002990782 \n",
       "51  0.00000000  0.003297376 \n",
       "52         Inf  0.003472965 \n",
       "53         Inf  0.003789978 \n",
       "54  0.00000000  0.003996297 \n",
       "55         Inf  0.004413682 \n",
       "56 24.75188227  0.007928487 \n",
       "57  0.00000000  0.008357053 \n",
       "58  4.79127433  0.009152933 \n",
       "59  0.00000000  0.010761197 \n",
       "60         Inf  0.012067128 \n",
       "61  0.03112551  0.013946649 \n",
       "62  0.02517771  0.017831071 \n",
       "63 10.60021433  0.021751918 \n",
       "64  0.00000000  0.022344542 \n",
       "65  0.46189912  0.022344542 \n",
       "66         Inf  0.027006870 \n",
       "67         Inf  0.028845675 \n",
       "68         Inf  0.033475639 \n",
       "69  0.00000000  0.034102070 \n",
       "70  0.00000000  0.037277800 \n",
       "71         Inf  0.039670899 \n",
       "72  0.00000000  0.044421948 \n",
       "73  0.00000000  0.047432334 \n",
       "74  0.28191354  0.047847531 "
      ]
     },
     "metadata": {},
     "output_type": "display_data"
    }
   ],
   "source": [
    "CD_vs_nonIBD_species_DA_confounder_Antibiotics"
   ]
  },
  {
   "cell_type": "markdown",
   "metadata": {},
   "source": [
    "3.4.1.2.2 基于差异物种丰度谱对样本进行聚类分析"
   ]
  },
  {
   "cell_type": "code",
   "execution_count": 5,
   "metadata": {},
   "outputs": [],
   "source": [
    "DA <- read.table(\"/work/results/metagenomeSeq/CD_vs_nonIBD_species_DA_confounder_Antibiotics.txt\",stringsAsFactors=F,sep=\"\\t\",header=T)"
   ]
  },
  {
   "cell_type": "code",
   "execution_count": 6,
   "metadata": {},
   "outputs": [],
   "source": [
    "metaphlan2_taxonomic_profiles <- read.delim(\"/work/results/biobakery_workflows/metaphlan2/merged/metaphlan2_taxonomic_profiles.tsv\",stringsAsFactors=F,sep=\"\\t\",header=T)"
   ]
  },
  {
   "cell_type": "code",
   "execution_count": 7,
   "metadata": {},
   "outputs": [],
   "source": [
    "species_taxonomic_profiles <- metaphlan2_taxonomic_profiles[sapply(metaphlan2_taxonomic_profiles$X.SampleID,function(x) length(strsplit(x,\"\\\\|\")[[1]])==7),]"
   ]
  },
  {
   "cell_type": "code",
   "execution_count": 8,
   "metadata": {},
   "outputs": [],
   "source": [
    "species_taxonomic_profiles[,-1] <- species_taxonomic_profiles[,-1]/100"
   ]
  },
  {
   "cell_type": "code",
   "execution_count": 9,
   "metadata": {},
   "outputs": [],
   "source": [
    "colnames(species_taxonomic_profiles)[-1] <- sapply(colnames(species_taxonomic_profiles)[-1],function(x) strsplit(x,\"_\")[[1]][1])"
   ]
  },
  {
   "cell_type": "code",
   "execution_count": 11,
   "metadata": {},
   "outputs": [],
   "source": [
    "IBD_test_metadata <- read.table(\"/work/IBD_test_metadata.txt\",stringsAsFactors=F,sep=\"\\t\",header=T)"
   ]
  },
  {
   "cell_type": "code",
   "execution_count": 12,
   "metadata": {},
   "outputs": [],
   "source": [
    "read_count <- read.delim(\"/work/results/biobakery_workflows_output_vis/data/humann2_read_and_species_count_table.tsv\",stringsAsFactor=F,sep=\"\\t\")"
   ]
  },
  {
   "cell_type": "code",
   "execution_count": 13,
   "metadata": {},
   "outputs": [],
   "source": [
    "species_counts = sweep(species_taxonomic_profiles[,-1],2,read_count[match(colnames(species_taxonomic_profiles)[-1],read_count$X..samples),\"total.reads\"], \"*\")"
   ]
  },
  {
   "cell_type": "code",
   "execution_count": 14,
   "metadata": {},
   "outputs": [],
   "source": [
    "species_counts = round(species_counts)"
   ]
  },
  {
   "cell_type": "code",
   "execution_count": 15,
   "metadata": {},
   "outputs": [],
   "source": [
    "rownames(species_counts) <- species_taxonomic_profiles$X.SampleID"
   ]
  },
  {
   "cell_type": "code",
   "execution_count": 16,
   "metadata": {},
   "outputs": [],
   "source": [
    "DA_profile <- species_counts[match(DA$species,rownames(species_counts)),]"
   ]
  },
  {
   "cell_type": "code",
   "execution_count": 17,
   "metadata": {},
   "outputs": [],
   "source": [
    "write.table(DA_profile,\"/work/results/metagenomeSeq/CD_vs_nonIBD_species_DA_confounder_Antibiotics_profile.txt\",quote=F,sep=\"\\t\")"
   ]
  },
  {
   "cell_type": "code",
   "execution_count": 10,
   "metadata": {},
   "outputs": [
    {
     "name": "stdout",
     "output_type": "stream",
     "text": [
      "/opt/conda/bin/hclust2.py:152: FutureWarning: read_table is deprecated, use read_csv instead.\n",
      "  index_col = self.args.sname_row if self.args.sname_row > -1 else None\n"
     ]
    }
   ],
   "source": [
    "!sudo docker run --rm -v /Volumes/Untitled:/home/data biobakery-workflows-add-r-6 bash \\\n",
    "    -c 'hclust2.py -i /home/data/results/metagenomeSeq/CD_vs_nonIBD_species_DA_confounder_Antibiotics_profile.txt \\\n",
    "    -o /home/data/results/metagenomeSeq/DA_species_confounder_Antibiotics_BrayCurtis_Heatmap.pdf \\\n",
    "    --cell_aspect_ratio 0.5 -l \\\n",
    "    --max_flabel_len 100 --max_slabel_len 100 --dpi 300 \\\n",
    "    --title \"Species with differential abundance (Bray-Curtis)\" \\\n",
    "    --title_fontsize 8 --f_dist_f braycurtis --s_dist_f braycurtis \\\n",
    "    --colorbar_font_size 6 \\\n",
    "    --flabel_size 4 \\\n",
    "    --slabel_size 4'"
   ]
  },
  {
   "cell_type": "markdown",
   "metadata": {},
   "source": [
    "![**DA_species_confounder_Antibiotics_BrayCurtis_Heatmap**](results/metagenomeSeq/DA_species_confounder_Antibiotics_BrayCurtis_Heatmap.pdf)"
   ]
  },
  {
   "cell_type": "markdown",
   "metadata": {},
   "source": [
    "图说明：图中亮蓝色方框表示健康人样本，其余样本表示CD病人。"
   ]
  },
  {
   "cell_type": "markdown",
   "metadata": {},
   "source": [
    "3.4.1.3 以年龄作为混杂因素，在CD疾病和健康两种状态下，分析群落结构的差异丰度变化"
   ]
  },
  {
   "cell_type": "markdown",
   "metadata": {},
   "source": [
    "3.4.1.3.1 代码命令"
   ]
  },
  {
   "cell_type": "code",
   "execution_count": 82,
   "metadata": {},
   "outputs": [
    {
     "name": "stdout",
     "output_type": "stream",
     "text": [
      "Loading required package: Biobase\n",
      "Loading required package: BiocGenerics\n",
      "Loading required package: parallel\n",
      "\n",
      "Attaching package: ‘BiocGenerics’\n",
      "\n",
      "The following objects are masked from ‘package:parallel’:\n",
      "\n",
      "    clusterApply, clusterApplyLB, clusterCall, clusterEvalQ,\n",
      "    clusterExport, clusterMap, parApply, parCapply, parLapply,\n",
      "    parLapplyLB, parRapply, parSapply, parSapplyLB\n",
      "\n",
      "The following objects are masked from ‘package:stats’:\n",
      "\n",
      "    IQR, mad, sd, var, xtabs\n",
      "\n",
      "The following objects are masked from ‘package:base’:\n",
      "\n",
      "    anyDuplicated, append, as.data.frame, basename, cbind, colnames,\n",
      "    dirname, do.call, duplicated, eval, evalq, Filter, Find, get, grep,\n",
      "    grepl, intersect, is.unsorted, lapply, Map, mapply, match, mget,\n",
      "    order, paste, pmax, pmax.int, pmin, pmin.int, Position, rank,\n",
      "    rbind, Reduce, rownames, sapply, setdiff, sort, table, tapply,\n",
      "    union, unique, unsplit, which, which.max, which.min\n",
      "\n",
      "Welcome to Bioconductor\n",
      "\n",
      "    Vignettes contain introductory material; view with\n",
      "    'browseVignettes()'. To cite Bioconductor, see\n",
      "    'citation(\"Biobase\")', and for packages 'citation(\"pkgname\")'.\n",
      "\n",
      "Loading required package: limma\n",
      "\n",
      "Attaching package: ‘limma’\n",
      "\n",
      "The following object is masked from ‘package:BiocGenerics’:\n",
      "\n",
      "    plotMA\n",
      "\n",
      "Loading required package: glmnet\n",
      "Loading required package: Matrix\n",
      "Loaded glmnet 3.0-2\n",
      "\n",
      "Loading required package: RColorBrewer\n",
      "Default value being used.\n",
      "it= 0, nll=14.40, log10(eps+1)=Inf, stillActive=166\n",
      "it= 1, nll=14.26, log10(eps+1)=0.11, stillActive=107\n",
      "it= 2, nll=13.72, log10(eps+1)=0.07, stillActive=81\n",
      "it= 3, nll=13.74, log10(eps+1)=0.05, stillActive=51\n",
      "it= 4, nll=14.28, log10(eps+1)=0.02, stillActive=10\n",
      "it= 5, nll=14.42, log10(eps+1)=0.02, stillActive=0\n",
      "[1] \"Number of species with differential abundance:40\"\n"
     ]
    }
   ],
   "source": [
    "!sudo docker run --rm -v /Volumes/Untitled:/home/data biobakery-workflows-add-r-6 bash \\\n",
    "    -c 'Rscript /home/data/metagenomeSeq_species_diagnosis_confounder.R \\\n",
    "    --taxonomic_profile /home/data/results/biobakery_workflows/metaphlan2/merged/metaphlan2_taxonomic_profiles.tsv \\\n",
    "    --metadata /home/data/IBD_test_metadata.txt \\\n",
    "    --read_count /home/data/results/biobakery_workflows_output_vis/data/humann2_read_and_species_count_table.tsv \\\n",
    "    --output_all /home/data/results/metagenomeSeq/CD_vs_nonIBD_species_confounder_consent_age.txt \\\n",
    "    --output_DA /home/data/results/metagenomeSeq/CD_vs_nonIBD_species_DA_confounder_consent_age.txt \\\n",
    "    --confounder consent_age'    "
   ]
  },
  {
   "cell_type": "markdown",
   "metadata": {},
   "source": [
    "参数说明：\n",
    "* --taxonomic_profile：3.2.6步骤中MetaPhlan2产生的物种分类丰度谱\n",
    "* --metadata：IBD项目的meta信息表格\n",
    "* --read_count：每个样本经过质控之后，用于物种分类丰度谱构建的测序序列数量\n",
    "* --output_all：输出所有物种的分析结果\n",
    "* --output_DA：输出具有差异丰度变化物种的分析结果\n",
    "* --confounder：混杂因素名称"
   ]
  },
  {
   "cell_type": "markdown",
   "metadata": {},
   "source": [
    "从结果可以看出，在差异分析模型中考虑了年龄混杂因素之后，一共有40个物种具有差异丰度变化，查看组间差异物种分类丰度谱/home/data/results/metagenomeSeq/CD_vs_nonIBD_species_DA_confounder_consent_age.txt"
   ]
  },
  {
   "cell_type": "code",
   "execution_count": 2,
   "metadata": {},
   "outputs": [],
   "source": [
    "CD_vs_nonIBD_species_DA_confounder_consent_age <- read.table(\"/work/results/metagenomeSeq/CD_vs_nonIBD_species_DA_confounder_consent_age.txt\",stringsAsFactors=F,sep=\"\\t\",header=T)"
   ]
  },
  {
   "cell_type": "code",
   "execution_count": 4,
   "metadata": {},
   "outputs": [
    {
     "data": {
      "text/html": [
       "<table>\n",
       "<caption>A data.frame: 40 × 3</caption>\n",
       "<thead>\n",
       "\t<tr><th scope=col>species</th><th scope=col>fold_change</th><th scope=col>adjustPvalue</th></tr>\n",
       "\t<tr><th scope=col>&lt;chr&gt;</th><th scope=col>&lt;dbl&gt;</th><th scope=col>&lt;dbl&gt;</th></tr>\n",
       "</thead>\n",
       "<tbody>\n",
       "\t<tr><td>k__Bacteria|p__Bacteroidetes|c__Bacteroidia|o__Bacteroidales|f__Prevotellaceae|g__Prevotella|s__Prevotella_copri                                </td><td>0.000000e+00</td><td>3.550525e-09</td></tr>\n",
       "\t<tr><td>k__Bacteria|p__Firmicutes|c__Clostridia|o__Clostridiales|f__Clostridiaceae|g__Clostridium|s__Clostridium_clostridioforme                        </td><td>         Inf</td><td>6.172808e-05</td></tr>\n",
       "\t<tr><td>k__Bacteria|p__Bacteroidetes|c__Bacteroidia|o__Bacteroidales|f__Rikenellaceae|g__Alistipes|s__Alistipes_onderdonkii                             </td><td>0.000000e+00</td><td>6.172808e-05</td></tr>\n",
       "\t<tr><td>k__Bacteria|p__Firmicutes|c__Clostridia|o__Clostridiales|f__Oscillospiraceae|g__Oscillibacter|s__Oscillibacter_sp_KLE_1745                      </td><td>         Inf</td><td>1.055650e-04</td></tr>\n",
       "\t<tr><td>k__Bacteria|p__Firmicutes|c__Clostridia|o__Clostridiales|f__Clostridiaceae|g__Clostridium|s__Clostridium_symbiosum                              </td><td>         Inf</td><td>4.264747e-04</td></tr>\n",
       "\t<tr><td>k__Bacteria|p__Firmicutes|c__Clostridia|o__Clostridiales|f__Eubacteriaceae|g__Eubacterium|s__Eubacterium_sp_3_1_31                              </td><td>         Inf</td><td>4.412852e-04</td></tr>\n",
       "\t<tr><td>k__Bacteria|p__Firmicutes|c__Clostridia|o__Clostridiales|f__Clostridiaceae|g__Clostridium|s__Clostridium_asparagiforme                          </td><td>         Inf</td><td>5.264061e-04</td></tr>\n",
       "\t<tr><td>k__Bacteria|p__Firmicutes|c__Clostridia|o__Clostridiales|f__Clostridiaceae|g__Clostridium|s__Clostridium_sp_KLE_1755                            </td><td>         Inf</td><td>1.366855e-03</td></tr>\n",
       "\t<tr><td>k__Bacteria|p__Firmicutes|c__Clostridia|o__Clostridiales|f__Clostridiaceae|g__Clostridium|s__Clostridium_nexile                                 </td><td>         Inf</td><td>1.366855e-03</td></tr>\n",
       "\t<tr><td>k__Bacteria|p__Firmicutes|c__Clostridia|o__Clostridiales|f__Clostridiaceae|g__Clostridium|s__Clostridium_bolteae                                </td><td>2.455944e+02</td><td>2.280412e-03</td></tr>\n",
       "\t<tr><td>k__Bacteria|p__Bacteroidetes|c__Bacteroidia|o__Bacteroidales|f__Bacteroidaceae|g__Bacteroides|s__Bacteroides_cellulosilyticus                   </td><td>1.148826e+01</td><td>2.682917e-03</td></tr>\n",
       "\t<tr><td>k__Bacteria|p__Firmicutes|c__Negativicutes|o__Selenomonadales|f__Acidaminococcaceae|g__Acidaminococcus|s__Acidaminococcus_unclassified          </td><td>         Inf</td><td>3.465567e-03</td></tr>\n",
       "\t<tr><td>k__Bacteria|p__Bacteroidetes|c__Bacteroidia|o__Bacteroidales|f__Prevotellaceae|g__Prevotella|s__Prevotella_disiens                              </td><td>         Inf</td><td>4.697377e-03</td></tr>\n",
       "\t<tr><td>k__Bacteria|p__Bacteroidetes|c__Bacteroidia|o__Bacteroidales|f__Porphyromonadaceae|g__Parabacteroides|s__Parabacteroides_unclassified           </td><td>4.618991e-01</td><td>6.126751e-03</td></tr>\n",
       "\t<tr><td>k__Bacteria|p__Firmicutes|c__Clostridia|o__Clostridiales|f__Lachnospiraceae|g__Lachnospiraceae_noname|s__Lachnospiraceae_bacterium_1_4_56FAA    </td><td>         Inf</td><td>6.126751e-03</td></tr>\n",
       "\t<tr><td>k__Bacteria|p__Firmicutes|c__Clostridia|o__Clostridiales|f__Lachnospiraceae|g__Lachnospiraceae_noname|s__Lachnospiraceae_bacterium_3_1_57FAA_CT1</td><td>         Inf</td><td>6.737145e-03</td></tr>\n",
       "\t<tr><td>k__Bacteria|p__Firmicutes|c__Clostridia|o__Clostridiales|f__Clostridiaceae|g__Clostridium|s__Clostridium_sp_D5                                  </td><td>         Inf</td><td>7.374602e-03</td></tr>\n",
       "\t<tr><td>k__Bacteria|p__Firmicutes|c__Clostridia|o__Clostridiales|f__Eubacteriaceae|g__Eubacterium|s__Eubacterium_siraeum                                </td><td>6.097287e-02</td><td>7.878477e-03</td></tr>\n",
       "\t<tr><td>k__Bacteria|p__Bacteroidetes|c__Bacteroidia|o__Bacteroidales|f__Bacteroidaceae|g__Bacteroides|s__Bacteroides_sp_1_1_6                           </td><td>         Inf</td><td>8.500603e-03</td></tr>\n",
       "\t<tr><td>k__Bacteria|p__Bacteroidetes|c__Bacteroidia|o__Bacteroidales|f__Porphyromonadaceae|g__Porphyromonas|s__Porphyromonas_uenonis                    </td><td>         Inf</td><td>1.119610e-02</td></tr>\n",
       "\t<tr><td>k__Bacteria|p__Firmicutes|c__Clostridia|o__Clostridiales|f__Lachnospiraceae|g__Lachnospiraceae_noname|s__Lachnospiraceae_bacterium_2_1_58FAA    </td><td>         Inf</td><td>1.363450e-02</td></tr>\n",
       "\t<tr><td>k__Bacteria|p__Firmicutes|c__Negativicutes|o__Selenomonadales|f__Veillonellaceae|g__Veillonella|s__Veillonella_atypica                          </td><td>         Inf</td><td>1.414549e-02</td></tr>\n",
       "\t<tr><td>k__Bacteria|p__Actinobacteria|c__Actinobacteria|o__Coriobacteriales|f__Coriobacteriaceae|g__Eggerthella|s__Eggerthella_unclassified             </td><td>         Inf</td><td>1.414549e-02</td></tr>\n",
       "\t<tr><td>k__Bacteria|p__Verrucomicrobia|c__Verrucomicrobiae|o__Verrucomicrobiales|f__Verrucomicrobiaceae|g__Akkermansia|s__Akkermansia_muciniphila       </td><td>0.000000e+00</td><td>1.579865e-02</td></tr>\n",
       "\t<tr><td>k__Bacteria|p__Bacteroidetes|c__Bacteroidia|o__Bacteroidales|f__Prevotellaceae|g__Prevotella|s__Prevotella_timonensis                           </td><td>         Inf</td><td>1.579865e-02</td></tr>\n",
       "\t<tr><td>k__Bacteria|p__Firmicutes|c__Clostridia|o__Clostridiales|f__Clostridiaceae|g__Clostridium|s__Clostridium_hathewayi                              </td><td>         Inf</td><td>1.735234e-02</td></tr>\n",
       "\t<tr><td>k__Bacteria|p__Proteobacteria|c__Deltaproteobacteria|o__Desulfovibrionales|f__Desulfovibrionaceae|g__Bilophila|s__Bilophila_wadsworthia         </td><td>9.363356e+02</td><td>2.769396e-02</td></tr>\n",
       "\t<tr><td>k__Bacteria|p__Firmicutes|c__Erysipelotrichia|o__Erysipelotrichales|f__Erysipelotrichaceae|g__Coprobacillus|s__Coprobacillus_unclassified       </td><td>         Inf</td><td>2.774869e-02</td></tr>\n",
       "\t<tr><td>k__Bacteria|p__Proteobacteria|c__Gammaproteobacteria|o__Pasteurellales|f__Pasteurellaceae|g__Actinobacillus|s__Actinobacillus_unclassified      </td><td>         Inf</td><td>2.847749e-02</td></tr>\n",
       "\t<tr><td>k__Bacteria|p__Bacteroidetes|c__Bacteroidia|o__Bacteroidales|f__Bacteroidaceae|g__Bacteroides|s__Bacteroides_eggerthii                          </td><td>3.599094e-04</td><td>2.847749e-02</td></tr>\n",
       "\t<tr><td>k__Bacteria|p__Bacteroidetes|c__Bacteroidia|o__Bacteroidales|f__Porphyromonadaceae|g__Porphyromonas|s__Porphyromonas_somerae                    </td><td>         Inf</td><td>2.986646e-02</td></tr>\n",
       "\t<tr><td>k__Bacteria|p__Bacteroidetes|c__Bacteroidia|o__Bacteroidales|f__Prevotellaceae|g__Prevotella|s__Prevotella_bivia                                </td><td>         Inf</td><td>2.986646e-02</td></tr>\n",
       "\t<tr><td>k__Bacteria|p__Bacteroidetes|c__Bacteroidia|o__Bacteroidales|f__Porphyromonadaceae|g__Porphyromonas|s__Porphyromonas_bennonis                   </td><td>         Inf</td><td>2.986646e-02</td></tr>\n",
       "\t<tr><td>k__Bacteria|p__Bacteroidetes|c__Bacteroidia|o__Bacteroidales|f__Bacteroidaceae|g__Bacteroides|s__Bacteroides_intestinalis                       </td><td>3.159772e+00</td><td>2.986646e-02</td></tr>\n",
       "\t<tr><td>k__Bacteria|p__Firmicutes|c__Clostridia|o__Clostridiales|f__Ruminococcaceae|g__Anaerotruncus|s__Anaerotruncus_colihominis                       </td><td>5.284400e+02</td><td>2.986646e-02</td></tr>\n",
       "\t<tr><td>k__Bacteria|p__Firmicutes|c__Clostridia|o__Clostridiales|f__Lachnospiraceae|g__Lachnospiraceae_noname|s__Lachnospiraceae_bacterium_5_1_57FAA    </td><td>         Inf</td><td>3.079357e-02</td></tr>\n",
       "\t<tr><td>k__Bacteria|p__Firmicutes|c__Clostridia|o__Clostridiales|f__Peptostreptococcaceae|g__Peptostreptococcaceae_noname|s__Clostridium_bartlettii     </td><td>3.237389e+00</td><td>3.079357e-02</td></tr>\n",
       "\t<tr><td>k__Bacteria|p__Bacteroidetes|c__Bacteroidia|o__Bacteroidales|f__Rikenellaceae|g__Alistipes|s__Alistipes_finegoldii                              </td><td>0.000000e+00</td><td>3.247580e-02</td></tr>\n",
       "\t<tr><td>k__Bacteria|p__Bacteroidetes|c__Bacteroidia|o__Bacteroidales|f__Porphyromonadaceae|g__Barnesiella|s__Barnesiella_intestinihominis               </td><td>1.786616e-01</td><td>4.181196e-02</td></tr>\n",
       "\t<tr><td>k__Bacteria|p__Bacteroidetes|c__Bacteroidia|o__Bacteroidales|f__Bacteroidaceae|g__Bacteroides|s__Bacteroides_thetaiotaomicron                   </td><td>3.112551e-02</td><td>4.260884e-02</td></tr>\n",
       "</tbody>\n",
       "</table>\n"
      ],
      "text/latex": [
       "A data.frame: 40 × 3\n",
       "\\begin{tabular}{r|lll}\n",
       " species & fold\\_change & adjustPvalue\\\\\n",
       " <chr> & <dbl> & <dbl>\\\\\n",
       "\\hline\n",
       "\t k\\_\\_Bacteria\\textbar{}p\\_\\_Bacteroidetes\\textbar{}c\\_\\_Bacteroidia\\textbar{}o\\_\\_Bacteroidales\\textbar{}f\\_\\_Prevotellaceae\\textbar{}g\\_\\_Prevotella\\textbar{}s\\_\\_Prevotella\\_copri                                 & 0.000000e+00 & 3.550525e-09\\\\\n",
       "\t k\\_\\_Bacteria\\textbar{}p\\_\\_Firmicutes\\textbar{}c\\_\\_Clostridia\\textbar{}o\\_\\_Clostridiales\\textbar{}f\\_\\_Clostridiaceae\\textbar{}g\\_\\_Clostridium\\textbar{}s\\_\\_Clostridium\\_clostridioforme                         &          Inf & 6.172808e-05\\\\\n",
       "\t k\\_\\_Bacteria\\textbar{}p\\_\\_Bacteroidetes\\textbar{}c\\_\\_Bacteroidia\\textbar{}o\\_\\_Bacteroidales\\textbar{}f\\_\\_Rikenellaceae\\textbar{}g\\_\\_Alistipes\\textbar{}s\\_\\_Alistipes\\_onderdonkii                              & 0.000000e+00 & 6.172808e-05\\\\\n",
       "\t k\\_\\_Bacteria\\textbar{}p\\_\\_Firmicutes\\textbar{}c\\_\\_Clostridia\\textbar{}o\\_\\_Clostridiales\\textbar{}f\\_\\_Oscillospiraceae\\textbar{}g\\_\\_Oscillibacter\\textbar{}s\\_\\_Oscillibacter\\_sp\\_KLE\\_1745                       &          Inf & 1.055650e-04\\\\\n",
       "\t k\\_\\_Bacteria\\textbar{}p\\_\\_Firmicutes\\textbar{}c\\_\\_Clostridia\\textbar{}o\\_\\_Clostridiales\\textbar{}f\\_\\_Clostridiaceae\\textbar{}g\\_\\_Clostridium\\textbar{}s\\_\\_Clostridium\\_symbiosum                               &          Inf & 4.264747e-04\\\\\n",
       "\t k\\_\\_Bacteria\\textbar{}p\\_\\_Firmicutes\\textbar{}c\\_\\_Clostridia\\textbar{}o\\_\\_Clostridiales\\textbar{}f\\_\\_Eubacteriaceae\\textbar{}g\\_\\_Eubacterium\\textbar{}s\\_\\_Eubacterium\\_sp\\_3\\_1\\_31                               &          Inf & 4.412852e-04\\\\\n",
       "\t k\\_\\_Bacteria\\textbar{}p\\_\\_Firmicutes\\textbar{}c\\_\\_Clostridia\\textbar{}o\\_\\_Clostridiales\\textbar{}f\\_\\_Clostridiaceae\\textbar{}g\\_\\_Clostridium\\textbar{}s\\_\\_Clostridium\\_asparagiforme                           &          Inf & 5.264061e-04\\\\\n",
       "\t k\\_\\_Bacteria\\textbar{}p\\_\\_Firmicutes\\textbar{}c\\_\\_Clostridia\\textbar{}o\\_\\_Clostridiales\\textbar{}f\\_\\_Clostridiaceae\\textbar{}g\\_\\_Clostridium\\textbar{}s\\_\\_Clostridium\\_sp\\_KLE\\_1755                             &          Inf & 1.366855e-03\\\\\n",
       "\t k\\_\\_Bacteria\\textbar{}p\\_\\_Firmicutes\\textbar{}c\\_\\_Clostridia\\textbar{}o\\_\\_Clostridiales\\textbar{}f\\_\\_Clostridiaceae\\textbar{}g\\_\\_Clostridium\\textbar{}s\\_\\_Clostridium\\_nexile                                  &          Inf & 1.366855e-03\\\\\n",
       "\t k\\_\\_Bacteria\\textbar{}p\\_\\_Firmicutes\\textbar{}c\\_\\_Clostridia\\textbar{}o\\_\\_Clostridiales\\textbar{}f\\_\\_Clostridiaceae\\textbar{}g\\_\\_Clostridium\\textbar{}s\\_\\_Clostridium\\_bolteae                                 & 2.455944e+02 & 2.280412e-03\\\\\n",
       "\t k\\_\\_Bacteria\\textbar{}p\\_\\_Bacteroidetes\\textbar{}c\\_\\_Bacteroidia\\textbar{}o\\_\\_Bacteroidales\\textbar{}f\\_\\_Bacteroidaceae\\textbar{}g\\_\\_Bacteroides\\textbar{}s\\_\\_Bacteroides\\_cellulosilyticus                    & 1.148826e+01 & 2.682917e-03\\\\\n",
       "\t k\\_\\_Bacteria\\textbar{}p\\_\\_Firmicutes\\textbar{}c\\_\\_Negativicutes\\textbar{}o\\_\\_Selenomonadales\\textbar{}f\\_\\_Acidaminococcaceae\\textbar{}g\\_\\_Acidaminococcus\\textbar{}s\\_\\_Acidaminococcus\\_unclassified           &          Inf & 3.465567e-03\\\\\n",
       "\t k\\_\\_Bacteria\\textbar{}p\\_\\_Bacteroidetes\\textbar{}c\\_\\_Bacteroidia\\textbar{}o\\_\\_Bacteroidales\\textbar{}f\\_\\_Prevotellaceae\\textbar{}g\\_\\_Prevotella\\textbar{}s\\_\\_Prevotella\\_disiens                               &          Inf & 4.697377e-03\\\\\n",
       "\t k\\_\\_Bacteria\\textbar{}p\\_\\_Bacteroidetes\\textbar{}c\\_\\_Bacteroidia\\textbar{}o\\_\\_Bacteroidales\\textbar{}f\\_\\_Porphyromonadaceae\\textbar{}g\\_\\_Parabacteroides\\textbar{}s\\_\\_Parabacteroides\\_unclassified            & 4.618991e-01 & 6.126751e-03\\\\\n",
       "\t k\\_\\_Bacteria\\textbar{}p\\_\\_Firmicutes\\textbar{}c\\_\\_Clostridia\\textbar{}o\\_\\_Clostridiales\\textbar{}f\\_\\_Lachnospiraceae\\textbar{}g\\_\\_Lachnospiraceae\\_noname\\textbar{}s\\_\\_Lachnospiraceae\\_bacterium\\_1\\_4\\_56FAA     &          Inf & 6.126751e-03\\\\\n",
       "\t k\\_\\_Bacteria\\textbar{}p\\_\\_Firmicutes\\textbar{}c\\_\\_Clostridia\\textbar{}o\\_\\_Clostridiales\\textbar{}f\\_\\_Lachnospiraceae\\textbar{}g\\_\\_Lachnospiraceae\\_noname\\textbar{}s\\_\\_Lachnospiraceae\\_bacterium\\_3\\_1\\_57FAA\\_CT1 &          Inf & 6.737145e-03\\\\\n",
       "\t k\\_\\_Bacteria\\textbar{}p\\_\\_Firmicutes\\textbar{}c\\_\\_Clostridia\\textbar{}o\\_\\_Clostridiales\\textbar{}f\\_\\_Clostridiaceae\\textbar{}g\\_\\_Clostridium\\textbar{}s\\_\\_Clostridium\\_sp\\_D5                                   &          Inf & 7.374602e-03\\\\\n",
       "\t k\\_\\_Bacteria\\textbar{}p\\_\\_Firmicutes\\textbar{}c\\_\\_Clostridia\\textbar{}o\\_\\_Clostridiales\\textbar{}f\\_\\_Eubacteriaceae\\textbar{}g\\_\\_Eubacterium\\textbar{}s\\_\\_Eubacterium\\_siraeum                                 & 6.097287e-02 & 7.878477e-03\\\\\n",
       "\t k\\_\\_Bacteria\\textbar{}p\\_\\_Bacteroidetes\\textbar{}c\\_\\_Bacteroidia\\textbar{}o\\_\\_Bacteroidales\\textbar{}f\\_\\_Bacteroidaceae\\textbar{}g\\_\\_Bacteroides\\textbar{}s\\_\\_Bacteroides\\_sp\\_1\\_1\\_6                            &          Inf & 8.500603e-03\\\\\n",
       "\t k\\_\\_Bacteria\\textbar{}p\\_\\_Bacteroidetes\\textbar{}c\\_\\_Bacteroidia\\textbar{}o\\_\\_Bacteroidales\\textbar{}f\\_\\_Porphyromonadaceae\\textbar{}g\\_\\_Porphyromonas\\textbar{}s\\_\\_Porphyromonas\\_uenonis                     &          Inf & 1.119610e-02\\\\\n",
       "\t k\\_\\_Bacteria\\textbar{}p\\_\\_Firmicutes\\textbar{}c\\_\\_Clostridia\\textbar{}o\\_\\_Clostridiales\\textbar{}f\\_\\_Lachnospiraceae\\textbar{}g\\_\\_Lachnospiraceae\\_noname\\textbar{}s\\_\\_Lachnospiraceae\\_bacterium\\_2\\_1\\_58FAA     &          Inf & 1.363450e-02\\\\\n",
       "\t k\\_\\_Bacteria\\textbar{}p\\_\\_Firmicutes\\textbar{}c\\_\\_Negativicutes\\textbar{}o\\_\\_Selenomonadales\\textbar{}f\\_\\_Veillonellaceae\\textbar{}g\\_\\_Veillonella\\textbar{}s\\_\\_Veillonella\\_atypica                           &          Inf & 1.414549e-02\\\\\n",
       "\t k\\_\\_Bacteria\\textbar{}p\\_\\_Actinobacteria\\textbar{}c\\_\\_Actinobacteria\\textbar{}o\\_\\_Coriobacteriales\\textbar{}f\\_\\_Coriobacteriaceae\\textbar{}g\\_\\_Eggerthella\\textbar{}s\\_\\_Eggerthella\\_unclassified              &          Inf & 1.414549e-02\\\\\n",
       "\t k\\_\\_Bacteria\\textbar{}p\\_\\_Verrucomicrobia\\textbar{}c\\_\\_Verrucomicrobiae\\textbar{}o\\_\\_Verrucomicrobiales\\textbar{}f\\_\\_Verrucomicrobiaceae\\textbar{}g\\_\\_Akkermansia\\textbar{}s\\_\\_Akkermansia\\_muciniphila        & 0.000000e+00 & 1.579865e-02\\\\\n",
       "\t k\\_\\_Bacteria\\textbar{}p\\_\\_Bacteroidetes\\textbar{}c\\_\\_Bacteroidia\\textbar{}o\\_\\_Bacteroidales\\textbar{}f\\_\\_Prevotellaceae\\textbar{}g\\_\\_Prevotella\\textbar{}s\\_\\_Prevotella\\_timonensis                            &          Inf & 1.579865e-02\\\\\n",
       "\t k\\_\\_Bacteria\\textbar{}p\\_\\_Firmicutes\\textbar{}c\\_\\_Clostridia\\textbar{}o\\_\\_Clostridiales\\textbar{}f\\_\\_Clostridiaceae\\textbar{}g\\_\\_Clostridium\\textbar{}s\\_\\_Clostridium\\_hathewayi                               &          Inf & 1.735234e-02\\\\\n",
       "\t k\\_\\_Bacteria\\textbar{}p\\_\\_Proteobacteria\\textbar{}c\\_\\_Deltaproteobacteria\\textbar{}o\\_\\_Desulfovibrionales\\textbar{}f\\_\\_Desulfovibrionaceae\\textbar{}g\\_\\_Bilophila\\textbar{}s\\_\\_Bilophila\\_wadsworthia          & 9.363356e+02 & 2.769396e-02\\\\\n",
       "\t k\\_\\_Bacteria\\textbar{}p\\_\\_Firmicutes\\textbar{}c\\_\\_Erysipelotrichia\\textbar{}o\\_\\_Erysipelotrichales\\textbar{}f\\_\\_Erysipelotrichaceae\\textbar{}g\\_\\_Coprobacillus\\textbar{}s\\_\\_Coprobacillus\\_unclassified        &          Inf & 2.774869e-02\\\\\n",
       "\t k\\_\\_Bacteria\\textbar{}p\\_\\_Proteobacteria\\textbar{}c\\_\\_Gammaproteobacteria\\textbar{}o\\_\\_Pasteurellales\\textbar{}f\\_\\_Pasteurellaceae\\textbar{}g\\_\\_Actinobacillus\\textbar{}s\\_\\_Actinobacillus\\_unclassified       &          Inf & 2.847749e-02\\\\\n",
       "\t k\\_\\_Bacteria\\textbar{}p\\_\\_Bacteroidetes\\textbar{}c\\_\\_Bacteroidia\\textbar{}o\\_\\_Bacteroidales\\textbar{}f\\_\\_Bacteroidaceae\\textbar{}g\\_\\_Bacteroides\\textbar{}s\\_\\_Bacteroides\\_eggerthii                           & 3.599094e-04 & 2.847749e-02\\\\\n",
       "\t k\\_\\_Bacteria\\textbar{}p\\_\\_Bacteroidetes\\textbar{}c\\_\\_Bacteroidia\\textbar{}o\\_\\_Bacteroidales\\textbar{}f\\_\\_Porphyromonadaceae\\textbar{}g\\_\\_Porphyromonas\\textbar{}s\\_\\_Porphyromonas\\_somerae                     &          Inf & 2.986646e-02\\\\\n",
       "\t k\\_\\_Bacteria\\textbar{}p\\_\\_Bacteroidetes\\textbar{}c\\_\\_Bacteroidia\\textbar{}o\\_\\_Bacteroidales\\textbar{}f\\_\\_Prevotellaceae\\textbar{}g\\_\\_Prevotella\\textbar{}s\\_\\_Prevotella\\_bivia                                 &          Inf & 2.986646e-02\\\\\n",
       "\t k\\_\\_Bacteria\\textbar{}p\\_\\_Bacteroidetes\\textbar{}c\\_\\_Bacteroidia\\textbar{}o\\_\\_Bacteroidales\\textbar{}f\\_\\_Porphyromonadaceae\\textbar{}g\\_\\_Porphyromonas\\textbar{}s\\_\\_Porphyromonas\\_bennonis                    &          Inf & 2.986646e-02\\\\\n",
       "\t k\\_\\_Bacteria\\textbar{}p\\_\\_Bacteroidetes\\textbar{}c\\_\\_Bacteroidia\\textbar{}o\\_\\_Bacteroidales\\textbar{}f\\_\\_Bacteroidaceae\\textbar{}g\\_\\_Bacteroides\\textbar{}s\\_\\_Bacteroides\\_intestinalis                        & 3.159772e+00 & 2.986646e-02\\\\\n",
       "\t k\\_\\_Bacteria\\textbar{}p\\_\\_Firmicutes\\textbar{}c\\_\\_Clostridia\\textbar{}o\\_\\_Clostridiales\\textbar{}f\\_\\_Ruminococcaceae\\textbar{}g\\_\\_Anaerotruncus\\textbar{}s\\_\\_Anaerotruncus\\_colihominis                        & 5.284400e+02 & 2.986646e-02\\\\\n",
       "\t k\\_\\_Bacteria\\textbar{}p\\_\\_Firmicutes\\textbar{}c\\_\\_Clostridia\\textbar{}o\\_\\_Clostridiales\\textbar{}f\\_\\_Lachnospiraceae\\textbar{}g\\_\\_Lachnospiraceae\\_noname\\textbar{}s\\_\\_Lachnospiraceae\\_bacterium\\_5\\_1\\_57FAA     &          Inf & 3.079357e-02\\\\\n",
       "\t k\\_\\_Bacteria\\textbar{}p\\_\\_Firmicutes\\textbar{}c\\_\\_Clostridia\\textbar{}o\\_\\_Clostridiales\\textbar{}f\\_\\_Peptostreptococcaceae\\textbar{}g\\_\\_Peptostreptococcaceae\\_noname\\textbar{}s\\_\\_Clostridium\\_bartlettii      & 3.237389e+00 & 3.079357e-02\\\\\n",
       "\t k\\_\\_Bacteria\\textbar{}p\\_\\_Bacteroidetes\\textbar{}c\\_\\_Bacteroidia\\textbar{}o\\_\\_Bacteroidales\\textbar{}f\\_\\_Rikenellaceae\\textbar{}g\\_\\_Alistipes\\textbar{}s\\_\\_Alistipes\\_finegoldii                               & 0.000000e+00 & 3.247580e-02\\\\\n",
       "\t k\\_\\_Bacteria\\textbar{}p\\_\\_Bacteroidetes\\textbar{}c\\_\\_Bacteroidia\\textbar{}o\\_\\_Bacteroidales\\textbar{}f\\_\\_Porphyromonadaceae\\textbar{}g\\_\\_Barnesiella\\textbar{}s\\_\\_Barnesiella\\_intestinihominis                & 1.786616e-01 & 4.181196e-02\\\\\n",
       "\t k\\_\\_Bacteria\\textbar{}p\\_\\_Bacteroidetes\\textbar{}c\\_\\_Bacteroidia\\textbar{}o\\_\\_Bacteroidales\\textbar{}f\\_\\_Bacteroidaceae\\textbar{}g\\_\\_Bacteroides\\textbar{}s\\_\\_Bacteroides\\_thetaiotaomicron                    & 3.112551e-02 & 4.260884e-02\\\\\n",
       "\\end{tabular}\n"
      ],
      "text/markdown": [
       "\n",
       "A data.frame: 40 × 3\n",
       "\n",
       "| species &lt;chr&gt; | fold_change &lt;dbl&gt; | adjustPvalue &lt;dbl&gt; |\n",
       "|---|---|---|\n",
       "| k__Bacteria|p__Bacteroidetes|c__Bacteroidia|o__Bacteroidales|f__Prevotellaceae|g__Prevotella|s__Prevotella_copri                                 | 0.000000e+00 | 3.550525e-09 |\n",
       "| k__Bacteria|p__Firmicutes|c__Clostridia|o__Clostridiales|f__Clostridiaceae|g__Clostridium|s__Clostridium_clostridioforme                         |          Inf | 6.172808e-05 |\n",
       "| k__Bacteria|p__Bacteroidetes|c__Bacteroidia|o__Bacteroidales|f__Rikenellaceae|g__Alistipes|s__Alistipes_onderdonkii                              | 0.000000e+00 | 6.172808e-05 |\n",
       "| k__Bacteria|p__Firmicutes|c__Clostridia|o__Clostridiales|f__Oscillospiraceae|g__Oscillibacter|s__Oscillibacter_sp_KLE_1745                       |          Inf | 1.055650e-04 |\n",
       "| k__Bacteria|p__Firmicutes|c__Clostridia|o__Clostridiales|f__Clostridiaceae|g__Clostridium|s__Clostridium_symbiosum                               |          Inf | 4.264747e-04 |\n",
       "| k__Bacteria|p__Firmicutes|c__Clostridia|o__Clostridiales|f__Eubacteriaceae|g__Eubacterium|s__Eubacterium_sp_3_1_31                               |          Inf | 4.412852e-04 |\n",
       "| k__Bacteria|p__Firmicutes|c__Clostridia|o__Clostridiales|f__Clostridiaceae|g__Clostridium|s__Clostridium_asparagiforme                           |          Inf | 5.264061e-04 |\n",
       "| k__Bacteria|p__Firmicutes|c__Clostridia|o__Clostridiales|f__Clostridiaceae|g__Clostridium|s__Clostridium_sp_KLE_1755                             |          Inf | 1.366855e-03 |\n",
       "| k__Bacteria|p__Firmicutes|c__Clostridia|o__Clostridiales|f__Clostridiaceae|g__Clostridium|s__Clostridium_nexile                                  |          Inf | 1.366855e-03 |\n",
       "| k__Bacteria|p__Firmicutes|c__Clostridia|o__Clostridiales|f__Clostridiaceae|g__Clostridium|s__Clostridium_bolteae                                 | 2.455944e+02 | 2.280412e-03 |\n",
       "| k__Bacteria|p__Bacteroidetes|c__Bacteroidia|o__Bacteroidales|f__Bacteroidaceae|g__Bacteroides|s__Bacteroides_cellulosilyticus                    | 1.148826e+01 | 2.682917e-03 |\n",
       "| k__Bacteria|p__Firmicutes|c__Negativicutes|o__Selenomonadales|f__Acidaminococcaceae|g__Acidaminococcus|s__Acidaminococcus_unclassified           |          Inf | 3.465567e-03 |\n",
       "| k__Bacteria|p__Bacteroidetes|c__Bacteroidia|o__Bacteroidales|f__Prevotellaceae|g__Prevotella|s__Prevotella_disiens                               |          Inf | 4.697377e-03 |\n",
       "| k__Bacteria|p__Bacteroidetes|c__Bacteroidia|o__Bacteroidales|f__Porphyromonadaceae|g__Parabacteroides|s__Parabacteroides_unclassified            | 4.618991e-01 | 6.126751e-03 |\n",
       "| k__Bacteria|p__Firmicutes|c__Clostridia|o__Clostridiales|f__Lachnospiraceae|g__Lachnospiraceae_noname|s__Lachnospiraceae_bacterium_1_4_56FAA     |          Inf | 6.126751e-03 |\n",
       "| k__Bacteria|p__Firmicutes|c__Clostridia|o__Clostridiales|f__Lachnospiraceae|g__Lachnospiraceae_noname|s__Lachnospiraceae_bacterium_3_1_57FAA_CT1 |          Inf | 6.737145e-03 |\n",
       "| k__Bacteria|p__Firmicutes|c__Clostridia|o__Clostridiales|f__Clostridiaceae|g__Clostridium|s__Clostridium_sp_D5                                   |          Inf | 7.374602e-03 |\n",
       "| k__Bacteria|p__Firmicutes|c__Clostridia|o__Clostridiales|f__Eubacteriaceae|g__Eubacterium|s__Eubacterium_siraeum                                 | 6.097287e-02 | 7.878477e-03 |\n",
       "| k__Bacteria|p__Bacteroidetes|c__Bacteroidia|o__Bacteroidales|f__Bacteroidaceae|g__Bacteroides|s__Bacteroides_sp_1_1_6                            |          Inf | 8.500603e-03 |\n",
       "| k__Bacteria|p__Bacteroidetes|c__Bacteroidia|o__Bacteroidales|f__Porphyromonadaceae|g__Porphyromonas|s__Porphyromonas_uenonis                     |          Inf | 1.119610e-02 |\n",
       "| k__Bacteria|p__Firmicutes|c__Clostridia|o__Clostridiales|f__Lachnospiraceae|g__Lachnospiraceae_noname|s__Lachnospiraceae_bacterium_2_1_58FAA     |          Inf | 1.363450e-02 |\n",
       "| k__Bacteria|p__Firmicutes|c__Negativicutes|o__Selenomonadales|f__Veillonellaceae|g__Veillonella|s__Veillonella_atypica                           |          Inf | 1.414549e-02 |\n",
       "| k__Bacteria|p__Actinobacteria|c__Actinobacteria|o__Coriobacteriales|f__Coriobacteriaceae|g__Eggerthella|s__Eggerthella_unclassified              |          Inf | 1.414549e-02 |\n",
       "| k__Bacteria|p__Verrucomicrobia|c__Verrucomicrobiae|o__Verrucomicrobiales|f__Verrucomicrobiaceae|g__Akkermansia|s__Akkermansia_muciniphila        | 0.000000e+00 | 1.579865e-02 |\n",
       "| k__Bacteria|p__Bacteroidetes|c__Bacteroidia|o__Bacteroidales|f__Prevotellaceae|g__Prevotella|s__Prevotella_timonensis                            |          Inf | 1.579865e-02 |\n",
       "| k__Bacteria|p__Firmicutes|c__Clostridia|o__Clostridiales|f__Clostridiaceae|g__Clostridium|s__Clostridium_hathewayi                               |          Inf | 1.735234e-02 |\n",
       "| k__Bacteria|p__Proteobacteria|c__Deltaproteobacteria|o__Desulfovibrionales|f__Desulfovibrionaceae|g__Bilophila|s__Bilophila_wadsworthia          | 9.363356e+02 | 2.769396e-02 |\n",
       "| k__Bacteria|p__Firmicutes|c__Erysipelotrichia|o__Erysipelotrichales|f__Erysipelotrichaceae|g__Coprobacillus|s__Coprobacillus_unclassified        |          Inf | 2.774869e-02 |\n",
       "| k__Bacteria|p__Proteobacteria|c__Gammaproteobacteria|o__Pasteurellales|f__Pasteurellaceae|g__Actinobacillus|s__Actinobacillus_unclassified       |          Inf | 2.847749e-02 |\n",
       "| k__Bacteria|p__Bacteroidetes|c__Bacteroidia|o__Bacteroidales|f__Bacteroidaceae|g__Bacteroides|s__Bacteroides_eggerthii                           | 3.599094e-04 | 2.847749e-02 |\n",
       "| k__Bacteria|p__Bacteroidetes|c__Bacteroidia|o__Bacteroidales|f__Porphyromonadaceae|g__Porphyromonas|s__Porphyromonas_somerae                     |          Inf | 2.986646e-02 |\n",
       "| k__Bacteria|p__Bacteroidetes|c__Bacteroidia|o__Bacteroidales|f__Prevotellaceae|g__Prevotella|s__Prevotella_bivia                                 |          Inf | 2.986646e-02 |\n",
       "| k__Bacteria|p__Bacteroidetes|c__Bacteroidia|o__Bacteroidales|f__Porphyromonadaceae|g__Porphyromonas|s__Porphyromonas_bennonis                    |          Inf | 2.986646e-02 |\n",
       "| k__Bacteria|p__Bacteroidetes|c__Bacteroidia|o__Bacteroidales|f__Bacteroidaceae|g__Bacteroides|s__Bacteroides_intestinalis                        | 3.159772e+00 | 2.986646e-02 |\n",
       "| k__Bacteria|p__Firmicutes|c__Clostridia|o__Clostridiales|f__Ruminococcaceae|g__Anaerotruncus|s__Anaerotruncus_colihominis                        | 5.284400e+02 | 2.986646e-02 |\n",
       "| k__Bacteria|p__Firmicutes|c__Clostridia|o__Clostridiales|f__Lachnospiraceae|g__Lachnospiraceae_noname|s__Lachnospiraceae_bacterium_5_1_57FAA     |          Inf | 3.079357e-02 |\n",
       "| k__Bacteria|p__Firmicutes|c__Clostridia|o__Clostridiales|f__Peptostreptococcaceae|g__Peptostreptococcaceae_noname|s__Clostridium_bartlettii      | 3.237389e+00 | 3.079357e-02 |\n",
       "| k__Bacteria|p__Bacteroidetes|c__Bacteroidia|o__Bacteroidales|f__Rikenellaceae|g__Alistipes|s__Alistipes_finegoldii                               | 0.000000e+00 | 3.247580e-02 |\n",
       "| k__Bacteria|p__Bacteroidetes|c__Bacteroidia|o__Bacteroidales|f__Porphyromonadaceae|g__Barnesiella|s__Barnesiella_intestinihominis                | 1.786616e-01 | 4.181196e-02 |\n",
       "| k__Bacteria|p__Bacteroidetes|c__Bacteroidia|o__Bacteroidales|f__Bacteroidaceae|g__Bacteroides|s__Bacteroides_thetaiotaomicron                    | 3.112551e-02 | 4.260884e-02 |\n",
       "\n"
      ],
      "text/plain": [
       "   species                                                                                                                                         \n",
       "1  k__Bacteria|p__Bacteroidetes|c__Bacteroidia|o__Bacteroidales|f__Prevotellaceae|g__Prevotella|s__Prevotella_copri                                \n",
       "2  k__Bacteria|p__Firmicutes|c__Clostridia|o__Clostridiales|f__Clostridiaceae|g__Clostridium|s__Clostridium_clostridioforme                        \n",
       "3  k__Bacteria|p__Bacteroidetes|c__Bacteroidia|o__Bacteroidales|f__Rikenellaceae|g__Alistipes|s__Alistipes_onderdonkii                             \n",
       "4  k__Bacteria|p__Firmicutes|c__Clostridia|o__Clostridiales|f__Oscillospiraceae|g__Oscillibacter|s__Oscillibacter_sp_KLE_1745                      \n",
       "5  k__Bacteria|p__Firmicutes|c__Clostridia|o__Clostridiales|f__Clostridiaceae|g__Clostridium|s__Clostridium_symbiosum                              \n",
       "6  k__Bacteria|p__Firmicutes|c__Clostridia|o__Clostridiales|f__Eubacteriaceae|g__Eubacterium|s__Eubacterium_sp_3_1_31                              \n",
       "7  k__Bacteria|p__Firmicutes|c__Clostridia|o__Clostridiales|f__Clostridiaceae|g__Clostridium|s__Clostridium_asparagiforme                          \n",
       "8  k__Bacteria|p__Firmicutes|c__Clostridia|o__Clostridiales|f__Clostridiaceae|g__Clostridium|s__Clostridium_sp_KLE_1755                            \n",
       "9  k__Bacteria|p__Firmicutes|c__Clostridia|o__Clostridiales|f__Clostridiaceae|g__Clostridium|s__Clostridium_nexile                                 \n",
       "10 k__Bacteria|p__Firmicutes|c__Clostridia|o__Clostridiales|f__Clostridiaceae|g__Clostridium|s__Clostridium_bolteae                                \n",
       "11 k__Bacteria|p__Bacteroidetes|c__Bacteroidia|o__Bacteroidales|f__Bacteroidaceae|g__Bacteroides|s__Bacteroides_cellulosilyticus                   \n",
       "12 k__Bacteria|p__Firmicutes|c__Negativicutes|o__Selenomonadales|f__Acidaminococcaceae|g__Acidaminococcus|s__Acidaminococcus_unclassified          \n",
       "13 k__Bacteria|p__Bacteroidetes|c__Bacteroidia|o__Bacteroidales|f__Prevotellaceae|g__Prevotella|s__Prevotella_disiens                              \n",
       "14 k__Bacteria|p__Bacteroidetes|c__Bacteroidia|o__Bacteroidales|f__Porphyromonadaceae|g__Parabacteroides|s__Parabacteroides_unclassified           \n",
       "15 k__Bacteria|p__Firmicutes|c__Clostridia|o__Clostridiales|f__Lachnospiraceae|g__Lachnospiraceae_noname|s__Lachnospiraceae_bacterium_1_4_56FAA    \n",
       "16 k__Bacteria|p__Firmicutes|c__Clostridia|o__Clostridiales|f__Lachnospiraceae|g__Lachnospiraceae_noname|s__Lachnospiraceae_bacterium_3_1_57FAA_CT1\n",
       "17 k__Bacteria|p__Firmicutes|c__Clostridia|o__Clostridiales|f__Clostridiaceae|g__Clostridium|s__Clostridium_sp_D5                                  \n",
       "18 k__Bacteria|p__Firmicutes|c__Clostridia|o__Clostridiales|f__Eubacteriaceae|g__Eubacterium|s__Eubacterium_siraeum                                \n",
       "19 k__Bacteria|p__Bacteroidetes|c__Bacteroidia|o__Bacteroidales|f__Bacteroidaceae|g__Bacteroides|s__Bacteroides_sp_1_1_6                           \n",
       "20 k__Bacteria|p__Bacteroidetes|c__Bacteroidia|o__Bacteroidales|f__Porphyromonadaceae|g__Porphyromonas|s__Porphyromonas_uenonis                    \n",
       "21 k__Bacteria|p__Firmicutes|c__Clostridia|o__Clostridiales|f__Lachnospiraceae|g__Lachnospiraceae_noname|s__Lachnospiraceae_bacterium_2_1_58FAA    \n",
       "22 k__Bacteria|p__Firmicutes|c__Negativicutes|o__Selenomonadales|f__Veillonellaceae|g__Veillonella|s__Veillonella_atypica                          \n",
       "23 k__Bacteria|p__Actinobacteria|c__Actinobacteria|o__Coriobacteriales|f__Coriobacteriaceae|g__Eggerthella|s__Eggerthella_unclassified             \n",
       "24 k__Bacteria|p__Verrucomicrobia|c__Verrucomicrobiae|o__Verrucomicrobiales|f__Verrucomicrobiaceae|g__Akkermansia|s__Akkermansia_muciniphila       \n",
       "25 k__Bacteria|p__Bacteroidetes|c__Bacteroidia|o__Bacteroidales|f__Prevotellaceae|g__Prevotella|s__Prevotella_timonensis                           \n",
       "26 k__Bacteria|p__Firmicutes|c__Clostridia|o__Clostridiales|f__Clostridiaceae|g__Clostridium|s__Clostridium_hathewayi                              \n",
       "27 k__Bacteria|p__Proteobacteria|c__Deltaproteobacteria|o__Desulfovibrionales|f__Desulfovibrionaceae|g__Bilophila|s__Bilophila_wadsworthia         \n",
       "28 k__Bacteria|p__Firmicutes|c__Erysipelotrichia|o__Erysipelotrichales|f__Erysipelotrichaceae|g__Coprobacillus|s__Coprobacillus_unclassified       \n",
       "29 k__Bacteria|p__Proteobacteria|c__Gammaproteobacteria|o__Pasteurellales|f__Pasteurellaceae|g__Actinobacillus|s__Actinobacillus_unclassified      \n",
       "30 k__Bacteria|p__Bacteroidetes|c__Bacteroidia|o__Bacteroidales|f__Bacteroidaceae|g__Bacteroides|s__Bacteroides_eggerthii                          \n",
       "31 k__Bacteria|p__Bacteroidetes|c__Bacteroidia|o__Bacteroidales|f__Porphyromonadaceae|g__Porphyromonas|s__Porphyromonas_somerae                    \n",
       "32 k__Bacteria|p__Bacteroidetes|c__Bacteroidia|o__Bacteroidales|f__Prevotellaceae|g__Prevotella|s__Prevotella_bivia                                \n",
       "33 k__Bacteria|p__Bacteroidetes|c__Bacteroidia|o__Bacteroidales|f__Porphyromonadaceae|g__Porphyromonas|s__Porphyromonas_bennonis                   \n",
       "34 k__Bacteria|p__Bacteroidetes|c__Bacteroidia|o__Bacteroidales|f__Bacteroidaceae|g__Bacteroides|s__Bacteroides_intestinalis                       \n",
       "35 k__Bacteria|p__Firmicutes|c__Clostridia|o__Clostridiales|f__Ruminococcaceae|g__Anaerotruncus|s__Anaerotruncus_colihominis                       \n",
       "36 k__Bacteria|p__Firmicutes|c__Clostridia|o__Clostridiales|f__Lachnospiraceae|g__Lachnospiraceae_noname|s__Lachnospiraceae_bacterium_5_1_57FAA    \n",
       "37 k__Bacteria|p__Firmicutes|c__Clostridia|o__Clostridiales|f__Peptostreptococcaceae|g__Peptostreptococcaceae_noname|s__Clostridium_bartlettii     \n",
       "38 k__Bacteria|p__Bacteroidetes|c__Bacteroidia|o__Bacteroidales|f__Rikenellaceae|g__Alistipes|s__Alistipes_finegoldii                              \n",
       "39 k__Bacteria|p__Bacteroidetes|c__Bacteroidia|o__Bacteroidales|f__Porphyromonadaceae|g__Barnesiella|s__Barnesiella_intestinihominis               \n",
       "40 k__Bacteria|p__Bacteroidetes|c__Bacteroidia|o__Bacteroidales|f__Bacteroidaceae|g__Bacteroides|s__Bacteroides_thetaiotaomicron                   \n",
       "   fold_change  adjustPvalue\n",
       "1  0.000000e+00 3.550525e-09\n",
       "2           Inf 6.172808e-05\n",
       "3  0.000000e+00 6.172808e-05\n",
       "4           Inf 1.055650e-04\n",
       "5           Inf 4.264747e-04\n",
       "6           Inf 4.412852e-04\n",
       "7           Inf 5.264061e-04\n",
       "8           Inf 1.366855e-03\n",
       "9           Inf 1.366855e-03\n",
       "10 2.455944e+02 2.280412e-03\n",
       "11 1.148826e+01 2.682917e-03\n",
       "12          Inf 3.465567e-03\n",
       "13          Inf 4.697377e-03\n",
       "14 4.618991e-01 6.126751e-03\n",
       "15          Inf 6.126751e-03\n",
       "16          Inf 6.737145e-03\n",
       "17          Inf 7.374602e-03\n",
       "18 6.097287e-02 7.878477e-03\n",
       "19          Inf 8.500603e-03\n",
       "20          Inf 1.119610e-02\n",
       "21          Inf 1.363450e-02\n",
       "22          Inf 1.414549e-02\n",
       "23          Inf 1.414549e-02\n",
       "24 0.000000e+00 1.579865e-02\n",
       "25          Inf 1.579865e-02\n",
       "26          Inf 1.735234e-02\n",
       "27 9.363356e+02 2.769396e-02\n",
       "28          Inf 2.774869e-02\n",
       "29          Inf 2.847749e-02\n",
       "30 3.599094e-04 2.847749e-02\n",
       "31          Inf 2.986646e-02\n",
       "32          Inf 2.986646e-02\n",
       "33          Inf 2.986646e-02\n",
       "34 3.159772e+00 2.986646e-02\n",
       "35 5.284400e+02 2.986646e-02\n",
       "36          Inf 3.079357e-02\n",
       "37 3.237389e+00 3.079357e-02\n",
       "38 0.000000e+00 3.247580e-02\n",
       "39 1.786616e-01 4.181196e-02\n",
       "40 3.112551e-02 4.260884e-02"
      ]
     },
     "metadata": {},
     "output_type": "display_data"
    }
   ],
   "source": [
    "CD_vs_nonIBD_species_DA_confounder_consent_age"
   ]
  },
  {
   "cell_type": "markdown",
   "metadata": {},
   "source": [
    "3.4.1.3.2 基于差异物种丰度谱对样本进行聚类分析"
   ]
  },
  {
   "cell_type": "code",
   "execution_count": 5,
   "metadata": {},
   "outputs": [],
   "source": [
    "DA <- read.table(\"/work/results/metagenomeSeq/CD_vs_nonIBD_species_DA_confounder_consent_age.txt\",stringsAsFactors=F,sep=\"\\t\",header=T)"
   ]
  },
  {
   "cell_type": "code",
   "execution_count": 6,
   "metadata": {},
   "outputs": [],
   "source": [
    "metaphlan2_taxonomic_profiles <- read.delim(\"/work/results/biobakery_workflows/metaphlan2/merged/metaphlan2_taxonomic_profiles.tsv\",stringsAsFactors=F,sep=\"\\t\",header=T)"
   ]
  },
  {
   "cell_type": "code",
   "execution_count": 7,
   "metadata": {},
   "outputs": [],
   "source": [
    "species_taxonomic_profiles <- metaphlan2_taxonomic_profiles[sapply(metaphlan2_taxonomic_profiles$X.SampleID,function(x) length(strsplit(x,\"\\\\|\")[[1]])==7),]"
   ]
  },
  {
   "cell_type": "code",
   "execution_count": 8,
   "metadata": {},
   "outputs": [],
   "source": [
    "species_taxonomic_profiles[,-1] <- species_taxonomic_profiles[,-1]/100"
   ]
  },
  {
   "cell_type": "code",
   "execution_count": 9,
   "metadata": {},
   "outputs": [],
   "source": [
    "colnames(species_taxonomic_profiles)[-1] <- sapply(colnames(species_taxonomic_profiles)[-1],function(x) strsplit(x,\"_\")[[1]][1])"
   ]
  },
  {
   "cell_type": "code",
   "execution_count": 10,
   "metadata": {},
   "outputs": [],
   "source": [
    "IBD_test_metadata <- read.table(\"/work/IBD_test_metadata.txt\",stringsAsFactors=F,sep=\"\\t\",header=T)"
   ]
  },
  {
   "cell_type": "code",
   "execution_count": 11,
   "metadata": {},
   "outputs": [],
   "source": [
    "read_count <- read.delim(\"/work/results/biobakery_workflows_output_vis/data/humann2_read_and_species_count_table.tsv\",stringsAsFactor=F,sep=\"\\t\")"
   ]
  },
  {
   "cell_type": "code",
   "execution_count": 12,
   "metadata": {},
   "outputs": [],
   "source": [
    "species_counts = sweep(species_taxonomic_profiles[,-1],2,read_count[match(colnames(species_taxonomic_profiles)[-1],read_count$X..samples),\"total.reads\"], \"*\")"
   ]
  },
  {
   "cell_type": "code",
   "execution_count": 13,
   "metadata": {},
   "outputs": [],
   "source": [
    "species_counts = round(species_counts)"
   ]
  },
  {
   "cell_type": "code",
   "execution_count": 14,
   "metadata": {},
   "outputs": [],
   "source": [
    "rownames(species_counts) <- species_taxonomic_profiles$X.SampleID"
   ]
  },
  {
   "cell_type": "code",
   "execution_count": 15,
   "metadata": {},
   "outputs": [],
   "source": [
    "DA_profile <- species_counts[match(DA$species,rownames(species_counts)),]"
   ]
  },
  {
   "cell_type": "code",
   "execution_count": 16,
   "metadata": {},
   "outputs": [],
   "source": [
    "write.table(DA_profile,\"/work/results/metagenomeSeq/CD_vs_nonIBD_species_DA_confounder_consent_age_profile.txt\",quote=F,sep=\"\\t\")"
   ]
  },
  {
   "cell_type": "code",
   "execution_count": 1,
   "metadata": {},
   "outputs": [
    {
     "name": "stdout",
     "output_type": "stream",
     "text": [
      "/opt/conda/bin/hclust2.py:152: FutureWarning: read_table is deprecated, use read_csv instead.\n",
      "  index_col = self.args.sname_row if self.args.sname_row > -1 else None\n"
     ]
    }
   ],
   "source": [
    "!sudo docker run --rm -v /Volumes/Untitled:/home/data biobakery-workflows-add-r-6 bash \\\n",
    "    -c 'hclust2.py -i /home/data/results/metagenomeSeq/CD_vs_nonIBD_species_DA_confounder_consent_age_profile.txt \\\n",
    "    -o /home/data/results/metagenomeSeq/DA_species_confounder_consent_age_BrayCurtis_Heatmap.pdf \\\n",
    "    --cell_aspect_ratio 0.5 -l \\\n",
    "    --max_flabel_len 100 --max_slabel_len 100 --dpi 300 \\\n",
    "    --title \"Species with differential abundance (Bray-Curtis)\" \\\n",
    "    --title_fontsize 8 --f_dist_f braycurtis --s_dist_f braycurtis \\\n",
    "    --colorbar_font_size 6 \\\n",
    "    --flabel_size 4 \\\n",
    "    --slabel_size 4'"
   ]
  },
  {
   "cell_type": "markdown",
   "metadata": {},
   "source": [
    "![**DA_species_confounder_consent_age_BrayCurtis_Heatmap**](results/metagenomeSeq/DA_species_confounder_consent_age_BrayCurtis_Heatmap.pdf)"
   ]
  },
  {
   "cell_type": "markdown",
   "metadata": {},
   "source": [
    "图说明：图中亮蓝色方框表示健康人样本，其余样本表示CD病人。从结果可以看出，考虑了年龄这个混杂因素之后，健康人样本聚成了一类。"
   ]
  },
  {
   "cell_type": "markdown",
   "metadata": {},
   "source": [
    "3.4.1.4 以性别作为混杂因素，在CD疾病和健康两种状态下，分析群落结构的差异丰度变化"
   ]
  },
  {
   "cell_type": "markdown",
   "metadata": {},
   "source": [
    "3.4.1.4.1 代码命令"
   ]
  },
  {
   "cell_type": "code",
   "execution_count": 83,
   "metadata": {},
   "outputs": [
    {
     "name": "stdout",
     "output_type": "stream",
     "text": [
      "Loading required package: Biobase\n",
      "Loading required package: BiocGenerics\n",
      "Loading required package: parallel\n",
      "\n",
      "Attaching package: ‘BiocGenerics’\n",
      "\n",
      "The following objects are masked from ‘package:parallel’:\n",
      "\n",
      "    clusterApply, clusterApplyLB, clusterCall, clusterEvalQ,\n",
      "    clusterExport, clusterMap, parApply, parCapply, parLapply,\n",
      "    parLapplyLB, parRapply, parSapply, parSapplyLB\n",
      "\n",
      "The following objects are masked from ‘package:stats’:\n",
      "\n",
      "    IQR, mad, sd, var, xtabs\n",
      "\n",
      "The following objects are masked from ‘package:base’:\n",
      "\n",
      "    anyDuplicated, append, as.data.frame, basename, cbind, colnames,\n",
      "    dirname, do.call, duplicated, eval, evalq, Filter, Find, get, grep,\n",
      "    grepl, intersect, is.unsorted, lapply, Map, mapply, match, mget,\n",
      "    order, paste, pmax, pmax.int, pmin, pmin.int, Position, rank,\n",
      "    rbind, Reduce, rownames, sapply, setdiff, sort, table, tapply,\n",
      "    union, unique, unsplit, which, which.max, which.min\n",
      "\n",
      "Welcome to Bioconductor\n",
      "\n",
      "    Vignettes contain introductory material; view with\n",
      "    'browseVignettes()'. To cite Bioconductor, see\n",
      "    'citation(\"Biobase\")', and for packages 'citation(\"pkgname\")'.\n",
      "\n",
      "Loading required package: limma\n",
      "\n",
      "Attaching package: ‘limma’\n",
      "\n",
      "The following object is masked from ‘package:BiocGenerics’:\n",
      "\n",
      "    plotMA\n",
      "\n",
      "Loading required package: glmnet\n",
      "Loading required package: Matrix\n",
      "Loaded glmnet 3.0-2\n",
      "\n",
      "Loading required package: RColorBrewer\n",
      "Default value being used.\n",
      "it= 0, nll=14.35, log10(eps+1)=Inf, stillActive=166\n",
      "it= 1, nll=14.33, log10(eps+1)=0.09, stillActive=104\n",
      "it= 2, nll=13.74, log10(eps+1)=0.08, stillActive=88\n",
      "it= 3, nll=14.17, log10(eps+1)=0.04, stillActive=43\n",
      "it= 4, nll=14.87, log10(eps+1)=0.02, stillActive=2\n",
      "it= 5, nll=14.92, log10(eps+1)=0.01, stillActive=0\n",
      "[1] \"Number of species with differential abundance:29\"\n"
     ]
    }
   ],
   "source": [
    "!sudo docker run --rm -v /Volumes/Untitled:/home/data biobakery-workflows-add-r-6 bash \\\n",
    "    -c 'Rscript /home/data/metagenomeSeq_species_diagnosis_confounder.R \\\n",
    "    --taxonomic_profile /home/data/results/biobakery_workflows/metaphlan2/merged/metaphlan2_taxonomic_profiles.tsv \\\n",
    "    --metadata /home/data/IBD_test_metadata.txt \\\n",
    "    --read_count /home/data/results/biobakery_workflows_output_vis/data/humann2_read_and_species_count_table.tsv \\\n",
    "    --output_all /home/data/results/metagenomeSeq/CD_vs_nonIBD_species_confounder_gender.txt \\\n",
    "    --output_DA /home/data/results/metagenomeSeq/CD_vs_nonIBD_species_DA_confounder_gender.txt \\\n",
    "    --confounder gender'    "
   ]
  },
  {
   "cell_type": "markdown",
   "metadata": {},
   "source": [
    "参数说明：\n",
    "* --taxonomic_profile：3.2.6步骤中MetaPhlan2产生的物种分类丰度谱\n",
    "* --metadata：IBD项目的meta信息表格\n",
    "* --read_count：每个样本经过质控之后，用于物种分类丰度谱构建的测序序列数量\n",
    "* --output_all：输出所有物种的分析结果\n",
    "* --output_DA：输出具有差异丰度变化物种的分析结果\n",
    "* --confounder：混杂因素名称"
   ]
  },
  {
   "cell_type": "markdown",
   "metadata": {},
   "source": [
    "从结果可以看出，在差异分析模型中考虑了性别混杂因素之后，一共有29个物种具有差异丰度变化，查看组间差异物种分类丰度谱/home/data/results/metagenomeSeq/CD_vs_nonIBD_species_DA_confounder_gender.txt"
   ]
  },
  {
   "cell_type": "code",
   "execution_count": 2,
   "metadata": {},
   "outputs": [],
   "source": [
    "CD_vs_nonIBD_species_DA_confounder_gender <- read.table(\"/work/results/metagenomeSeq/CD_vs_nonIBD_species_DA_confounder_gender.txt\",stringsAsFactors=F,sep=\"\\t\",header=T)"
   ]
  },
  {
   "cell_type": "code",
   "execution_count": 3,
   "metadata": {},
   "outputs": [
    {
     "data": {
      "text/html": [
       "<table>\n",
       "<caption>A data.frame: 29 × 3</caption>\n",
       "<thead>\n",
       "\t<tr><th scope=col>species</th><th scope=col>fold_change</th><th scope=col>adjustPvalue</th></tr>\n",
       "\t<tr><th scope=col>&lt;chr&gt;</th><th scope=col>&lt;dbl&gt;</th><th scope=col>&lt;dbl&gt;</th></tr>\n",
       "</thead>\n",
       "<tbody>\n",
       "\t<tr><td>k__Bacteria|p__Bacteroidetes|c__Bacteroidia|o__Bacteroidales|f__Prevotellaceae|g__Prevotella|s__Prevotella_copri                                    </td><td>0.000000e+00</td><td>5.339587e-11</td></tr>\n",
       "\t<tr><td>k__Bacteria|p__Verrucomicrobia|c__Verrucomicrobiae|o__Verrucomicrobiales|f__Verrucomicrobiaceae|g__Akkermansia|s__Akkermansia_muciniphila           </td><td>0.000000e+00</td><td>4.512651e-06</td></tr>\n",
       "\t<tr><td>k__Bacteria|p__Bacteroidetes|c__Bacteroidia|o__Bacteroidales|f__Rikenellaceae|g__Alistipes|s__Alistipes_onderdonkii                                 </td><td>0.000000e+00</td><td>6.559316e-05</td></tr>\n",
       "\t<tr><td>k__Bacteria|p__Firmicutes|c__Clostridia|o__Clostridiales|f__Lachnospiraceae|g__Coprococcus|s__Coprococcus_sp_ART55_1                                </td><td>0.000000e+00</td><td>1.724816e-04</td></tr>\n",
       "\t<tr><td>k__Bacteria|p__Firmicutes|c__Clostridia|o__Clostridiales|f__Ruminococcaceae|g__Ruminococcus|s__Ruminococcus_callidus                                </td><td>0.000000e+00</td><td>1.724816e-04</td></tr>\n",
       "\t<tr><td>k__Bacteria|p__Bacteroidetes|c__Bacteroidia|o__Bacteroidales|f__Bacteroidaceae|g__Bacteroides|s__Bacteroides_coprocola                              </td><td>0.000000e+00</td><td>1.968504e-04</td></tr>\n",
       "\t<tr><td>k__Bacteria|p__Firmicutes|c__Clostridia|o__Clostridiales|f__Eubacteriaceae|g__Eubacterium|s__Eubacterium_siraeum                                    </td><td>6.097287e-02</td><td>3.134697e-04</td></tr>\n",
       "\t<tr><td>k__Bacteria|p__Bacteroidetes|c__Bacteroidia|o__Bacteroidales|f__Rikenellaceae|g__Alistipes|s__Alistipes_finegoldii                                  </td><td>0.000000e+00</td><td>5.068566e-04</td></tr>\n",
       "\t<tr><td>k__Bacteria|p__Bacteroidetes|c__Bacteroidia|o__Bacteroidales|f__Bacteroidaceae|g__Bacteroides|s__Bacteroides_sp_1_1_6                               </td><td>         Inf</td><td>5.536658e-04</td></tr>\n",
       "\t<tr><td>k__Archaea|p__Euryarchaeota|c__Methanobacteria|o__Methanobacteriales|f__Methanobacteriaceae|g__Methanobrevibacter|s__Methanobrevibacter_smithii     </td><td>0.000000e+00</td><td>1.234189e-03</td></tr>\n",
       "\t<tr><td>k__Bacteria|p__Bacteroidetes|c__Bacteroidia|o__Bacteroidales|f__Bacteroidaceae|g__Bacteroides|s__Bacteroides_finegoldii                             </td><td>0.000000e+00</td><td>1.234189e-03</td></tr>\n",
       "\t<tr><td>k__Viruses|p__Viruses_noname|c__Viruses_noname|o__Caudovirales|f__Siphoviridae|g__C2likevirus|s__C2likevirus_unclassified                           </td><td>3.208452e-02</td><td>1.234189e-03</td></tr>\n",
       "\t<tr><td>k__Bacteria|p__Bacteroidetes|c__Bacteroidia|o__Bacteroidales|f__Bacteroidaceae|g__Bacteroides|s__Bacteroides_plebeius                               </td><td>0.000000e+00</td><td>1.446372e-03</td></tr>\n",
       "\t<tr><td>k__Bacteria|p__Proteobacteria|c__Deltaproteobacteria|o__Desulfovibrionales|f__Desulfovibrionaceae|g__Desulfovibrio|s__Desulfovibrio_piger           </td><td>0.000000e+00</td><td>1.446372e-03</td></tr>\n",
       "\t<tr><td>k__Bacteria|p__Firmicutes|c__Clostridia|o__Clostridiales|f__Clostridiaceae|g__Clostridium|s__Clostridium_hathewayi                                  </td><td>         Inf</td><td>1.446372e-03</td></tr>\n",
       "\t<tr><td>k__Archaea|p__Euryarchaeota|c__Methanobacteria|o__Methanobacteriales|f__Methanobacteriaceae|g__Methanobrevibacter|s__Methanobrevibacter_unclassified</td><td>0.000000e+00</td><td>3.081427e-03</td></tr>\n",
       "\t<tr><td>k__Bacteria|p__Bacteroidetes|c__Bacteroidia|o__Bacteroidales|f__Bacteroidaceae|g__Bacteroides|s__Bacteroides_thetaiotaomicron                       </td><td>3.112551e-02</td><td>3.081427e-03</td></tr>\n",
       "\t<tr><td>k__Bacteria|p__Bacteroidetes|c__Bacteroidia|o__Bacteroidales|f__Bacteroidaceae|g__Bacteroides|s__Bacteroides_eggerthii                              </td><td>3.599094e-04</td><td>3.697013e-03</td></tr>\n",
       "\t<tr><td>k__Bacteria|p__Firmicutes|c__Negativicutes|o__Selenomonadales|f__Acidaminococcaceae|g__Acidaminococcus|s__Acidaminococcus_unclassified              </td><td>         Inf</td><td>7.667022e-03</td></tr>\n",
       "\t<tr><td>k__Bacteria|p__Proteobacteria|c__Gammaproteobacteria|o__Enterobacteriales|f__Enterobacteriaceae|g__Klebsiella|s__Klebsiella_pneumoniae              </td><td>0.000000e+00</td><td>1.083699e-02</td></tr>\n",
       "\t<tr><td>k__Bacteria|p__Proteobacteria|c__Deltaproteobacteria|o__Desulfovibrionales|f__Desulfovibrionaceae|g__Bilophila|s__Bilophila_wadsworthia             </td><td>9.363356e+02</td><td>1.417072e-02</td></tr>\n",
       "\t<tr><td>k__Bacteria|p__Proteobacteria|c__Gammaproteobacteria|o__Enterobacteriales|f__Enterobacteriaceae|g__Escherichia|s__Escherichia_unclassified          </td><td>0.000000e+00</td><td>1.716885e-02</td></tr>\n",
       "\t<tr><td>k__Bacteria|p__Firmicutes|c__Clostridia|o__Clostridiales|f__Lachnospiraceae|g__Butyrivibrio|s__Butyrivibrio_crossotus                               </td><td>0.000000e+00</td><td>1.718005e-02</td></tr>\n",
       "\t<tr><td>k__Bacteria|p__Bacteroidetes|c__Bacteroidia|o__Bacteroidales|f__Bacteroidaceae|g__Bacteroides|s__Bacteroides_caccae                                 </td><td>1.338954e-01</td><td>2.408608e-02</td></tr>\n",
       "\t<tr><td>k__Bacteria|p__Firmicutes|c__Clostridia|o__Clostridiales|f__Lachnospiraceae|g__Anaerostipes|s__Anaerostipes_unclassified                            </td><td>         Inf</td><td>2.588075e-02</td></tr>\n",
       "\t<tr><td>k__Bacteria|p__Proteobacteria|c__Deltaproteobacteria|o__Desulfovibrionales|f__Desulfovibrionaceae|g__Desulfovibrio|s__Desulfovibrio_desulfuricans   </td><td>0.000000e+00</td><td>3.202904e-02</td></tr>\n",
       "\t<tr><td>k__Bacteria|p__Firmicutes|c__Clostridia|o__Clostridiales|f__Lachnospiraceae|g__Lachnospiraceae_noname|s__Lachnospiraceae_bacterium_1_1_57FAA        </td><td>1.874018e-02</td><td>3.975611e-02</td></tr>\n",
       "\t<tr><td>k__Bacteria|p__Firmicutes|c__Clostridia|o__Clostridiales|f__Clostridiaceae|g__Butyricicoccus|s__Butyricicoccus_pullicaecorum                        </td><td>         Inf</td><td>3.975611e-02</td></tr>\n",
       "\t<tr><td>k__Bacteria|p__Firmicutes|c__Negativicutes|o__Selenomonadales|f__Veillonellaceae|g__Veillonella|s__Veillonella_dispar                               </td><td>2.013716e+01</td><td>4.761325e-02</td></tr>\n",
       "</tbody>\n",
       "</table>\n"
      ],
      "text/latex": [
       "A data.frame: 29 × 3\n",
       "\\begin{tabular}{r|lll}\n",
       " species & fold\\_change & adjustPvalue\\\\\n",
       " <chr> & <dbl> & <dbl>\\\\\n",
       "\\hline\n",
       "\t k\\_\\_Bacteria\\textbar{}p\\_\\_Bacteroidetes\\textbar{}c\\_\\_Bacteroidia\\textbar{}o\\_\\_Bacteroidales\\textbar{}f\\_\\_Prevotellaceae\\textbar{}g\\_\\_Prevotella\\textbar{}s\\_\\_Prevotella\\_copri                                     & 0.000000e+00 & 5.339587e-11\\\\\n",
       "\t k\\_\\_Bacteria\\textbar{}p\\_\\_Verrucomicrobia\\textbar{}c\\_\\_Verrucomicrobiae\\textbar{}o\\_\\_Verrucomicrobiales\\textbar{}f\\_\\_Verrucomicrobiaceae\\textbar{}g\\_\\_Akkermansia\\textbar{}s\\_\\_Akkermansia\\_muciniphila            & 0.000000e+00 & 4.512651e-06\\\\\n",
       "\t k\\_\\_Bacteria\\textbar{}p\\_\\_Bacteroidetes\\textbar{}c\\_\\_Bacteroidia\\textbar{}o\\_\\_Bacteroidales\\textbar{}f\\_\\_Rikenellaceae\\textbar{}g\\_\\_Alistipes\\textbar{}s\\_\\_Alistipes\\_onderdonkii                                  & 0.000000e+00 & 6.559316e-05\\\\\n",
       "\t k\\_\\_Bacteria\\textbar{}p\\_\\_Firmicutes\\textbar{}c\\_\\_Clostridia\\textbar{}o\\_\\_Clostridiales\\textbar{}f\\_\\_Lachnospiraceae\\textbar{}g\\_\\_Coprococcus\\textbar{}s\\_\\_Coprococcus\\_sp\\_ART55\\_1                                 & 0.000000e+00 & 1.724816e-04\\\\\n",
       "\t k\\_\\_Bacteria\\textbar{}p\\_\\_Firmicutes\\textbar{}c\\_\\_Clostridia\\textbar{}o\\_\\_Clostridiales\\textbar{}f\\_\\_Ruminococcaceae\\textbar{}g\\_\\_Ruminococcus\\textbar{}s\\_\\_Ruminococcus\\_callidus                                 & 0.000000e+00 & 1.724816e-04\\\\\n",
       "\t k\\_\\_Bacteria\\textbar{}p\\_\\_Bacteroidetes\\textbar{}c\\_\\_Bacteroidia\\textbar{}o\\_\\_Bacteroidales\\textbar{}f\\_\\_Bacteroidaceae\\textbar{}g\\_\\_Bacteroides\\textbar{}s\\_\\_Bacteroides\\_coprocola                               & 0.000000e+00 & 1.968504e-04\\\\\n",
       "\t k\\_\\_Bacteria\\textbar{}p\\_\\_Firmicutes\\textbar{}c\\_\\_Clostridia\\textbar{}o\\_\\_Clostridiales\\textbar{}f\\_\\_Eubacteriaceae\\textbar{}g\\_\\_Eubacterium\\textbar{}s\\_\\_Eubacterium\\_siraeum                                     & 6.097287e-02 & 3.134697e-04\\\\\n",
       "\t k\\_\\_Bacteria\\textbar{}p\\_\\_Bacteroidetes\\textbar{}c\\_\\_Bacteroidia\\textbar{}o\\_\\_Bacteroidales\\textbar{}f\\_\\_Rikenellaceae\\textbar{}g\\_\\_Alistipes\\textbar{}s\\_\\_Alistipes\\_finegoldii                                   & 0.000000e+00 & 5.068566e-04\\\\\n",
       "\t k\\_\\_Bacteria\\textbar{}p\\_\\_Bacteroidetes\\textbar{}c\\_\\_Bacteroidia\\textbar{}o\\_\\_Bacteroidales\\textbar{}f\\_\\_Bacteroidaceae\\textbar{}g\\_\\_Bacteroides\\textbar{}s\\_\\_Bacteroides\\_sp\\_1\\_1\\_6                                &          Inf & 5.536658e-04\\\\\n",
       "\t k\\_\\_Archaea\\textbar{}p\\_\\_Euryarchaeota\\textbar{}c\\_\\_Methanobacteria\\textbar{}o\\_\\_Methanobacteriales\\textbar{}f\\_\\_Methanobacteriaceae\\textbar{}g\\_\\_Methanobrevibacter\\textbar{}s\\_\\_Methanobrevibacter\\_smithii      & 0.000000e+00 & 1.234189e-03\\\\\n",
       "\t k\\_\\_Bacteria\\textbar{}p\\_\\_Bacteroidetes\\textbar{}c\\_\\_Bacteroidia\\textbar{}o\\_\\_Bacteroidales\\textbar{}f\\_\\_Bacteroidaceae\\textbar{}g\\_\\_Bacteroides\\textbar{}s\\_\\_Bacteroides\\_finegoldii                              & 0.000000e+00 & 1.234189e-03\\\\\n",
       "\t k\\_\\_Viruses\\textbar{}p\\_\\_Viruses\\_noname\\textbar{}c\\_\\_Viruses\\_noname\\textbar{}o\\_\\_Caudovirales\\textbar{}f\\_\\_Siphoviridae\\textbar{}g\\_\\_C2likevirus\\textbar{}s\\_\\_C2likevirus\\_unclassified                            & 3.208452e-02 & 1.234189e-03\\\\\n",
       "\t k\\_\\_Bacteria\\textbar{}p\\_\\_Bacteroidetes\\textbar{}c\\_\\_Bacteroidia\\textbar{}o\\_\\_Bacteroidales\\textbar{}f\\_\\_Bacteroidaceae\\textbar{}g\\_\\_Bacteroides\\textbar{}s\\_\\_Bacteroides\\_plebeius                                & 0.000000e+00 & 1.446372e-03\\\\\n",
       "\t k\\_\\_Bacteria\\textbar{}p\\_\\_Proteobacteria\\textbar{}c\\_\\_Deltaproteobacteria\\textbar{}o\\_\\_Desulfovibrionales\\textbar{}f\\_\\_Desulfovibrionaceae\\textbar{}g\\_\\_Desulfovibrio\\textbar{}s\\_\\_Desulfovibrio\\_piger            & 0.000000e+00 & 1.446372e-03\\\\\n",
       "\t k\\_\\_Bacteria\\textbar{}p\\_\\_Firmicutes\\textbar{}c\\_\\_Clostridia\\textbar{}o\\_\\_Clostridiales\\textbar{}f\\_\\_Clostridiaceae\\textbar{}g\\_\\_Clostridium\\textbar{}s\\_\\_Clostridium\\_hathewayi                                   &          Inf & 1.446372e-03\\\\\n",
       "\t k\\_\\_Archaea\\textbar{}p\\_\\_Euryarchaeota\\textbar{}c\\_\\_Methanobacteria\\textbar{}o\\_\\_Methanobacteriales\\textbar{}f\\_\\_Methanobacteriaceae\\textbar{}g\\_\\_Methanobrevibacter\\textbar{}s\\_\\_Methanobrevibacter\\_unclassified & 0.000000e+00 & 3.081427e-03\\\\\n",
       "\t k\\_\\_Bacteria\\textbar{}p\\_\\_Bacteroidetes\\textbar{}c\\_\\_Bacteroidia\\textbar{}o\\_\\_Bacteroidales\\textbar{}f\\_\\_Bacteroidaceae\\textbar{}g\\_\\_Bacteroides\\textbar{}s\\_\\_Bacteroides\\_thetaiotaomicron                        & 3.112551e-02 & 3.081427e-03\\\\\n",
       "\t k\\_\\_Bacteria\\textbar{}p\\_\\_Bacteroidetes\\textbar{}c\\_\\_Bacteroidia\\textbar{}o\\_\\_Bacteroidales\\textbar{}f\\_\\_Bacteroidaceae\\textbar{}g\\_\\_Bacteroides\\textbar{}s\\_\\_Bacteroides\\_eggerthii                               & 3.599094e-04 & 3.697013e-03\\\\\n",
       "\t k\\_\\_Bacteria\\textbar{}p\\_\\_Firmicutes\\textbar{}c\\_\\_Negativicutes\\textbar{}o\\_\\_Selenomonadales\\textbar{}f\\_\\_Acidaminococcaceae\\textbar{}g\\_\\_Acidaminococcus\\textbar{}s\\_\\_Acidaminococcus\\_unclassified               &          Inf & 7.667022e-03\\\\\n",
       "\t k\\_\\_Bacteria\\textbar{}p\\_\\_Proteobacteria\\textbar{}c\\_\\_Gammaproteobacteria\\textbar{}o\\_\\_Enterobacteriales\\textbar{}f\\_\\_Enterobacteriaceae\\textbar{}g\\_\\_Klebsiella\\textbar{}s\\_\\_Klebsiella\\_pneumoniae               & 0.000000e+00 & 1.083699e-02\\\\\n",
       "\t k\\_\\_Bacteria\\textbar{}p\\_\\_Proteobacteria\\textbar{}c\\_\\_Deltaproteobacteria\\textbar{}o\\_\\_Desulfovibrionales\\textbar{}f\\_\\_Desulfovibrionaceae\\textbar{}g\\_\\_Bilophila\\textbar{}s\\_\\_Bilophila\\_wadsworthia              & 9.363356e+02 & 1.417072e-02\\\\\n",
       "\t k\\_\\_Bacteria\\textbar{}p\\_\\_Proteobacteria\\textbar{}c\\_\\_Gammaproteobacteria\\textbar{}o\\_\\_Enterobacteriales\\textbar{}f\\_\\_Enterobacteriaceae\\textbar{}g\\_\\_Escherichia\\textbar{}s\\_\\_Escherichia\\_unclassified           & 0.000000e+00 & 1.716885e-02\\\\\n",
       "\t k\\_\\_Bacteria\\textbar{}p\\_\\_Firmicutes\\textbar{}c\\_\\_Clostridia\\textbar{}o\\_\\_Clostridiales\\textbar{}f\\_\\_Lachnospiraceae\\textbar{}g\\_\\_Butyrivibrio\\textbar{}s\\_\\_Butyrivibrio\\_crossotus                                & 0.000000e+00 & 1.718005e-02\\\\\n",
       "\t k\\_\\_Bacteria\\textbar{}p\\_\\_Bacteroidetes\\textbar{}c\\_\\_Bacteroidia\\textbar{}o\\_\\_Bacteroidales\\textbar{}f\\_\\_Bacteroidaceae\\textbar{}g\\_\\_Bacteroides\\textbar{}s\\_\\_Bacteroides\\_caccae                                  & 1.338954e-01 & 2.408608e-02\\\\\n",
       "\t k\\_\\_Bacteria\\textbar{}p\\_\\_Firmicutes\\textbar{}c\\_\\_Clostridia\\textbar{}o\\_\\_Clostridiales\\textbar{}f\\_\\_Lachnospiraceae\\textbar{}g\\_\\_Anaerostipes\\textbar{}s\\_\\_Anaerostipes\\_unclassified                             &          Inf & 2.588075e-02\\\\\n",
       "\t k\\_\\_Bacteria\\textbar{}p\\_\\_Proteobacteria\\textbar{}c\\_\\_Deltaproteobacteria\\textbar{}o\\_\\_Desulfovibrionales\\textbar{}f\\_\\_Desulfovibrionaceae\\textbar{}g\\_\\_Desulfovibrio\\textbar{}s\\_\\_Desulfovibrio\\_desulfuricans    & 0.000000e+00 & 3.202904e-02\\\\\n",
       "\t k\\_\\_Bacteria\\textbar{}p\\_\\_Firmicutes\\textbar{}c\\_\\_Clostridia\\textbar{}o\\_\\_Clostridiales\\textbar{}f\\_\\_Lachnospiraceae\\textbar{}g\\_\\_Lachnospiraceae\\_noname\\textbar{}s\\_\\_Lachnospiraceae\\_bacterium\\_1\\_1\\_57FAA         & 1.874018e-02 & 3.975611e-02\\\\\n",
       "\t k\\_\\_Bacteria\\textbar{}p\\_\\_Firmicutes\\textbar{}c\\_\\_Clostridia\\textbar{}o\\_\\_Clostridiales\\textbar{}f\\_\\_Clostridiaceae\\textbar{}g\\_\\_Butyricicoccus\\textbar{}s\\_\\_Butyricicoccus\\_pullicaecorum                         &          Inf & 3.975611e-02\\\\\n",
       "\t k\\_\\_Bacteria\\textbar{}p\\_\\_Firmicutes\\textbar{}c\\_\\_Negativicutes\\textbar{}o\\_\\_Selenomonadales\\textbar{}f\\_\\_Veillonellaceae\\textbar{}g\\_\\_Veillonella\\textbar{}s\\_\\_Veillonella\\_dispar                                & 2.013716e+01 & 4.761325e-02\\\\\n",
       "\\end{tabular}\n"
      ],
      "text/markdown": [
       "\n",
       "A data.frame: 29 × 3\n",
       "\n",
       "| species &lt;chr&gt; | fold_change &lt;dbl&gt; | adjustPvalue &lt;dbl&gt; |\n",
       "|---|---|---|\n",
       "| k__Bacteria|p__Bacteroidetes|c__Bacteroidia|o__Bacteroidales|f__Prevotellaceae|g__Prevotella|s__Prevotella_copri                                     | 0.000000e+00 | 5.339587e-11 |\n",
       "| k__Bacteria|p__Verrucomicrobia|c__Verrucomicrobiae|o__Verrucomicrobiales|f__Verrucomicrobiaceae|g__Akkermansia|s__Akkermansia_muciniphila            | 0.000000e+00 | 4.512651e-06 |\n",
       "| k__Bacteria|p__Bacteroidetes|c__Bacteroidia|o__Bacteroidales|f__Rikenellaceae|g__Alistipes|s__Alistipes_onderdonkii                                  | 0.000000e+00 | 6.559316e-05 |\n",
       "| k__Bacteria|p__Firmicutes|c__Clostridia|o__Clostridiales|f__Lachnospiraceae|g__Coprococcus|s__Coprococcus_sp_ART55_1                                 | 0.000000e+00 | 1.724816e-04 |\n",
       "| k__Bacteria|p__Firmicutes|c__Clostridia|o__Clostridiales|f__Ruminococcaceae|g__Ruminococcus|s__Ruminococcus_callidus                                 | 0.000000e+00 | 1.724816e-04 |\n",
       "| k__Bacteria|p__Bacteroidetes|c__Bacteroidia|o__Bacteroidales|f__Bacteroidaceae|g__Bacteroides|s__Bacteroides_coprocola                               | 0.000000e+00 | 1.968504e-04 |\n",
       "| k__Bacteria|p__Firmicutes|c__Clostridia|o__Clostridiales|f__Eubacteriaceae|g__Eubacterium|s__Eubacterium_siraeum                                     | 6.097287e-02 | 3.134697e-04 |\n",
       "| k__Bacteria|p__Bacteroidetes|c__Bacteroidia|o__Bacteroidales|f__Rikenellaceae|g__Alistipes|s__Alistipes_finegoldii                                   | 0.000000e+00 | 5.068566e-04 |\n",
       "| k__Bacteria|p__Bacteroidetes|c__Bacteroidia|o__Bacteroidales|f__Bacteroidaceae|g__Bacteroides|s__Bacteroides_sp_1_1_6                                |          Inf | 5.536658e-04 |\n",
       "| k__Archaea|p__Euryarchaeota|c__Methanobacteria|o__Methanobacteriales|f__Methanobacteriaceae|g__Methanobrevibacter|s__Methanobrevibacter_smithii      | 0.000000e+00 | 1.234189e-03 |\n",
       "| k__Bacteria|p__Bacteroidetes|c__Bacteroidia|o__Bacteroidales|f__Bacteroidaceae|g__Bacteroides|s__Bacteroides_finegoldii                              | 0.000000e+00 | 1.234189e-03 |\n",
       "| k__Viruses|p__Viruses_noname|c__Viruses_noname|o__Caudovirales|f__Siphoviridae|g__C2likevirus|s__C2likevirus_unclassified                            | 3.208452e-02 | 1.234189e-03 |\n",
       "| k__Bacteria|p__Bacteroidetes|c__Bacteroidia|o__Bacteroidales|f__Bacteroidaceae|g__Bacteroides|s__Bacteroides_plebeius                                | 0.000000e+00 | 1.446372e-03 |\n",
       "| k__Bacteria|p__Proteobacteria|c__Deltaproteobacteria|o__Desulfovibrionales|f__Desulfovibrionaceae|g__Desulfovibrio|s__Desulfovibrio_piger            | 0.000000e+00 | 1.446372e-03 |\n",
       "| k__Bacteria|p__Firmicutes|c__Clostridia|o__Clostridiales|f__Clostridiaceae|g__Clostridium|s__Clostridium_hathewayi                                   |          Inf | 1.446372e-03 |\n",
       "| k__Archaea|p__Euryarchaeota|c__Methanobacteria|o__Methanobacteriales|f__Methanobacteriaceae|g__Methanobrevibacter|s__Methanobrevibacter_unclassified | 0.000000e+00 | 3.081427e-03 |\n",
       "| k__Bacteria|p__Bacteroidetes|c__Bacteroidia|o__Bacteroidales|f__Bacteroidaceae|g__Bacteroides|s__Bacteroides_thetaiotaomicron                        | 3.112551e-02 | 3.081427e-03 |\n",
       "| k__Bacteria|p__Bacteroidetes|c__Bacteroidia|o__Bacteroidales|f__Bacteroidaceae|g__Bacteroides|s__Bacteroides_eggerthii                               | 3.599094e-04 | 3.697013e-03 |\n",
       "| k__Bacteria|p__Firmicutes|c__Negativicutes|o__Selenomonadales|f__Acidaminococcaceae|g__Acidaminococcus|s__Acidaminococcus_unclassified               |          Inf | 7.667022e-03 |\n",
       "| k__Bacteria|p__Proteobacteria|c__Gammaproteobacteria|o__Enterobacteriales|f__Enterobacteriaceae|g__Klebsiella|s__Klebsiella_pneumoniae               | 0.000000e+00 | 1.083699e-02 |\n",
       "| k__Bacteria|p__Proteobacteria|c__Deltaproteobacteria|o__Desulfovibrionales|f__Desulfovibrionaceae|g__Bilophila|s__Bilophila_wadsworthia              | 9.363356e+02 | 1.417072e-02 |\n",
       "| k__Bacteria|p__Proteobacteria|c__Gammaproteobacteria|o__Enterobacteriales|f__Enterobacteriaceae|g__Escherichia|s__Escherichia_unclassified           | 0.000000e+00 | 1.716885e-02 |\n",
       "| k__Bacteria|p__Firmicutes|c__Clostridia|o__Clostridiales|f__Lachnospiraceae|g__Butyrivibrio|s__Butyrivibrio_crossotus                                | 0.000000e+00 | 1.718005e-02 |\n",
       "| k__Bacteria|p__Bacteroidetes|c__Bacteroidia|o__Bacteroidales|f__Bacteroidaceae|g__Bacteroides|s__Bacteroides_caccae                                  | 1.338954e-01 | 2.408608e-02 |\n",
       "| k__Bacteria|p__Firmicutes|c__Clostridia|o__Clostridiales|f__Lachnospiraceae|g__Anaerostipes|s__Anaerostipes_unclassified                             |          Inf | 2.588075e-02 |\n",
       "| k__Bacteria|p__Proteobacteria|c__Deltaproteobacteria|o__Desulfovibrionales|f__Desulfovibrionaceae|g__Desulfovibrio|s__Desulfovibrio_desulfuricans    | 0.000000e+00 | 3.202904e-02 |\n",
       "| k__Bacteria|p__Firmicutes|c__Clostridia|o__Clostridiales|f__Lachnospiraceae|g__Lachnospiraceae_noname|s__Lachnospiraceae_bacterium_1_1_57FAA         | 1.874018e-02 | 3.975611e-02 |\n",
       "| k__Bacteria|p__Firmicutes|c__Clostridia|o__Clostridiales|f__Clostridiaceae|g__Butyricicoccus|s__Butyricicoccus_pullicaecorum                         |          Inf | 3.975611e-02 |\n",
       "| k__Bacteria|p__Firmicutes|c__Negativicutes|o__Selenomonadales|f__Veillonellaceae|g__Veillonella|s__Veillonella_dispar                                | 2.013716e+01 | 4.761325e-02 |\n",
       "\n"
      ],
      "text/plain": [
       "   species                                                                                                                                             \n",
       "1  k__Bacteria|p__Bacteroidetes|c__Bacteroidia|o__Bacteroidales|f__Prevotellaceae|g__Prevotella|s__Prevotella_copri                                    \n",
       "2  k__Bacteria|p__Verrucomicrobia|c__Verrucomicrobiae|o__Verrucomicrobiales|f__Verrucomicrobiaceae|g__Akkermansia|s__Akkermansia_muciniphila           \n",
       "3  k__Bacteria|p__Bacteroidetes|c__Bacteroidia|o__Bacteroidales|f__Rikenellaceae|g__Alistipes|s__Alistipes_onderdonkii                                 \n",
       "4  k__Bacteria|p__Firmicutes|c__Clostridia|o__Clostridiales|f__Lachnospiraceae|g__Coprococcus|s__Coprococcus_sp_ART55_1                                \n",
       "5  k__Bacteria|p__Firmicutes|c__Clostridia|o__Clostridiales|f__Ruminococcaceae|g__Ruminococcus|s__Ruminococcus_callidus                                \n",
       "6  k__Bacteria|p__Bacteroidetes|c__Bacteroidia|o__Bacteroidales|f__Bacteroidaceae|g__Bacteroides|s__Bacteroides_coprocola                              \n",
       "7  k__Bacteria|p__Firmicutes|c__Clostridia|o__Clostridiales|f__Eubacteriaceae|g__Eubacterium|s__Eubacterium_siraeum                                    \n",
       "8  k__Bacteria|p__Bacteroidetes|c__Bacteroidia|o__Bacteroidales|f__Rikenellaceae|g__Alistipes|s__Alistipes_finegoldii                                  \n",
       "9  k__Bacteria|p__Bacteroidetes|c__Bacteroidia|o__Bacteroidales|f__Bacteroidaceae|g__Bacteroides|s__Bacteroides_sp_1_1_6                               \n",
       "10 k__Archaea|p__Euryarchaeota|c__Methanobacteria|o__Methanobacteriales|f__Methanobacteriaceae|g__Methanobrevibacter|s__Methanobrevibacter_smithii     \n",
       "11 k__Bacteria|p__Bacteroidetes|c__Bacteroidia|o__Bacteroidales|f__Bacteroidaceae|g__Bacteroides|s__Bacteroides_finegoldii                             \n",
       "12 k__Viruses|p__Viruses_noname|c__Viruses_noname|o__Caudovirales|f__Siphoviridae|g__C2likevirus|s__C2likevirus_unclassified                           \n",
       "13 k__Bacteria|p__Bacteroidetes|c__Bacteroidia|o__Bacteroidales|f__Bacteroidaceae|g__Bacteroides|s__Bacteroides_plebeius                               \n",
       "14 k__Bacteria|p__Proteobacteria|c__Deltaproteobacteria|o__Desulfovibrionales|f__Desulfovibrionaceae|g__Desulfovibrio|s__Desulfovibrio_piger           \n",
       "15 k__Bacteria|p__Firmicutes|c__Clostridia|o__Clostridiales|f__Clostridiaceae|g__Clostridium|s__Clostridium_hathewayi                                  \n",
       "16 k__Archaea|p__Euryarchaeota|c__Methanobacteria|o__Methanobacteriales|f__Methanobacteriaceae|g__Methanobrevibacter|s__Methanobrevibacter_unclassified\n",
       "17 k__Bacteria|p__Bacteroidetes|c__Bacteroidia|o__Bacteroidales|f__Bacteroidaceae|g__Bacteroides|s__Bacteroides_thetaiotaomicron                       \n",
       "18 k__Bacteria|p__Bacteroidetes|c__Bacteroidia|o__Bacteroidales|f__Bacteroidaceae|g__Bacteroides|s__Bacteroides_eggerthii                              \n",
       "19 k__Bacteria|p__Firmicutes|c__Negativicutes|o__Selenomonadales|f__Acidaminococcaceae|g__Acidaminococcus|s__Acidaminococcus_unclassified              \n",
       "20 k__Bacteria|p__Proteobacteria|c__Gammaproteobacteria|o__Enterobacteriales|f__Enterobacteriaceae|g__Klebsiella|s__Klebsiella_pneumoniae              \n",
       "21 k__Bacteria|p__Proteobacteria|c__Deltaproteobacteria|o__Desulfovibrionales|f__Desulfovibrionaceae|g__Bilophila|s__Bilophila_wadsworthia             \n",
       "22 k__Bacteria|p__Proteobacteria|c__Gammaproteobacteria|o__Enterobacteriales|f__Enterobacteriaceae|g__Escherichia|s__Escherichia_unclassified          \n",
       "23 k__Bacteria|p__Firmicutes|c__Clostridia|o__Clostridiales|f__Lachnospiraceae|g__Butyrivibrio|s__Butyrivibrio_crossotus                               \n",
       "24 k__Bacteria|p__Bacteroidetes|c__Bacteroidia|o__Bacteroidales|f__Bacteroidaceae|g__Bacteroides|s__Bacteroides_caccae                                 \n",
       "25 k__Bacteria|p__Firmicutes|c__Clostridia|o__Clostridiales|f__Lachnospiraceae|g__Anaerostipes|s__Anaerostipes_unclassified                            \n",
       "26 k__Bacteria|p__Proteobacteria|c__Deltaproteobacteria|o__Desulfovibrionales|f__Desulfovibrionaceae|g__Desulfovibrio|s__Desulfovibrio_desulfuricans   \n",
       "27 k__Bacteria|p__Firmicutes|c__Clostridia|o__Clostridiales|f__Lachnospiraceae|g__Lachnospiraceae_noname|s__Lachnospiraceae_bacterium_1_1_57FAA        \n",
       "28 k__Bacteria|p__Firmicutes|c__Clostridia|o__Clostridiales|f__Clostridiaceae|g__Butyricicoccus|s__Butyricicoccus_pullicaecorum                        \n",
       "29 k__Bacteria|p__Firmicutes|c__Negativicutes|o__Selenomonadales|f__Veillonellaceae|g__Veillonella|s__Veillonella_dispar                               \n",
       "   fold_change  adjustPvalue\n",
       "1  0.000000e+00 5.339587e-11\n",
       "2  0.000000e+00 4.512651e-06\n",
       "3  0.000000e+00 6.559316e-05\n",
       "4  0.000000e+00 1.724816e-04\n",
       "5  0.000000e+00 1.724816e-04\n",
       "6  0.000000e+00 1.968504e-04\n",
       "7  6.097287e-02 3.134697e-04\n",
       "8  0.000000e+00 5.068566e-04\n",
       "9           Inf 5.536658e-04\n",
       "10 0.000000e+00 1.234189e-03\n",
       "11 0.000000e+00 1.234189e-03\n",
       "12 3.208452e-02 1.234189e-03\n",
       "13 0.000000e+00 1.446372e-03\n",
       "14 0.000000e+00 1.446372e-03\n",
       "15          Inf 1.446372e-03\n",
       "16 0.000000e+00 3.081427e-03\n",
       "17 3.112551e-02 3.081427e-03\n",
       "18 3.599094e-04 3.697013e-03\n",
       "19          Inf 7.667022e-03\n",
       "20 0.000000e+00 1.083699e-02\n",
       "21 9.363356e+02 1.417072e-02\n",
       "22 0.000000e+00 1.716885e-02\n",
       "23 0.000000e+00 1.718005e-02\n",
       "24 1.338954e-01 2.408608e-02\n",
       "25          Inf 2.588075e-02\n",
       "26 0.000000e+00 3.202904e-02\n",
       "27 1.874018e-02 3.975611e-02\n",
       "28          Inf 3.975611e-02\n",
       "29 2.013716e+01 4.761325e-02"
      ]
     },
     "metadata": {},
     "output_type": "display_data"
    }
   ],
   "source": [
    "CD_vs_nonIBD_species_DA_confounder_gender"
   ]
  },
  {
   "cell_type": "markdown",
   "metadata": {},
   "source": [
    "3.4.1.4.2 基于差异物种丰度谱对样本进行聚类分析"
   ]
  },
  {
   "cell_type": "code",
   "execution_count": 3,
   "metadata": {},
   "outputs": [],
   "source": [
    "DA <- read.table(\"/work/results/metagenomeSeq/CD_vs_nonIBD_species_DA_confounder_gender.txt\",stringsAsFactors=F,sep=\"\\t\",header=T)"
   ]
  },
  {
   "cell_type": "code",
   "execution_count": 4,
   "metadata": {},
   "outputs": [],
   "source": [
    "metaphlan2_taxonomic_profiles <- read.delim(\"/work/results/biobakery_workflows/metaphlan2/merged/metaphlan2_taxonomic_profiles.tsv\",stringsAsFactors=F,sep=\"\\t\",header=T)"
   ]
  },
  {
   "cell_type": "code",
   "execution_count": 5,
   "metadata": {},
   "outputs": [],
   "source": [
    "species_taxonomic_profiles <- metaphlan2_taxonomic_profiles[sapply(metaphlan2_taxonomic_profiles$X.SampleID,function(x) length(strsplit(x,\"\\\\|\")[[1]])==7),]"
   ]
  },
  {
   "cell_type": "code",
   "execution_count": 6,
   "metadata": {},
   "outputs": [],
   "source": [
    "species_taxonomic_profiles[,-1] <- species_taxonomic_profiles[,-1]/100"
   ]
  },
  {
   "cell_type": "code",
   "execution_count": 7,
   "metadata": {},
   "outputs": [],
   "source": [
    "colnames(species_taxonomic_profiles)[-1] <- sapply(colnames(species_taxonomic_profiles)[-1],function(x) strsplit(x,\"_\")[[1]][1])"
   ]
  },
  {
   "cell_type": "code",
   "execution_count": 8,
   "metadata": {},
   "outputs": [],
   "source": [
    "IBD_test_metadata <- read.table(\"/work/IBD_test_metadata.txt\",stringsAsFactors=F,sep=\"\\t\",header=T)"
   ]
  },
  {
   "cell_type": "code",
   "execution_count": 9,
   "metadata": {},
   "outputs": [],
   "source": [
    "read_count <- read.delim(\"/work/results/biobakery_workflows_output_vis/data/humann2_read_and_species_count_table.tsv\",stringsAsFactor=F,sep=\"\\t\")"
   ]
  },
  {
   "cell_type": "code",
   "execution_count": 10,
   "metadata": {},
   "outputs": [],
   "source": [
    "species_counts = sweep(species_taxonomic_profiles[,-1],2,read_count[match(colnames(species_taxonomic_profiles)[-1],read_count$X..samples),\"total.reads\"], \"*\")"
   ]
  },
  {
   "cell_type": "code",
   "execution_count": 11,
   "metadata": {},
   "outputs": [],
   "source": [
    "species_counts = round(species_counts)"
   ]
  },
  {
   "cell_type": "code",
   "execution_count": 12,
   "metadata": {},
   "outputs": [],
   "source": [
    "rownames(species_counts) <- species_taxonomic_profiles$X.SampleID"
   ]
  },
  {
   "cell_type": "code",
   "execution_count": 13,
   "metadata": {},
   "outputs": [],
   "source": [
    "DA_profile <- species_counts[match(DA$species,rownames(species_counts)),]"
   ]
  },
  {
   "cell_type": "code",
   "execution_count": 14,
   "metadata": {},
   "outputs": [],
   "source": [
    "write.table(DA_profile,\"/work/results/metagenomeSeq/CD_vs_nonIBD_species_DA_confounder_gender_profile.txt\",quote=F,sep=\"\\t\")"
   ]
  },
  {
   "cell_type": "code",
   "execution_count": 2,
   "metadata": {},
   "outputs": [
    {
     "name": "stdout",
     "output_type": "stream",
     "text": [
      "/opt/conda/bin/hclust2.py:152: FutureWarning: read_table is deprecated, use read_csv instead.\n",
      "  index_col = self.args.sname_row if self.args.sname_row > -1 else None\n"
     ]
    }
   ],
   "source": [
    "!sudo docker run --rm -v /Volumes/Untitled:/home/data biobakery-workflows-add-r-6 bash \\\n",
    "    -c 'hclust2.py -i /home/data/results/metagenomeSeq/CD_vs_nonIBD_species_DA_confounder_gender_profile.txt \\\n",
    "    -o /home/data/results/metagenomeSeq/DA_species_confounder_gender_BrayCurtis_Heatmap.pdf \\\n",
    "    --cell_aspect_ratio 0.5 -l \\\n",
    "    --max_flabel_len 100 --max_slabel_len 100 --dpi 300 \\\n",
    "    --title \"Species with differential abundance (Bray-Curtis)\" \\\n",
    "    --title_fontsize 8 --f_dist_f braycurtis --s_dist_f braycurtis \\\n",
    "    --colorbar_font_size 6 \\\n",
    "    --flabel_size 4 \\\n",
    "    --slabel_size 4'"
   ]
  },
  {
   "cell_type": "markdown",
   "metadata": {},
   "source": [
    "![**DA_species_confounder_gender_BrayCurtis_Heatmap**](results/metagenomeSeq/DA_species_confounder_gender_BrayCurtis_Heatmap.pdf)"
   ]
  },
  {
   "cell_type": "markdown",
   "metadata": {},
   "source": [
    "图说明：图中亮蓝色方框表示健康人样本，其余样本表示CD病人。从结果可以看出，考虑了性别这个混杂因素之后，健康人样本聚成了一类。"
   ]
  },
  {
   "cell_type": "markdown",
   "metadata": {},
   "source": [
    "3.4.1.5 尝试去除使用抗生素样本这一混杂因素，分析群落结构的差异丰度变化，探索混杂因素对差异分析的影响"
   ]
  },
  {
   "cell_type": "code",
   "execution_count": 77,
   "metadata": {},
   "outputs": [
    {
     "name": "stdout",
     "output_type": "stream",
     "text": [
      "Loading required package: Biobase\n",
      "Loading required package: BiocGenerics\n",
      "Loading required package: parallel\n",
      "\n",
      "Attaching package: ‘BiocGenerics’\n",
      "\n",
      "The following objects are masked from ‘package:parallel’:\n",
      "\n",
      "    clusterApply, clusterApplyLB, clusterCall, clusterEvalQ,\n",
      "    clusterExport, clusterMap, parApply, parCapply, parLapply,\n",
      "    parLapplyLB, parRapply, parSapply, parSapplyLB\n",
      "\n",
      "The following objects are masked from ‘package:stats’:\n",
      "\n",
      "    IQR, mad, sd, var, xtabs\n",
      "\n",
      "The following objects are masked from ‘package:base’:\n",
      "\n",
      "    anyDuplicated, append, as.data.frame, basename, cbind, colnames,\n",
      "    dirname, do.call, duplicated, eval, evalq, Filter, Find, get, grep,\n",
      "    grepl, intersect, is.unsorted, lapply, Map, mapply, match, mget,\n",
      "    order, paste, pmax, pmax.int, pmin, pmin.int, Position, rank,\n",
      "    rbind, Reduce, rownames, sapply, setdiff, sort, table, tapply,\n",
      "    union, unique, unsplit, which, which.max, which.min\n",
      "\n",
      "Welcome to Bioconductor\n",
      "\n",
      "    Vignettes contain introductory material; view with\n",
      "    'browseVignettes()'. To cite Bioconductor, see\n",
      "    'citation(\"Biobase\")', and for packages 'citation(\"pkgname\")'.\n",
      "\n",
      "Loading required package: limma\n",
      "\n",
      "Attaching package: ‘limma’\n",
      "\n",
      "The following object is masked from ‘package:BiocGenerics’:\n",
      "\n",
      "    plotMA\n",
      "\n",
      "Loading required package: glmnet\n",
      "Loading required package: Matrix\n",
      "Loaded glmnet 3.0-2\n",
      "\n",
      "Loading required package: RColorBrewer\n",
      "Default value being used.\n",
      "There were 50 or more warnings (use warnings() to see the first 50)\n",
      "[1] \"Number of species with differential abundance:10\"\n"
     ]
    }
   ],
   "source": [
    "!sudo docker run --rm -v /Volumes/Untitled:/home/data biobakery-workflows-add-r-6 bash \\\n",
    "    -c 'Rscript /home/data/metagenomeSeq_diagnosis_remove_use_Antibiotics.R \\\n",
    "    --taxonomic_profile /home/data/results/biobakery_workflows/metaphlan2/merged/metaphlan2_taxonomic_profiles.tsv \\\n",
    "    --metadata /home/data/IBD_test_metadata.txt \\\n",
    "    --read_count /home/data/results/biobakery_workflows_output_vis/data/humann2_read_and_species_count_table.tsv \\\n",
    "    --output_all /home/data/results/metagenomeSeq/CD_vs_nonIBD_species_remove_use_Antibiotics.txt \\\n",
    "    --output_DA /home/data/results/metagenomeSeq/CD_vs_nonIBD_species_DA_remove_use_Antibiotics.txt'"
   ]
  },
  {
   "cell_type": "markdown",
   "metadata": {},
   "source": [
    "3.4.2 群落结构特征marker分析"
   ]
  },
  {
   "cell_type": "markdown",
   "metadata": {},
   "source": [
    "3.4.2.1 输入文件准备"
   ]
  },
  {
   "cell_type": "code",
   "execution_count": 1,
   "metadata": {},
   "outputs": [],
   "source": [
    "metaphlan2_taxonomic_profiles <- read.delim(\"/work/results/biobakery_workflows/metaphlan2/merged/metaphlan2_taxonomic_profiles.tsv\",stringsAsFactors=F,sep=\"\\t\",header=T)"
   ]
  },
  {
   "cell_type": "code",
   "execution_count": 2,
   "metadata": {},
   "outputs": [],
   "source": [
    "species_taxonomic_profiles <- metaphlan2_taxonomic_profiles[sapply(metaphlan2_taxonomic_profiles$X.SampleID,function(x) length(strsplit(x,\"\\\\|\")[[1]])==7),]"
   ]
  },
  {
   "cell_type": "code",
   "execution_count": 3,
   "metadata": {},
   "outputs": [],
   "source": [
    "colnames(species_taxonomic_profiles)[-1] <- sapply(colnames(species_taxonomic_profiles)[-1],function(x) strsplit(x,\"_\")[[1]][1])"
   ]
  },
  {
   "cell_type": "code",
   "execution_count": 4,
   "metadata": {},
   "outputs": [],
   "source": [
    "IBD_test_metadata <- read.table(\"/work/IBD_test_metadata.txt\",stringsAsFactors=F,sep=\"\\t\",header=T)"
   ]
  },
  {
   "cell_type": "code",
   "execution_count": 5,
   "metadata": {},
   "outputs": [],
   "source": [
    "species_taxonomic_profiles_2 <- rbind(c(\"diagnosis\",IBD_test_metadata[match(colnames(species_taxonomic_profiles)[-1],IBD_test_metadata$Run),\"diagnosis\"]),species_taxonomic_profiles)"
   ]
  },
  {
   "cell_type": "code",
   "execution_count": 6,
   "metadata": {},
   "outputs": [],
   "source": [
    "write.table(species_taxonomic_profiles_2,\"/work/results/biobakery_workflows/metaphlan2/merged/metaphlan2_taxonomic_profiles_input_for_MetAML.tsv\",quote=F,sep=\"\\t\",row.names=F,col.names=F)"
   ]
  },
  {
   "cell_type": "markdown",
   "metadata": {},
   "source": [
    "3.4.2.2 命令"
   ]
  },
  {
   "cell_type": "markdown",
   "metadata": {},
   "source": [
    "说明：特征marker分析步骤运行时间大概25分钟，输出结果文件夹放在/home/data/results/metaml/species_profiles_lasso_rf*文件。"
   ]
  },
  {
   "cell_type": "code",
   "execution_count": 1,
   "metadata": {},
   "outputs": [
    {
     "name": "stdout",
     "output_type": "stream",
     "text": [
      "/opt/conda/lib/python2.7/site-packages/sklearn/ensemble/weight_boosting.py:27: DeprecationWarning: numpy.core.umath_tests is an internal NumPy module and should not be imported. It will be removed in a future NumPy release.\n",
      "  from numpy.core.umath_tests import inner1d\n",
      "/opt/conda/lib/python2.7/site-packages/sklearn/cross_validation.py:412: Warning: The least populated class in y has only 5 members, which is too few. The minimum number of labels for any class cannot be less than n_folds=10.\n",
      "  % (min_labels, self.n_folds)), Warning)\n",
      "/opt/metaml/classification.py:49: RuntimeWarning: invalid value encountered in divide\n",
      "  t = abs(el.coef_)/sum(abs(el.coef_))\n",
      "/opt/conda/lib/python2.7/site-packages/sklearn/metrics/metrics.py:1771: UndefinedMetricWarning: F-score is ill-defined and being set to 0.0 in labels with no predicted samples.\n",
      "  'precision', 'predicted', average, warn_for)\n",
      "/opt/conda/lib/python2.7/site-packages/sklearn/metrics/metrics.py:1771: UndefinedMetricWarning: Precision is ill-defined and being set to 0.0 in labels with no predicted samples.\n",
      "  'precision', 'predicted', average, warn_for)\n",
      "/opt/conda/lib/python2.7/site-packages/sklearn/metrics/metrics.py:1773: UndefinedMetricWarning: F-score is ill-defined and being set to 0.0 in labels with no true samples.\n",
      "  'recall', 'true', average, warn_for)\n",
      "/opt/conda/lib/python2.7/site-packages/sklearn/metrics/metrics.py:1773: UndefinedMetricWarning: Recall is ill-defined and being set to 0.0 in labels with no true samples.\n",
      "  'recall', 'true', average, warn_for)\n",
      "/opt/conda/lib/python2.7/site-packages/numpy/core/fromnumeric.py:3118: RuntimeWarning: Mean of empty slice.\n",
      "  out=out, **kwargs)\n",
      "/opt/conda/lib/python2.7/site-packages/numpy/core/_methods.py:85: RuntimeWarning: invalid value encountered in double_scalars\n",
      "  ret = ret.dtype.type(ret / rcount)\n"
     ]
    }
   ],
   "source": [
    "!sudo docker run --rm -v /Volumes/Untitled:/home/data biobakery-workflows-add-r-6 bash \\\n",
    "    -c 'python /opt/metaml/classification.py /home/data/results/biobakery_workflows/metaphlan2/merged/metaphlan2_taxonomic_profiles_input_for_MetAML.tsv \\\n",
    "/home/data/results/metaml/species_profiles_lasso_rf -d 1:diagnosis:CD -i lasso -l rf -w'"
   ]
  },
  {
   "cell_type": "markdown",
   "metadata": {},
   "source": [
    "3.4.3 群落功能差异分析——整体群落通路水平"
   ]
  },
  {
   "cell_type": "markdown",
   "metadata": {},
   "source": [
    "3.4.3.1 不考虑混杂因素，在CD疾病和健康两种状态下，分析整体群落通路的差异丰度变化"
   ]
  },
  {
   "cell_type": "code",
   "execution_count": 2,
   "metadata": {},
   "outputs": [
    {
     "name": "stdout",
     "output_type": "stream",
     "text": [
      "Loading required package: Biobase\n",
      "Loading required package: BiocGenerics\n",
      "Loading required package: parallel\n",
      "\n",
      "Attaching package: ‘BiocGenerics’\n",
      "\n",
      "The following objects are masked from ‘package:parallel’:\n",
      "\n",
      "    clusterApply, clusterApplyLB, clusterCall, clusterEvalQ,\n",
      "    clusterExport, clusterMap, parApply, parCapply, parLapply,\n",
      "    parLapplyLB, parRapply, parSapply, parSapplyLB\n",
      "\n",
      "The following objects are masked from ‘package:stats’:\n",
      "\n",
      "    IQR, mad, sd, var, xtabs\n",
      "\n",
      "The following objects are masked from ‘package:base’:\n",
      "\n",
      "    anyDuplicated, append, as.data.frame, basename, cbind, colnames,\n",
      "    dirname, do.call, duplicated, eval, evalq, Filter, Find, get, grep,\n",
      "    grepl, intersect, is.unsorted, lapply, Map, mapply, match, mget,\n",
      "    order, paste, pmax, pmax.int, pmin, pmin.int, Position, rank,\n",
      "    rbind, Reduce, rownames, sapply, setdiff, sort, table, tapply,\n",
      "    union, unique, unsplit, which, which.max, which.min\n",
      "\n",
      "Welcome to Bioconductor\n",
      "\n",
      "    Vignettes contain introductory material; view with\n",
      "    'browseVignettes()'. To cite Bioconductor, see\n",
      "    'citation(\"Biobase\")', and for packages 'citation(\"pkgname\")'.\n",
      "\n",
      "Loading required package: limma\n",
      "\n",
      "Attaching package: ‘limma’\n",
      "\n",
      "The following object is masked from ‘package:BiocGenerics’:\n",
      "\n",
      "    plotMA\n",
      "\n",
      "Loading required package: glmnet\n",
      "Loading required package: Matrix\n",
      "Loaded glmnet 3.0-2\n",
      "\n",
      "Loading required package: RColorBrewer\n",
      "Default value being used.\n",
      "There were 50 or more warnings (use warnings() to see the first 50)\n",
      "[1] \"Number of path with differential abundance:1\"\n"
     ]
    }
   ],
   "source": [
    "!sudo docker run --rm -v /Volumes/Untitled:/home/data biobakery-workflows-add-r-6 bash \\\n",
    "    -c 'Rscript /home/data/metagenomeSeq_path_diagnosis.R \\\n",
    "    --path_profile /home/data/results/biobakery_workflows/humann2/merged/pathabundance.tsv \\\n",
    "    --metadata /home/data/IBD_test_metadata.txt \\\n",
    "    --output_all /home/data/results/metagenomeSeq/CD_vs_nonIBD_path.txt \\\n",
    "    --output_DA /home/data/results/metagenomeSeq/CD_vs_nonIBD_path_DA.txt'"
   ]
  },
  {
   "cell_type": "markdown",
   "metadata": {},
   "source": [
    "3.4.3.2 以年龄作为混杂因素，在CD疾病和健康两种状态下，分析整体群落通路的差异丰度变化"
   ]
  },
  {
   "cell_type": "code",
   "execution_count": 89,
   "metadata": {},
   "outputs": [
    {
     "name": "stdout",
     "output_type": "stream",
     "text": [
      "Loading required package: Biobase\n",
      "Loading required package: BiocGenerics\n",
      "Loading required package: parallel\n",
      "\n",
      "Attaching package: ‘BiocGenerics’\n",
      "\n",
      "The following objects are masked from ‘package:parallel’:\n",
      "\n",
      "    clusterApply, clusterApplyLB, clusterCall, clusterEvalQ,\n",
      "    clusterExport, clusterMap, parApply, parCapply, parLapply,\n",
      "    parLapplyLB, parRapply, parSapply, parSapplyLB\n",
      "\n",
      "The following objects are masked from ‘package:stats’:\n",
      "\n",
      "    IQR, mad, sd, var, xtabs\n",
      "\n",
      "The following objects are masked from ‘package:base’:\n",
      "\n",
      "    anyDuplicated, append, as.data.frame, basename, cbind, colnames,\n",
      "    dirname, do.call, duplicated, eval, evalq, Filter, Find, get, grep,\n",
      "    grepl, intersect, is.unsorted, lapply, Map, mapply, match, mget,\n",
      "    order, paste, pmax, pmax.int, pmin, pmin.int, Position, rank,\n",
      "    rbind, Reduce, rownames, sapply, setdiff, sort, table, tapply,\n",
      "    union, unique, unsplit, which, which.max, which.min\n",
      "\n",
      "Welcome to Bioconductor\n",
      "\n",
      "    Vignettes contain introductory material; view with\n",
      "    'browseVignettes()'. To cite Bioconductor, see\n",
      "    'citation(\"Biobase\")', and for packages 'citation(\"pkgname\")'.\n",
      "\n",
      "Loading required package: limma\n",
      "\n",
      "Attaching package: ‘limma’\n",
      "\n",
      "The following object is masked from ‘package:BiocGenerics’:\n",
      "\n",
      "    plotMA\n",
      "\n",
      "Loading required package: glmnet\n",
      "Loading required package: Matrix\n",
      "Loaded glmnet 3.0-2\n",
      "\n",
      "Loading required package: RColorBrewer\n",
      "Default value being used.\n",
      "it= 0, nll=17.69, log10(eps+1)=Inf, stillActive=343\n",
      "it= 1, nll=16.95, log10(eps+1)=0.12, stillActive=155\n",
      "it= 2, nll=17.23, log10(eps+1)=0.07, stillActive=50\n",
      "it= 3, nll=17.50, log10(eps+1)=0.04, stillActive=33\n",
      "it= 4, nll=17.86, log10(eps+1)=0.03, stillActive=7\n",
      "it= 5, nll=17.98, log10(eps+1)=0.00, stillActive=0\n",
      "[1] \"Number of path with differential abundance:45\"\n"
     ]
    }
   ],
   "source": [
    "!sudo docker run --rm -v /Volumes/Untitled:/home/data biobakery-workflows-add-r-6 bash \\\n",
    "    -c 'Rscript /home/data/metagenomeSeq_path_diagnosis_confounder.R \\\n",
    "    --path_profile /home/data/results/biobakery_workflows/humann2/merged/pathabundance.tsv \\\n",
    "    --metadata /home/data/IBD_test_metadata.txt \\\n",
    "    --output_all /home/data/results/metagenomeSeq/CD_vs_nonIBD_path_confounder_consent_age.txt \\\n",
    "    --output_DA /home/data/results/metagenomeSeq/CD_vs_nonIBD_path_DA_confounder_consent_age.txt \\\n",
    "    --confounder consent_age'"
   ]
  },
  {
   "cell_type": "markdown",
   "metadata": {},
   "source": [
    "3.4.4 群落功能差异分析——物种个体通路水平"
   ]
  },
  {
   "cell_type": "markdown",
   "metadata": {},
   "source": [
    "3.4.4.1 不考虑混杂因素，在CD疾病和健康两种状态下，分析物种个体通路的差异丰度变化"
   ]
  },
  {
   "cell_type": "code",
   "execution_count": 13,
   "metadata": {},
   "outputs": [
    {
     "name": "stdout",
     "output_type": "stream",
     "text": [
      "Loading required package: Biobase\n",
      "Loading required package: BiocGenerics\n",
      "Loading required package: parallel\n",
      "\n",
      "Attaching package: ‘BiocGenerics’\n",
      "\n",
      "The following objects are masked from ‘package:parallel’:\n",
      "\n",
      "    clusterApply, clusterApplyLB, clusterCall, clusterEvalQ,\n",
      "    clusterExport, clusterMap, parApply, parCapply, parLapply,\n",
      "    parLapplyLB, parRapply, parSapply, parSapplyLB\n",
      "\n",
      "The following objects are masked from ‘package:stats’:\n",
      "\n",
      "    IQR, mad, sd, var, xtabs\n",
      "\n",
      "The following objects are masked from ‘package:base’:\n",
      "\n",
      "    anyDuplicated, append, as.data.frame, basename, cbind, colnames,\n",
      "    dirname, do.call, duplicated, eval, evalq, Filter, Find, get, grep,\n",
      "    grepl, intersect, is.unsorted, lapply, Map, mapply, match, mget,\n",
      "    order, paste, pmax, pmax.int, pmin, pmin.int, Position, rank,\n",
      "    rbind, Reduce, rownames, sapply, setdiff, sort, table, tapply,\n",
      "    union, unique, unsplit, which, which.max, which.min\n",
      "\n",
      "Welcome to Bioconductor\n",
      "\n",
      "    Vignettes contain introductory material; view with\n",
      "    'browseVignettes()'. To cite Bioconductor, see\n",
      "    'citation(\"Biobase\")', and for packages 'citation(\"pkgname\")'.\n",
      "\n",
      "Loading required package: limma\n",
      "\n",
      "Attaching package: ‘limma’\n",
      "\n",
      "The following object is masked from ‘package:BiocGenerics’:\n",
      "\n",
      "    plotMA\n",
      "\n",
      "Loading required package: glmnet\n",
      "Loading required package: Matrix\n",
      "Loaded glmnet 3.0-2\n",
      "\n",
      "Loading required package: RColorBrewer\n",
      "Default value being used.\n",
      "There were 50 or more warnings (use warnings() to see the first 50)\n",
      "[1] \"Number of path with differential abundance:7\"\n"
     ]
    }
   ],
   "source": [
    "!sudo docker run --rm -v /Volumes/Untitled:/home/data biobakery-workflows-add-r-6 bash \\\n",
    "    -c 'Rscript /home/data/metagenomeSeq_stratified_path_diagnosis.R \\\n",
    "    --path_profile /home/data/results/biobakery_workflows/humann2/merged/pathabundance.tsv \\\n",
    "    --metadata /home/data/IBD_test_metadata.txt \\\n",
    "    --output_all /home/data/results/metagenomeSeq/CD_vs_nonIBD_stratified_path_stratified.txt \\\n",
    "    --output_DA /home/data/results/metagenomeSeq/CD_vs_nonIBD_stratified_path_DA_stratified.txt'"
   ]
  },
  {
   "cell_type": "markdown",
   "metadata": {},
   "source": [
    "3.4.4.2 以年龄作为混杂因素，在CD疾病和健康两种状态下，分析物种个体通路的差异丰度变化"
   ]
  },
  {
   "cell_type": "code",
   "execution_count": 10,
   "metadata": {},
   "outputs": [
    {
     "name": "stdout",
     "output_type": "stream",
     "text": [
      "Loading required package: Biobase\n",
      "Loading required package: BiocGenerics\n",
      "Loading required package: parallel\n",
      "\n",
      "Attaching package: ‘BiocGenerics’\n",
      "\n",
      "The following objects are masked from ‘package:parallel’:\n",
      "\n",
      "    clusterApply, clusterApplyLB, clusterCall, clusterEvalQ,\n",
      "    clusterExport, clusterMap, parApply, parCapply, parLapply,\n",
      "    parLapplyLB, parRapply, parSapply, parSapplyLB\n",
      "\n",
      "The following objects are masked from ‘package:stats’:\n",
      "\n",
      "    IQR, mad, sd, var, xtabs\n",
      "\n",
      "The following objects are masked from ‘package:base’:\n",
      "\n",
      "    anyDuplicated, append, as.data.frame, basename, cbind, colnames,\n",
      "    dirname, do.call, duplicated, eval, evalq, Filter, Find, get, grep,\n",
      "    grepl, intersect, is.unsorted, lapply, Map, mapply, match, mget,\n",
      "    order, paste, pmax, pmax.int, pmin, pmin.int, Position, rank,\n",
      "    rbind, Reduce, rownames, sapply, setdiff, sort, table, tapply,\n",
      "    union, unique, unsplit, which, which.max, which.min\n",
      "\n",
      "Welcome to Bioconductor\n",
      "\n",
      "    Vignettes contain introductory material; view with\n",
      "    'browseVignettes()'. To cite Bioconductor, see\n",
      "    'citation(\"Biobase\")', and for packages 'citation(\"pkgname\")'.\n",
      "\n",
      "Loading required package: limma\n",
      "\n",
      "Attaching package: ‘limma’\n",
      "\n",
      "The following object is masked from ‘package:BiocGenerics’:\n",
      "\n",
      "    plotMA\n",
      "\n",
      "Loading required package: glmnet\n",
      "Loading required package: Matrix\n",
      "Loaded glmnet 3.0-2\n",
      "\n",
      "Loading required package: RColorBrewer\n",
      "Default value being used.\n",
      "it= 0, nll=14.19, log10(eps+1)=Inf, stillActive=2734\n",
      "it= 1, nll=13.01, log10(eps+1)=0.10, stillActive=2394\n",
      "it= 2, nll=12.57, log10(eps+1)=0.07, stillActive=1686\n",
      "it= 3, nll=12.70, log10(eps+1)=0.06, stillActive=1274\n",
      "it= 4, nll=13.65, log10(eps+1)=0.05, stillActive=215\n",
      "it= 5, nll=13.97, log10(eps+1)=0.01, stillActive=11\n",
      "it= 6, nll=14.03, log10(eps+1)=0.00, stillActive=0\n",
      "[1] \"Number of path with differential abundance:711\"\n"
     ]
    }
   ],
   "source": [
    "!sudo docker run --rm -v /Volumes/Untitled:/home/data biobakery-workflows-add-r-6 bash \\\n",
    "    -c 'Rscript /home/data/metagenomeSeq_stratified_path_diagnosis_confounder.R \\\n",
    "    --path_profile /home/data/results/biobakery_workflows/humann2/merged/pathabundance.tsv \\\n",
    "    --metadata /home/data/IBD_test_metadata.txt \\\n",
    "    --output_all /home/data/results/metagenomeSeq/CD_vs_nonIBD_stratified_path_stratified_confounder_consent_age.txt \\\n",
    "    --output_DA /home/data/results/metagenomeSeq/CD_vs_nonIBD_stratified_path_DA_stratified_confounder_consent_age.txt \\\n",
    "    --confounder consent_age'"
   ]
  },
  {
   "cell_type": "markdown",
   "metadata": {},
   "source": [
    "3.4.5 群落功能差异分析——整体群落ECS蛋白酶家族水平"
   ]
  },
  {
   "cell_type": "markdown",
   "metadata": {},
   "source": [
    "3.4.5.1 不考虑混杂因素，在CD疾病和健康两种状态下，分析整体群落ECS蛋白酶家族的差异丰度变化"
   ]
  },
  {
   "cell_type": "code",
   "execution_count": 98,
   "metadata": {},
   "outputs": [
    {
     "name": "stdout",
     "output_type": "stream",
     "text": [
      "Loading required package: Biobase\n",
      "Loading required package: BiocGenerics\n",
      "Loading required package: parallel\n",
      "\n",
      "Attaching package: ‘BiocGenerics’\n",
      "\n",
      "The following objects are masked from ‘package:parallel’:\n",
      "\n",
      "    clusterApply, clusterApplyLB, clusterCall, clusterEvalQ,\n",
      "    clusterExport, clusterMap, parApply, parCapply, parLapply,\n",
      "    parLapplyLB, parRapply, parSapply, parSapplyLB\n",
      "\n",
      "The following objects are masked from ‘package:stats’:\n",
      "\n",
      "    IQR, mad, sd, var, xtabs\n",
      "\n",
      "The following objects are masked from ‘package:base’:\n",
      "\n",
      "    anyDuplicated, append, as.data.frame, basename, cbind, colnames,\n",
      "    dirname, do.call, duplicated, eval, evalq, Filter, Find, get, grep,\n",
      "    grepl, intersect, is.unsorted, lapply, Map, mapply, match, mget,\n",
      "    order, paste, pmax, pmax.int, pmin, pmin.int, Position, rank,\n",
      "    rbind, Reduce, rownames, sapply, setdiff, sort, table, tapply,\n",
      "    union, unique, unsplit, which, which.max, which.min\n",
      "\n",
      "Welcome to Bioconductor\n",
      "\n",
      "    Vignettes contain introductory material; view with\n",
      "    'browseVignettes()'. To cite Bioconductor, see\n",
      "    'citation(\"Biobase\")', and for packages 'citation(\"pkgname\")'.\n",
      "\n",
      "Loading required package: limma\n",
      "\n",
      "Attaching package: ‘limma’\n",
      "\n",
      "The following object is masked from ‘package:BiocGenerics’:\n",
      "\n",
      "    plotMA\n",
      "\n",
      "Loading required package: glmnet\n",
      "Loading required package: Matrix\n",
      "Loaded glmnet 3.0-2\n",
      "\n",
      "Loading required package: RColorBrewer\n",
      "Default value being used.\n",
      "There were 50 or more warnings (use warnings() to see the first 50)\n",
      "[1] \"Number of ecs with differential abundance:7\"\n"
     ]
    }
   ],
   "source": [
    "!sudo docker run --rm -v /Volumes/Untitled:/home/data biobakery-workflows-add-r-6 bash \\\n",
    "    -c 'Rscript /home/data/metagenomeSeq_ecs_diagnosis.R \\\n",
    "    --ecs_profile /home/data/results/biobakery_workflows/humann2/merged/ecs.tsv \\\n",
    "    --metadata /home/data/IBD_test_metadata.txt \\\n",
    "    --output_all /home/data/results/metagenomeSeq/CD_vs_nonIBD_ecs.txt \\\n",
    "    --output_DA /home/data/results/metagenomeSeq/CD_vs_nonIBD_ecs_DA.txt'"
   ]
  },
  {
   "cell_type": "markdown",
   "metadata": {},
   "source": [
    "3.4.5.2 以年龄作为混杂因素，在CD疾病和健康两种状态下，分析整体群落ECS蛋白酶家族的差异丰度变化"
   ]
  },
  {
   "cell_type": "code",
   "execution_count": 101,
   "metadata": {},
   "outputs": [
    {
     "name": "stdout",
     "output_type": "stream",
     "text": [
      "Loading required package: Biobase\n",
      "Loading required package: BiocGenerics\n",
      "Loading required package: parallel\n",
      "\n",
      "Attaching package: ‘BiocGenerics’\n",
      "\n",
      "The following objects are masked from ‘package:parallel’:\n",
      "\n",
      "    clusterApply, clusterApplyLB, clusterCall, clusterEvalQ,\n",
      "    clusterExport, clusterMap, parApply, parCapply, parLapply,\n",
      "    parLapplyLB, parRapply, parSapply, parSapplyLB\n",
      "\n",
      "The following objects are masked from ‘package:stats’:\n",
      "\n",
      "    IQR, mad, sd, var, xtabs\n",
      "\n",
      "The following objects are masked from ‘package:base’:\n",
      "\n",
      "    anyDuplicated, append, as.data.frame, basename, cbind, colnames,\n",
      "    dirname, do.call, duplicated, eval, evalq, Filter, Find, get, grep,\n",
      "    grepl, intersect, is.unsorted, lapply, Map, mapply, match, mget,\n",
      "    order, paste, pmax, pmax.int, pmin, pmin.int, Position, rank,\n",
      "    rbind, Reduce, rownames, sapply, setdiff, sort, table, tapply,\n",
      "    union, unique, unsplit, which, which.max, which.min\n",
      "\n",
      "Welcome to Bioconductor\n",
      "\n",
      "    Vignettes contain introductory material; view with\n",
      "    'browseVignettes()'. To cite Bioconductor, see\n",
      "    'citation(\"Biobase\")', and for packages 'citation(\"pkgname\")'.\n",
      "\n",
      "Loading required package: limma\n",
      "\n",
      "Attaching package: ‘limma’\n",
      "\n",
      "The following object is masked from ‘package:BiocGenerics’:\n",
      "\n",
      "    plotMA\n",
      "\n",
      "Loading required package: glmnet\n",
      "Loading required package: Matrix\n",
      "Loaded glmnet 3.0-2\n",
      "\n",
      "Loading required package: RColorBrewer\n",
      "Default value being used.\n",
      "it= 0, nll=17.59, log10(eps+1)=Inf, stillActive=1431\n",
      "it= 1, nll=17.99, log10(eps+1)=0.11, stillActive=453\n",
      "it= 2, nll=18.02, log10(eps+1)=0.07, stillActive=283\n",
      "it= 3, nll=18.01, log10(eps+1)=0.06, stillActive=224\n",
      "it= 4, nll=18.23, log10(eps+1)=0.05, stillActive=118\n",
      "it= 5, nll=18.48, log10(eps+1)=0.04, stillActive=9\n",
      "it= 6, nll=18.49, log10(eps+1)=0.02, stillActive=3\n",
      "it= 7, nll=18.50, log10(eps+1)=0.00, stillActive=1\n",
      "it= 8, nll=18.50, log10(eps+1)=0.00, stillActive=1\n",
      "it= 9, nll=18.50, log10(eps+1)=0.00, stillActive=0\n",
      "[1] \"Number of ecs with differential abundance:22\"\n"
     ]
    }
   ],
   "source": [
    "!sudo docker run --rm -v /Volumes/Untitled:/home/data biobakery-workflows-add-r-6 bash \\\n",
    "    -c 'Rscript /home/data/metagenomeSeq_ecs_diagnosis_confounder.R \\\n",
    "    --ecs_profile /home/data/results/biobakery_workflows/humann2/merged/ecs.tsv \\\n",
    "    --metadata /home/data/IBD_test_metadata.txt \\\n",
    "    --output_all /home/data/results/metagenomeSeq/CD_vs_nonIBD_ecs_confounder_consent_age.txt \\\n",
    "    --output_DA /home/data/results/metagenomeSeq/CD_vs_nonIBD_ecs_DA_confounder_consent_age.txt \\\n",
    "    --confounder consent_age'"
   ]
  },
  {
   "cell_type": "markdown",
   "metadata": {},
   "source": [
    "3.4.6 群落功能差异分析——物种个体ECS蛋白酶家族水平"
   ]
  },
  {
   "cell_type": "markdown",
   "metadata": {},
   "source": [
    "3.4.6.1 不考虑混杂因素，在CD疾病和健康两种状态下，分析物种个体ECS蛋白酶家族的差异丰度变化"
   ]
  },
  {
   "cell_type": "code",
   "execution_count": 104,
   "metadata": {},
   "outputs": [
    {
     "name": "stdout",
     "output_type": "stream",
     "text": [
      "Loading required package: Biobase\n",
      "Loading required package: BiocGenerics\n",
      "Loading required package: parallel\n",
      "\n",
      "Attaching package: ‘BiocGenerics’\n",
      "\n",
      "The following objects are masked from ‘package:parallel’:\n",
      "\n",
      "    clusterApply, clusterApplyLB, clusterCall, clusterEvalQ,\n",
      "    clusterExport, clusterMap, parApply, parCapply, parLapply,\n",
      "    parLapplyLB, parRapply, parSapply, parSapplyLB\n",
      "\n",
      "The following objects are masked from ‘package:stats’:\n",
      "\n",
      "    IQR, mad, sd, var, xtabs\n",
      "\n",
      "The following objects are masked from ‘package:base’:\n",
      "\n",
      "    anyDuplicated, append, as.data.frame, basename, cbind, colnames,\n",
      "    dirname, do.call, duplicated, eval, evalq, Filter, Find, get, grep,\n",
      "    grepl, intersect, is.unsorted, lapply, Map, mapply, match, mget,\n",
      "    order, paste, pmax, pmax.int, pmin, pmin.int, Position, rank,\n",
      "    rbind, Reduce, rownames, sapply, setdiff, sort, table, tapply,\n",
      "    union, unique, unsplit, which, which.max, which.min\n",
      "\n",
      "Welcome to Bioconductor\n",
      "\n",
      "    Vignettes contain introductory material; view with\n",
      "    'browseVignettes()'. To cite Bioconductor, see\n",
      "    'citation(\"Biobase\")', and for packages 'citation(\"pkgname\")'.\n",
      "\n",
      "Loading required package: limma\n",
      "\n",
      "Attaching package: ‘limma’\n",
      "\n",
      "The following object is masked from ‘package:BiocGenerics’:\n",
      "\n",
      "    plotMA\n",
      "\n",
      "Loading required package: glmnet\n",
      "Loading required package: Matrix\n",
      "Loaded glmnet 3.0-2\n",
      "\n",
      "Loading required package: RColorBrewer\n",
      "Default value being used.\n",
      "There were 50 or more warnings (use warnings() to see the first 50)\n",
      "[1] \"Number of ecs with differential abundance:291\"\n"
     ]
    }
   ],
   "source": [
    "!sudo docker run --rm -v /Volumes/Untitled:/home/data biobakery-workflows-add-r-6 bash \\\n",
    "    -c 'Rscript /home/data/metagenomeSeq_stratified_ecs_diagnosis.R \\\n",
    "    --ecs_profile /home/data/results/biobakery_workflows/humann2/merged/ecs.tsv \\\n",
    "    --metadata /home/data/IBD_test_metadata.txt \\\n",
    "    --output_all /home/data/results/metagenomeSeq/CD_vs_nonIBD_stratified_ecs.txt \\\n",
    "    --output_DA /home/data/results/metagenomeSeq/CD_vs_nonIBD_stratified_ecs_DA.txt'"
   ]
  },
  {
   "cell_type": "markdown",
   "metadata": {},
   "source": [
    "3.4.6.2 以年龄作为混杂因素，在CD疾病和健康两种状态下，分析物种个体ECS蛋白酶家族的差异丰度变化"
   ]
  },
  {
   "cell_type": "code",
   "execution_count": 106,
   "metadata": {},
   "outputs": [
    {
     "name": "stdout",
     "output_type": "stream",
     "text": [
      "Loading required package: Biobase\n",
      "Loading required package: BiocGenerics\n",
      "Loading required package: parallel\n",
      "\n",
      "Attaching package: ‘BiocGenerics’\n",
      "\n",
      "The following objects are masked from ‘package:parallel’:\n",
      "\n",
      "    clusterApply, clusterApplyLB, clusterCall, clusterEvalQ,\n",
      "    clusterExport, clusterMap, parApply, parCapply, parLapply,\n",
      "    parLapplyLB, parRapply, parSapply, parSapplyLB\n",
      "\n",
      "The following objects are masked from ‘package:stats’:\n",
      "\n",
      "    IQR, mad, sd, var, xtabs\n",
      "\n",
      "The following objects are masked from ‘package:base’:\n",
      "\n",
      "    anyDuplicated, append, as.data.frame, basename, cbind, colnames,\n",
      "    dirname, do.call, duplicated, eval, evalq, Filter, Find, get, grep,\n",
      "    grepl, intersect, is.unsorted, lapply, Map, mapply, match, mget,\n",
      "    order, paste, pmax, pmax.int, pmin, pmin.int, Position, rank,\n",
      "    rbind, Reduce, rownames, sapply, setdiff, sort, table, tapply,\n",
      "    union, unique, unsplit, which, which.max, which.min\n",
      "\n",
      "Welcome to Bioconductor\n",
      "\n",
      "    Vignettes contain introductory material; view with\n",
      "    'browseVignettes()'. To cite Bioconductor, see\n",
      "    'citation(\"Biobase\")', and for packages 'citation(\"pkgname\")'.\n",
      "\n",
      "Loading required package: limma\n",
      "\n",
      "Attaching package: ‘limma’\n",
      "\n",
      "The following object is masked from ‘package:BiocGenerics’:\n",
      "\n",
      "    plotMA\n",
      "\n",
      "Loading required package: glmnet\n",
      "Loading required package: Matrix\n",
      "Loaded glmnet 3.0-2\n",
      "\n",
      "Loading required package: RColorBrewer\n",
      "Default value being used.\n",
      "it= 0, nll=14.24, log10(eps+1)=Inf, stillActive=31454\n",
      "it= 1, nll=13.51, log10(eps+1)=0.11, stillActive=23958\n",
      "it= 2, nll=13.01, log10(eps+1)=0.07, stillActive=18725\n",
      "it= 3, nll=13.11, log10(eps+1)=0.05, stillActive=11623\n",
      "it= 4, nll=13.67, log10(eps+1)=0.05, stillActive=3881\n",
      "it= 5, nll=13.99, log10(eps+1)=0.05, stillActive=557\n",
      "it= 6, nll=14.01, log10(eps+1)=0.01, stillActive=14\n",
      "it= 7, nll=13.99, log10(eps+1)=0.00, stillActive=14\n",
      "it= 8, nll=13.98, log10(eps+1)=0.00, stillActive=13\n",
      "it= 9, nll=13.98, log10(eps+1)=0.00, stillActive=13\n",
      "[1] \"Number of ecs with differential abundance:6073\"\n"
     ]
    }
   ],
   "source": [
    "!sudo docker run --rm -v /Volumes/Untitled:/home/data biobakery-workflows-add-r-6 bash \\\n",
    "    -c 'Rscript /home/data/metagenomeSeq_stratified_ecs_diagnosis_confounder.R \\\n",
    "    --ecs_profile /home/data/results/biobakery_workflows/humann2/merged/ecs.tsv \\\n",
    "    --metadata /home/data/IBD_test_metadata.txt \\\n",
    "    --output_all /home/data/results/metagenomeSeq/CD_vs_nonIBD_stratified_ecs_confounder_consent_age.txt \\\n",
    "    --output_DA /home/data/results/metagenomeSeq/CD_vs_nonIBD_stratified_ecs_DA_confounder_consent_age.txt \\\n",
    "    --confounder consent_age'"
   ]
  },
  {
   "cell_type": "markdown",
   "metadata": {},
   "source": [
    "3.4.7 群落功能差异分析——整体群落UniRef90基因家族水平"
   ]
  },
  {
   "cell_type": "markdown",
   "metadata": {},
   "source": [
    "3.4.7.1 不考虑混杂因素，在CD疾病和健康两种状态下，分析整体群落UniRef90基因家族的差异丰度变化"
   ]
  },
  {
   "cell_type": "code",
   "execution_count": 2,
   "metadata": {},
   "outputs": [
    {
     "name": "stdout",
     "output_type": "stream",
     "text": [
      "Loading required package: Biobase\n",
      "Loading required package: BiocGenerics\n",
      "Loading required package: parallel\n",
      "\n",
      "Attaching package: ‘BiocGenerics’\n",
      "\n",
      "The following objects are masked from ‘package:parallel’:\n",
      "\n",
      "    clusterApply, clusterApplyLB, clusterCall, clusterEvalQ,\n",
      "    clusterExport, clusterMap, parApply, parCapply, parLapply,\n",
      "    parLapplyLB, parRapply, parSapply, parSapplyLB\n",
      "\n",
      "The following objects are masked from ‘package:stats’:\n",
      "\n",
      "    IQR, mad, sd, var, xtabs\n",
      "\n",
      "The following objects are masked from ‘package:base’:\n",
      "\n",
      "    anyDuplicated, append, as.data.frame, basename, cbind, colnames,\n",
      "    dirname, do.call, duplicated, eval, evalq, Filter, Find, get, grep,\n",
      "    grepl, intersect, is.unsorted, lapply, Map, mapply, match, mget,\n",
      "    order, paste, pmax, pmax.int, pmin, pmin.int, Position, rank,\n",
      "    rbind, Reduce, rownames, sapply, setdiff, sort, table, tapply,\n",
      "    union, unique, unsplit, which, which.max, which.min\n",
      "\n",
      "Welcome to Bioconductor\n",
      "\n",
      "    Vignettes contain introductory material; view with\n",
      "    'browseVignettes()'. To cite Bioconductor, see\n",
      "    'citation(\"Biobase\")', and for packages 'citation(\"pkgname\")'.\n",
      "\n",
      "Loading required package: limma\n",
      "\n",
      "Attaching package: ‘limma’\n",
      "\n",
      "The following object is masked from ‘package:BiocGenerics’:\n",
      "\n",
      "    plotMA\n",
      "\n",
      "Loading required package: glmnet\n",
      "Loading required package: Matrix\n",
      "Loaded glmnet 3.0-2\n",
      "\n",
      "Loading required package: RColorBrewer\n",
      "Default value being used.\n",
      "There were 50 or more warnings (use warnings() to see the first 50)\n",
      "[1] \"Number of genefamilies with differential abundance:3993\"\n"
     ]
    }
   ],
   "source": [
    "!sudo docker run --rm -v /Volumes/Untitled:/home/data biobakery-workflows-add-r-6 bash \\\n",
    "    -c 'Rscript /home/data/metagenomeSeq_genefamilies_diagnosis.R \\\n",
    "    --genefamilies_profile /home/data/results/biobakery_workflows/humann2/merged/genefamilies.tsv \\\n",
    "    --metadata /home/data/IBD_test_metadata.txt \\\n",
    "    --output_all /home/data/results/metagenomeSeq/CD_vs_nonIBD_genefamilies.txt \\\n",
    "    --output_DA /home/data/results/metagenomeSeq/CD_vs_nonIBD_genefamilies_DA.txt'"
   ]
  },
  {
   "cell_type": "markdown",
   "metadata": {},
   "source": [
    "3.4.7.2 以年龄作为混杂因素，在CD疾病和健康两种状态下，分析整体群落UniRef90基因家族的差异丰度变化"
   ]
  },
  {
   "cell_type": "code",
   "execution_count": 3,
   "metadata": {},
   "outputs": [
    {
     "name": "stdout",
     "output_type": "stream",
     "text": [
      "Loading required package: Biobase\n",
      "Loading required package: BiocGenerics\n",
      "Loading required package: parallel\n",
      "\n",
      "Attaching package: ‘BiocGenerics’\n",
      "\n",
      "The following objects are masked from ‘package:parallel’:\n",
      "\n",
      "    clusterApply, clusterApplyLB, clusterCall, clusterEvalQ,\n",
      "    clusterExport, clusterMap, parApply, parCapply, parLapply,\n",
      "    parLapplyLB, parRapply, parSapply, parSapplyLB\n",
      "\n",
      "The following objects are masked from ‘package:stats’:\n",
      "\n",
      "    IQR, mad, sd, var, xtabs\n",
      "\n",
      "The following objects are masked from ‘package:base’:\n",
      "\n",
      "    anyDuplicated, append, as.data.frame, basename, cbind, colnames,\n",
      "    dirname, do.call, duplicated, eval, evalq, Filter, Find, get, grep,\n",
      "    grepl, intersect, is.unsorted, lapply, Map, mapply, match, mget,\n",
      "    order, paste, pmax, pmax.int, pmin, pmin.int, Position, rank,\n",
      "    rbind, Reduce, rownames, sapply, setdiff, sort, table, tapply,\n",
      "    union, unique, unsplit, which, which.max, which.min\n",
      "\n",
      "Welcome to Bioconductor\n",
      "\n",
      "    Vignettes contain introductory material; view with\n",
      "    'browseVignettes()'. To cite Bioconductor, see\n",
      "    'citation(\"Biobase\")', and for packages 'citation(\"pkgname\")'.\n",
      "\n",
      "Loading required package: limma\n",
      "\n",
      "Attaching package: ‘limma’\n",
      "\n",
      "The following object is masked from ‘package:BiocGenerics’:\n",
      "\n",
      "    plotMA\n",
      "\n",
      "Loading required package: glmnet\n",
      "Loading required package: Matrix\n",
      "Loaded glmnet 3.0-2\n",
      "\n",
      "Loading required package: RColorBrewer\n",
      "Default value being used.\n",
      "it= 0, nll=14.01, log10(eps+1)=Inf, stillActive=551827\n",
      "it= 1, nll=13.70, log10(eps+1)=0.25, stillActive=357102\n",
      "it= 2, nll=13.45, log10(eps+1)=0.11, stillActive=280989\n",
      "it= 3, nll=13.78, log10(eps+1)=Inf, stillActive=156347\n",
      "it= 4, nll=13.96, log10(eps+1)=Inf, stillActive=86804\n",
      "it= 5, nll=14.36, log10(eps+1)=Inf, stillActive=1757\n",
      "it= 6, nll=14.30, log10(eps+1)=Inf, stillActive=201\n",
      "it= 7, nll=14.27, log10(eps+1)=Inf, stillActive=162\n",
      "it= 8, nll=14.24, log10(eps+1)=Inf, stillActive=138\n",
      "it= 9, nll=14.23, log10(eps+1)=Inf, stillActive=124\n",
      "[1] \"Number of genefamilies with differential abundance:107885\"\n"
     ]
    }
   ],
   "source": [
    "!sudo docker run --rm -v /Volumes/Untitled:/home/data biobakery-workflows-add-r-6 bash \\\n",
    "    -c 'Rscript /home/data/metagenomeSeq_genefamilies_diagnosis_confounder.R \\\n",
    "    --genefamilies_profile /home/data/results/biobakery_workflows/humann2/merged/genefamilies.tsv \\\n",
    "    --metadata /home/data/IBD_test_metadata.txt \\\n",
    "    --output_all /home/data/results/metagenomeSeq/CD_vs_nonIBD_genefamilies_confounder_Antibiotics.txt \\\n",
    "    --output_DA /home/data/results/metagenomeSeq/CD_vs_nonIBD_genefamilies_DA_confounder_Antibiotics.txt \\\n",
    "    --confounder Antibiotics'"
   ]
  },
  {
   "cell_type": "markdown",
   "metadata": {},
   "source": [
    "3.4.8 群落功能差异分析——物种个体UniRef90基因家族水平"
   ]
  },
  {
   "cell_type": "markdown",
   "metadata": {},
   "source": [
    "3.4.8.1 不考虑混杂因素，在CD疾病和健康两种状态下，分析物种个体UniRef90基因家族的差异丰度变化"
   ]
  },
  {
   "cell_type": "code",
   "execution_count": 2,
   "metadata": {},
   "outputs": [
    {
     "name": "stdout",
     "output_type": "stream",
     "text": [
      "Loading required package: Biobase\n",
      "Loading required package: BiocGenerics\n",
      "Loading required package: parallel\n",
      "\n",
      "Attaching package: ‘BiocGenerics’\n",
      "\n",
      "The following objects are masked from ‘package:parallel’:\n",
      "\n",
      "    clusterApply, clusterApplyLB, clusterCall, clusterEvalQ,\n",
      "    clusterExport, clusterMap, parApply, parCapply, parLapply,\n",
      "    parLapplyLB, parRapply, parSapply, parSapplyLB\n",
      "\n",
      "The following objects are masked from ‘package:stats’:\n",
      "\n",
      "    IQR, mad, sd, var, xtabs\n",
      "\n",
      "The following objects are masked from ‘package:base’:\n",
      "\n",
      "    anyDuplicated, append, as.data.frame, basename, cbind, colnames,\n",
      "    dirname, do.call, duplicated, eval, evalq, Filter, Find, get, grep,\n",
      "    grepl, intersect, is.unsorted, lapply, Map, mapply, match, mget,\n",
      "    order, paste, pmax, pmax.int, pmin, pmin.int, Position, rank,\n",
      "    rbind, Reduce, rownames, sapply, setdiff, sort, table, tapply,\n",
      "    union, unique, unsplit, which, which.max, which.min\n",
      "\n",
      "Welcome to Bioconductor\n",
      "\n",
      "    Vignettes contain introductory material; view with\n",
      "    'browseVignettes()'. To cite Bioconductor, see\n",
      "    'citation(\"Biobase\")', and for packages 'citation(\"pkgname\")'.\n",
      "\n",
      "Loading required package: limma\n",
      "\n",
      "Attaching package: ‘limma’\n",
      "\n",
      "The following object is masked from ‘package:BiocGenerics’:\n",
      "\n",
      "    plotMA\n",
      "\n",
      "Loading required package: glmnet\n",
      "Loading required package: Matrix\n",
      "Loaded glmnet 3.0-2\n",
      "\n",
      "Loading required package: RColorBrewer\n",
      "Default value being used.\n",
      "There were 50 or more warnings (use warnings() to see the first 50)\n",
      "[1] \"Number of genefamilies with differential abundance:2446\"\n"
     ]
    }
   ],
   "source": [
    "!sudo docker run --rm -v /Volumes/Untitled:/home/data biobakery-workflows-add-r-6 bash \\\n",
    "    -c 'Rscript /home/data/metagenomeSeq_stratified_genefamilies_diagnosis.R \\\n",
    "    --genefamilies_profile /home/data/results/biobakery_workflows/humann2/merged/genefamilies.tsv \\\n",
    "    --metadata /home/data/IBD_test_metadata.txt \\\n",
    "    --output_all /home/data/results/metagenomeSeq/CD_vs_nonIBD_stratified_genefamilies.txt \\\n",
    "    --output_DA /home/data/results/metagenomeSeq/CD_vs_nonIBD_stratified_genefamilies_DA.txt'"
   ]
  },
  {
   "cell_type": "markdown",
   "metadata": {},
   "source": [
    "3.4.8.2 以年龄作为混杂因素，在CD疾病和健康两种状态下，分析物种个体UniRef90基因家族的差异丰度变化"
   ]
  },
  {
   "cell_type": "code",
   "execution_count": 5,
   "metadata": {},
   "outputs": [
    {
     "name": "stdout",
     "output_type": "stream",
     "text": [
      "Loading required package: Biobase\n",
      "Loading required package: BiocGenerics\n",
      "Loading required package: parallel\n",
      "\n",
      "Attaching package: ‘BiocGenerics’\n",
      "\n",
      "The following objects are masked from ‘package:parallel’:\n",
      "\n",
      "    clusterApply, clusterApplyLB, clusterCall, clusterEvalQ,\n",
      "    clusterExport, clusterMap, parApply, parCapply, parLapply,\n",
      "    parLapplyLB, parRapply, parSapply, parSapplyLB\n",
      "\n",
      "The following objects are masked from ‘package:stats’:\n",
      "\n",
      "    IQR, mad, sd, var, xtabs\n",
      "\n",
      "The following objects are masked from ‘package:base’:\n",
      "\n",
      "    anyDuplicated, append, as.data.frame, basename, cbind, colnames,\n",
      "    dirname, do.call, duplicated, eval, evalq, Filter, Find, get, grep,\n",
      "    grepl, intersect, is.unsorted, lapply, Map, mapply, match, mget,\n",
      "    order, paste, pmax, pmax.int, pmin, pmin.int, Position, rank,\n",
      "    rbind, Reduce, rownames, sapply, setdiff, sort, table, tapply,\n",
      "    union, unique, unsplit, which, which.max, which.min\n",
      "\n",
      "Welcome to Bioconductor\n",
      "\n",
      "    Vignettes contain introductory material; view with\n",
      "    'browseVignettes()'. To cite Bioconductor, see\n",
      "    'citation(\"Biobase\")', and for packages 'citation(\"pkgname\")'.\n",
      "\n",
      "Loading required package: limma\n",
      "\n",
      "Attaching package: ‘limma’\n",
      "\n",
      "The following object is masked from ‘package:BiocGenerics’:\n",
      "\n",
      "    plotMA\n",
      "\n",
      "Loading required package: glmnet\n",
      "Loading required package: Matrix\n",
      "Loaded glmnet 3.0-2\n",
      "\n",
      "Loading required package: RColorBrewer\n",
      "Default value being used.\n",
      "it= 0, nll=13.98, log10(eps+1)=Inf, stillActive=395118\n",
      "it= 1, nll=13.17, log10(eps+1)=0.12, stillActive=304421\n",
      "it= 2, nll=12.75, log10(eps+1)=0.07, stillActive=242935\n",
      "it= 3, nll=12.91, log10(eps+1)=0.06, stillActive=138192\n",
      "it= 4, nll=13.58, log10(eps+1)=0.08, stillActive=28822\n",
      "it= 5, nll=13.78, log10(eps+1)=0.07, stillActive=2919\n",
      "it= 6, nll=13.81, log10(eps+1)=0.07, stillActive=1086\n",
      "it= 7, nll=13.82, log10(eps+1)=0.06, stillActive=981\n",
      "it= 8, nll=13.83, log10(eps+1)=0.05, stillActive=876\n",
      "it= 9, nll=13.83, log10(eps+1)=0.06, stillActive=680\n",
      "[1] \"Number of genefamilies with differential abundance:72955\"\n"
     ]
    }
   ],
   "source": [
    "!sudo docker run --rm -v /Volumes/Untitled:/home/data biobakery-workflows-add-r-6 bash \\\n",
    "    -c 'Rscript /home/data/metagenomeSeq_stratified_genefamilies_diagnosis_confounder.R \\\n",
    "    --genefamilies_profile /home/data/results/biobakery_workflows/humann2/merged/genefamilies.tsv \\\n",
    "    --metadata /home/data/IBD_test_metadata.txt \\\n",
    "    --output_all /home/data/results/metagenomeSeq/CD_vs_nonIBD_stratified_genefamilies_confounder_consent_age.txt \\\n",
    "    --output_DA /home/data/results/metagenomeSeq/CD_vs_nonIBD_stratified_genefamilies_DA_confounder_consent_age.txt \\\n",
    "    --confounder consent_age'"
   ]
  },
  {
   "cell_type": "markdown",
   "metadata": {},
   "source": [
    "3.4.9 群落功能特征marker分析——整体群落通路水平"
   ]
  },
  {
   "cell_type": "markdown",
   "metadata": {},
   "source": [
    "3.4.9.1 输入文件准备"
   ]
  },
  {
   "cell_type": "code",
   "execution_count": 1,
   "metadata": {},
   "outputs": [],
   "source": [
    "pathabundance <- read.delim(\"/work/results/biobakery_workflows/humann2/merged/pathabundance.tsv\",stringsAsFactors=F,sep=\"\\t\",header=T)"
   ]
  },
  {
   "cell_type": "code",
   "execution_count": 2,
   "metadata": {},
   "outputs": [],
   "source": [
    "pathabundance <- pathabundance[sapply(pathabundance$X..Pathway,function(x) !(strsplit(x,\"\\\\|\")[[1]][1] %in% c(\"UNMAPPED\",\"UNINTEGRATED\")) & length(strsplit(x,\"\\\\|\")[[1]])==1),]"
   ]
  },
  {
   "cell_type": "code",
   "execution_count": 3,
   "metadata": {},
   "outputs": [],
   "source": [
    "colnames(pathabundance)[-1] <- sapply(colnames(pathabundance)[-1],function(x) strsplit(x,\"_\")[[1]][1])"
   ]
  },
  {
   "cell_type": "code",
   "execution_count": 4,
   "metadata": {},
   "outputs": [],
   "source": [
    "IBD_test_metadata <- read.table(\"/work/IBD_test_metadata.txt\",stringsAsFactors=F,sep=\"\\t\",header=T)"
   ]
  },
  {
   "cell_type": "code",
   "execution_count": 5,
   "metadata": {},
   "outputs": [],
   "source": [
    "pathabundance_2 <- rbind(c(\"diagnosis\",IBD_test_metadata[match(colnames(pathabundance)[-1],IBD_test_metadata$Run),\"diagnosis\"]),pathabundance)"
   ]
  },
  {
   "cell_type": "code",
   "execution_count": 6,
   "metadata": {},
   "outputs": [],
   "source": [
    "pathabundance_2$X..Pathway[-1] <- paste(\"pathway\",pathabundance_2$X..Pathway[-1],sep=\"_\")"
   ]
  },
  {
   "cell_type": "code",
   "execution_count": 7,
   "metadata": {},
   "outputs": [],
   "source": [
    "write.table(pathabundance_2,\"/work/results/biobakery_workflows/humann2/merged/pathabundance_input_for_MetAML.tsv\",quote=F,sep=\"\\t\",row.names=F,col.names=F)"
   ]
  },
  {
   "cell_type": "markdown",
   "metadata": {},
   "source": [
    "3.4.9.2 命令"
   ]
  },
  {
   "cell_type": "code",
   "execution_count": 3,
   "metadata": {},
   "outputs": [
    {
     "name": "stdout",
     "output_type": "stream",
     "text": [
      "/opt/conda/lib/python2.7/site-packages/sklearn/ensemble/weight_boosting.py:27: DeprecationWarning: numpy.core.umath_tests is an internal NumPy module and should not be imported. It will be removed in a future NumPy release.\n",
      "  from numpy.core.umath_tests import inner1d\n",
      "/opt/conda/lib/python2.7/site-packages/sklearn/cross_validation.py:412: Warning: The least populated class in y has only 5 members, which is too few. The minimum number of labels for any class cannot be less than n_folds=10.\n",
      "  % (min_labels, self.n_folds)), Warning)\n",
      "/opt/metaml/classification.py:49: RuntimeWarning: invalid value encountered in divide\n",
      "  t = abs(el.coef_)/sum(abs(el.coef_))\n",
      "/opt/conda/lib/python2.7/site-packages/sklearn/linear_model/coordinate_descent.py:490: ConvergenceWarning: Objective did not converge. You might want to increase the number of iterations\n",
      "  ConvergenceWarning)\n",
      "/opt/conda/lib/python2.7/site-packages/sklearn/metrics/metrics.py:1771: UndefinedMetricWarning: F-score is ill-defined and being set to 0.0 in labels with no predicted samples.\n",
      "  'precision', 'predicted', average, warn_for)\n",
      "/opt/conda/lib/python2.7/site-packages/sklearn/metrics/metrics.py:1773: UndefinedMetricWarning: F-score is ill-defined and being set to 0.0 in labels with no true samples.\n",
      "  'recall', 'true', average, warn_for)\n",
      "/opt/conda/lib/python2.7/site-packages/sklearn/metrics/metrics.py:1771: UndefinedMetricWarning: Precision is ill-defined and being set to 0.0 in labels with no predicted samples.\n",
      "  'precision', 'predicted', average, warn_for)\n",
      "/opt/conda/lib/python2.7/site-packages/sklearn/metrics/metrics.py:1773: UndefinedMetricWarning: Recall is ill-defined and being set to 0.0 in labels with no true samples.\n",
      "  'recall', 'true', average, warn_for)\n",
      "/opt/conda/lib/python2.7/site-packages/numpy/core/fromnumeric.py:3118: RuntimeWarning: Mean of empty slice.\n",
      "  out=out, **kwargs)\n",
      "/opt/conda/lib/python2.7/site-packages/numpy/core/_methods.py:85: RuntimeWarning: invalid value encountered in double_scalars\n",
      "  ret = ret.dtype.type(ret / rcount)\n"
     ]
    }
   ],
   "source": [
    "!sudo docker run --rm -v /Volumes/Untitled:/home/data biobakery-workflows-add-r-6 bash \\\n",
    "    -c 'python /opt/metaml/classification.py /home/data/results/biobakery_workflows/humann2/merged/pathabundance_input_for_MetAML.tsv \\\n",
    "/home/data/results/metaml/pathway_abundance_lasso_rf -d 1:diagnosis:CD -i lasso -l rf -w -z pathway_'"
   ]
  },
  {
   "cell_type": "markdown",
   "metadata": {},
   "source": [
    "3.4.10 群落功能特征marker分析——物种个体通路水平"
   ]
  },
  {
   "cell_type": "markdown",
   "metadata": {},
   "source": [
    "3.4.10.1 输入文件准备"
   ]
  },
  {
   "cell_type": "code",
   "execution_count": null,
   "metadata": {},
   "outputs": [],
   "source": [
    "pathabundance <- read.delim(\"/work/results/biobakery_workflows/humann2/merged/pathabundance.tsv\",stringsAsFactors=F,sep=\"\\t\",header=T)"
   ]
  },
  {
   "cell_type": "code",
   "execution_count": 2,
   "metadata": {},
   "outputs": [],
   "source": [
    "pathabundance <- pathabundance[sapply(pathabundance$X..Pathway,function(x) !(strsplit(x,\"\\\\|\")[[1]][1] %in% c(\"UNMAPPED\",\"UNINTEGRATED\")) & length(strsplit(x,\"\\\\|\")[[1]])==2),]"
   ]
  },
  {
   "cell_type": "code",
   "execution_count": 3,
   "metadata": {},
   "outputs": [],
   "source": [
    "pathabundance <- pathabundance[sapply(pathabundance$X..Pathway,function(x) length(strsplit(strsplit(x,\"\\\\|\")[[1]][2],\"s__\")[[1]])==2),]"
   ]
  },
  {
   "cell_type": "code",
   "execution_count": 4,
   "metadata": {},
   "outputs": [],
   "source": [
    "colnames(pathabundance)[-1] <- sapply(colnames(pathabundance)[-1],function(x) strsplit(x,\"_\")[[1]][1])"
   ]
  },
  {
   "cell_type": "code",
   "execution_count": 5,
   "metadata": {},
   "outputs": [],
   "source": [
    "IBD_test_metadata <- read.table(\"/work/IBD_test_metadata.txt\",stringsAsFactors=F,sep=\"\\t\",header=T)"
   ]
  },
  {
   "cell_type": "code",
   "execution_count": 6,
   "metadata": {},
   "outputs": [],
   "source": [
    "pathabundance_2 <- rbind(c(\"diagnosis\",IBD_test_metadata[match(colnames(pathabundance)[-1],IBD_test_metadata$Run),\"diagnosis\"]),pathabundance)"
   ]
  },
  {
   "cell_type": "code",
   "execution_count": 7,
   "metadata": {},
   "outputs": [],
   "source": [
    "pathabundance_2$X..Pathway[-1] <- paste(\"pathway\",pathabundance_2$X..Pathway[-1],sep=\"_\")"
   ]
  },
  {
   "cell_type": "code",
   "execution_count": 8,
   "metadata": {},
   "outputs": [],
   "source": [
    "write.table(pathabundance_2,\"/work/results/biobakery_workflows/humann2/merged/pathabundance_stratified_input_for_MetAML.tsv\",quote=F,sep=\"\\t\",row.names=F,col.names=F)"
   ]
  },
  {
   "cell_type": "markdown",
   "metadata": {},
   "source": [
    "3.4.10.2 命令"
   ]
  },
  {
   "cell_type": "code",
   "execution_count": 1,
   "metadata": {},
   "outputs": [
    {
     "name": "stdout",
     "output_type": "stream",
     "text": [
      "/opt/conda/lib/python2.7/site-packages/sklearn/ensemble/weight_boosting.py:27: DeprecationWarning: numpy.core.umath_tests is an internal NumPy module and should not be imported. It will be removed in a future NumPy release.\n",
      "  from numpy.core.umath_tests import inner1d\n",
      "/opt/conda/lib/python2.7/site-packages/sklearn/cross_validation.py:412: Warning: The least populated class in y has only 5 members, which is too few. The minimum number of labels for any class cannot be less than n_folds=10.\n",
      "  % (min_labels, self.n_folds)), Warning)\n",
      "/opt/metaml/classification.py:49: RuntimeWarning: invalid value encountered in divide\n",
      "  t = abs(el.coef_)/sum(abs(el.coef_))\n",
      "/opt/conda/lib/python2.7/site-packages/sklearn/linear_model/coordinate_descent.py:490: ConvergenceWarning: Objective did not converge. You might want to increase the number of iterations\n",
      "  ConvergenceWarning)\n",
      "/opt/conda/lib/python2.7/site-packages/sklearn/metrics/metrics.py:1771: UndefinedMetricWarning: F-score is ill-defined and being set to 0.0 in labels with no predicted samples.\n",
      "  'precision', 'predicted', average, warn_for)\n",
      "/opt/conda/lib/python2.7/site-packages/sklearn/metrics/metrics.py:1771: UndefinedMetricWarning: Precision is ill-defined and being set to 0.0 in labels with no predicted samples.\n",
      "  'precision', 'predicted', average, warn_for)\n",
      "/opt/conda/lib/python2.7/site-packages/sklearn/metrics/metrics.py:1773: UndefinedMetricWarning: F-score is ill-defined and being set to 0.0 in labels with no true samples.\n",
      "  'recall', 'true', average, warn_for)\n",
      "/opt/conda/lib/python2.7/site-packages/sklearn/metrics/metrics.py:1773: UndefinedMetricWarning: Recall is ill-defined and being set to 0.0 in labels with no true samples.\n",
      "  'recall', 'true', average, warn_for)\n",
      "/opt/conda/lib/python2.7/site-packages/numpy/core/fromnumeric.py:3118: RuntimeWarning: Mean of empty slice.\n",
      "  out=out, **kwargs)\n",
      "/opt/conda/lib/python2.7/site-packages/numpy/core/_methods.py:85: RuntimeWarning: invalid value encountered in double_scalars\n",
      "  ret = ret.dtype.type(ret / rcount)\n"
     ]
    }
   ],
   "source": [
    "!sudo docker run --rm -v /Volumes/Untitled:/home/data biobakery-workflows-add-r-6 bash \\\n",
    "    -c 'python /opt/metaml/classification.py /home/data/results/biobakery_workflows/humann2/merged/pathabundance_stratified_input_for_MetAML.tsv \\\n",
    "/home/data/results/metaml/pathway_abundance_stratified_lasso_rf -d 1:diagnosis:CD -i lasso -l rf -w -z pathway_'"
   ]
  },
  {
   "cell_type": "markdown",
   "metadata": {},
   "source": [
    "3.4.11 群落功能特征marker分析——整体群落ECS蛋白酶家族水平"
   ]
  },
  {
   "cell_type": "markdown",
   "metadata": {},
   "source": [
    "3.4.11.1 输入文件准备"
   ]
  },
  {
   "cell_type": "code",
   "execution_count": 1,
   "metadata": {},
   "outputs": [],
   "source": [
    "ecsabundance <- read.delim(\"/work/results/biobakery_workflows/humann2/merged/ecs.tsv\",stringsAsFactors=F,sep=\"\\t\",header=T)"
   ]
  },
  {
   "cell_type": "code",
   "execution_count": 2,
   "metadata": {},
   "outputs": [],
   "source": [
    "ecsabundance <- ecsabundance[sapply(ecsabundance$X..Gene.Family,function(x) !(strsplit(x,\"\\\\|\")[[1]][1] %in% c(\"UNMAPPED\",\"UNGROUPED\")) & length(strsplit(x,\"\\\\|\")[[1]])==1),]"
   ]
  },
  {
   "cell_type": "code",
   "execution_count": 3,
   "metadata": {},
   "outputs": [],
   "source": [
    "colnames(ecsabundance)[-1] <- sapply(colnames(ecsabundance)[-1],function(x) strsplit(x,\"_\")[[1]][1])"
   ]
  },
  {
   "cell_type": "code",
   "execution_count": 4,
   "metadata": {},
   "outputs": [],
   "source": [
    "IBD_test_metadata <- read.table(\"/work/IBD_test_metadata.txt\",stringsAsFactors=F,sep=\"\\t\",header=T)"
   ]
  },
  {
   "cell_type": "code",
   "execution_count": 5,
   "metadata": {},
   "outputs": [],
   "source": [
    "ecsabundance_2 <- rbind(c(\"diagnosis\",IBD_test_metadata[match(colnames(ecsabundance)[-1],IBD_test_metadata$Run),\"diagnosis\"]),ecsabundance)"
   ]
  },
  {
   "cell_type": "code",
   "execution_count": 6,
   "metadata": {},
   "outputs": [],
   "source": [
    "ecsabundance_2$X..Gene.Family[-1] <- paste(\"ecs\",ecsabundance_2$X..Gene.Family[-1],sep=\"_\")"
   ]
  },
  {
   "cell_type": "code",
   "execution_count": 7,
   "metadata": {},
   "outputs": [],
   "source": [
    "write.table(ecsabundance_2,\"/work/results/biobakery_workflows/humann2/merged/ecsabundance_input_for_MetAML.tsv\",quote=F,sep=\"\\t\",row.names=F,col.names=F)"
   ]
  },
  {
   "cell_type": "markdown",
   "metadata": {},
   "source": [
    "3.4.11.2 命令"
   ]
  },
  {
   "cell_type": "code",
   "execution_count": 1,
   "metadata": {},
   "outputs": [
    {
     "name": "stdout",
     "output_type": "stream",
     "text": [
      "/opt/conda/lib/python2.7/site-packages/sklearn/ensemble/weight_boosting.py:27: DeprecationWarning: numpy.core.umath_tests is an internal NumPy module and should not be imported. It will be removed in a future NumPy release.\n",
      "  from numpy.core.umath_tests import inner1d\n",
      "/opt/conda/lib/python2.7/site-packages/sklearn/cross_validation.py:412: Warning: The least populated class in y has only 5 members, which is too few. The minimum number of labels for any class cannot be less than n_folds=10.\n",
      "  % (min_labels, self.n_folds)), Warning)\n",
      "/opt/metaml/classification.py:49: RuntimeWarning: invalid value encountered in divide\n",
      "  t = abs(el.coef_)/sum(abs(el.coef_))\n",
      "/opt/conda/lib/python2.7/site-packages/sklearn/linear_model/coordinate_descent.py:490: ConvergenceWarning: Objective did not converge. You might want to increase the number of iterations\n",
      "  ConvergenceWarning)\n",
      "/opt/conda/lib/python2.7/site-packages/numpy/core/fromnumeric.py:3118: RuntimeWarning: Mean of empty slice.\n",
      "  out=out, **kwargs)\n",
      "/opt/conda/lib/python2.7/site-packages/numpy/core/_methods.py:85: RuntimeWarning: invalid value encountered in double_scalars\n",
      "  ret = ret.dtype.type(ret / rcount)\n",
      "/opt/conda/lib/python2.7/site-packages/sklearn/metrics/metrics.py:1771: UndefinedMetricWarning: F-score is ill-defined and being set to 0.0 in labels with no predicted samples.\n",
      "  'precision', 'predicted', average, warn_for)\n",
      "/opt/conda/lib/python2.7/site-packages/sklearn/metrics/metrics.py:1773: UndefinedMetricWarning: F-score is ill-defined and being set to 0.0 in labels with no true samples.\n",
      "  'recall', 'true', average, warn_for)\n",
      "/opt/conda/lib/python2.7/site-packages/sklearn/metrics/metrics.py:1771: UndefinedMetricWarning: Precision is ill-defined and being set to 0.0 in labels with no predicted samples.\n",
      "  'precision', 'predicted', average, warn_for)\n",
      "/opt/conda/lib/python2.7/site-packages/sklearn/metrics/metrics.py:1773: UndefinedMetricWarning: Recall is ill-defined and being set to 0.0 in labels with no true samples.\n",
      "  'recall', 'true', average, warn_for)\n"
     ]
    }
   ],
   "source": [
    "!sudo docker run --rm -v /Volumes/Untitled:/home/data biobakery-workflows-add-r-6 bash \\\n",
    "    -c 'python /opt/metaml/classification.py /home/data/results/biobakery_workflows/humann2/merged/ecsabundance_input_for_MetAML.tsv \\\n",
    "/home/data/results/metaml/ecsabundance_lasso_rf -d 1:diagnosis:CD -i lasso -l rf -w -z ecs_'"
   ]
  },
  {
   "cell_type": "markdown",
   "metadata": {},
   "source": [
    "3.4.12 群落功能特征marker分析——物种个体ECS蛋白酶家族水平"
   ]
  },
  {
   "cell_type": "markdown",
   "metadata": {},
   "source": [
    "3.4.12.1 输入文件准备"
   ]
  },
  {
   "cell_type": "code",
   "execution_count": 1,
   "metadata": {},
   "outputs": [],
   "source": [
    "ecsabundance <- read.delim(\"/work/results/biobakery_workflows/humann2/merged/ecs.tsv\",stringsAsFactors=F,sep=\"\\t\",header=T)"
   ]
  },
  {
   "cell_type": "code",
   "execution_count": 2,
   "metadata": {},
   "outputs": [],
   "source": [
    "ecsabundance <- ecsabundance[sapply(ecsabundance$X..Gene.Family,function(x) !(strsplit(x,\"\\\\|\")[[1]][1] %in% c(\"UNMAPPED\",\"UNGROUPED\")) & length(strsplit(x,\"\\\\|\")[[1]])==2),]"
   ]
  },
  {
   "cell_type": "code",
   "execution_count": 3,
   "metadata": {},
   "outputs": [],
   "source": [
    "ecsabundance <- ecsabundance[sapply(ecsabundance$X..Gene.Family,function(x) length(strsplit(strsplit(x,\"\\\\|\")[[1]][2],\"s__\")[[1]])==2),]"
   ]
  },
  {
   "cell_type": "code",
   "execution_count": 4,
   "metadata": {},
   "outputs": [],
   "source": [
    "colnames(ecsabundance)[-1] <- sapply(colnames(ecsabundance)[-1],function(x) strsplit(x,\"_\")[[1]][1])"
   ]
  },
  {
   "cell_type": "code",
   "execution_count": 5,
   "metadata": {},
   "outputs": [],
   "source": [
    "IBD_test_metadata <- read.table(\"/work/IBD_test_metadata.txt\",stringsAsFactors=F,sep=\"\\t\",header=T)"
   ]
  },
  {
   "cell_type": "code",
   "execution_count": 6,
   "metadata": {},
   "outputs": [],
   "source": [
    "ecsabundance_2 <- rbind(c(\"diagnosis\",IBD_test_metadata[match(colnames(ecsabundance)[-1],IBD_test_metadata$Run),\"diagnosis\"]),ecsabundance)"
   ]
  },
  {
   "cell_type": "code",
   "execution_count": 7,
   "metadata": {},
   "outputs": [],
   "source": [
    "ecsabundance_2$X..Gene.Family[-1] <- paste(\"ecs\",ecsabundance_2$X..Gene.Family[-1],sep=\"_\")"
   ]
  },
  {
   "cell_type": "code",
   "execution_count": 8,
   "metadata": {},
   "outputs": [],
   "source": [
    "write.table(ecsabundance_2,\"/work/results/biobakery_workflows/humann2/merged/ecsabundance_stratified_input_for_MetAML.tsv\",quote=F,sep=\"\\t\",row.names=F,col.names=F)"
   ]
  },
  {
   "cell_type": "markdown",
   "metadata": {},
   "source": [
    "3.4.12.2 命令"
   ]
  },
  {
   "cell_type": "code",
   "execution_count": 1,
   "metadata": {},
   "outputs": [
    {
     "name": "stdout",
     "output_type": "stream",
     "text": [
      "/opt/conda/lib/python2.7/site-packages/sklearn/ensemble/weight_boosting.py:27: DeprecationWarning: numpy.core.umath_tests is an internal NumPy module and should not be imported. It will be removed in a future NumPy release.\n",
      "  from numpy.core.umath_tests import inner1d\n",
      "/opt/conda/lib/python2.7/site-packages/sklearn/cross_validation.py:412: Warning: The least populated class in y has only 5 members, which is too few. The minimum number of labels for any class cannot be less than n_folds=10.\n",
      "  % (min_labels, self.n_folds)), Warning)\n",
      "/opt/conda/lib/python2.7/site-packages/sklearn/linear_model/coordinate_descent.py:490: ConvergenceWarning: Objective did not converge. You might want to increase the number of iterations\n",
      "  ConvergenceWarning)\n",
      "/opt/conda/lib/python2.7/site-packages/numpy/core/fromnumeric.py:3118: RuntimeWarning: Mean of empty slice.\n",
      "  out=out, **kwargs)\n",
      "/opt/conda/lib/python2.7/site-packages/numpy/core/_methods.py:85: RuntimeWarning: invalid value encountered in double_scalars\n",
      "  ret = ret.dtype.type(ret / rcount)\n",
      "/opt/conda/lib/python2.7/site-packages/sklearn/metrics/metrics.py:1771: UndefinedMetricWarning: F-score is ill-defined and being set to 0.0 in labels with no predicted samples.\n",
      "  'precision', 'predicted', average, warn_for)\n",
      "/opt/conda/lib/python2.7/site-packages/sklearn/metrics/metrics.py:1773: UndefinedMetricWarning: F-score is ill-defined and being set to 0.0 in labels with no true samples.\n",
      "  'recall', 'true', average, warn_for)\n",
      "/opt/conda/lib/python2.7/site-packages/sklearn/metrics/metrics.py:1771: UndefinedMetricWarning: Precision is ill-defined and being set to 0.0 in labels with no predicted samples.\n",
      "  'precision', 'predicted', average, warn_for)\n",
      "/opt/conda/lib/python2.7/site-packages/sklearn/metrics/metrics.py:1773: UndefinedMetricWarning: Recall is ill-defined and being set to 0.0 in labels with no true samples.\n",
      "  'recall', 'true', average, warn_for)\n"
     ]
    }
   ],
   "source": [
    "!sudo docker run --rm -v /Volumes/Untitled:/home/data biobakery-workflows-add-r-6 bash \\\n",
    "    -c 'python /opt/metaml/classification.py /home/data/results/biobakery_workflows/humann2/merged/ecsabundance_stratified_input_for_MetAML.tsv \\\n",
    "/home/data/results/metaml/ecsabundance_stratified_lasso_rf -d 1:diagnosis:CD -i lasso -l rf -w -z ecs_'"
   ]
  },
  {
   "cell_type": "markdown",
   "metadata": {},
   "source": [
    "3.4.13 群落功能特征marker分析——整体群落UniRef90基因家族水平"
   ]
  },
  {
   "cell_type": "markdown",
   "metadata": {},
   "source": [
    "3.4.13.1 输入文件准备"
   ]
  },
  {
   "cell_type": "code",
   "execution_count": 1,
   "metadata": {},
   "outputs": [],
   "source": [
    "genefamiliesabundance <- read.delim(\"/work/results/biobakery_workflows/humann2/merged/genefamilies.tsv\",stringsAsFactors=F,sep=\"\\t\",header=T)"
   ]
  },
  {
   "cell_type": "code",
   "execution_count": 2,
   "metadata": {},
   "outputs": [],
   "source": [
    "genefamiliesabundance <- genefamiliesabundance[sapply(genefamiliesabundance$X..Gene.Family,function(x) !(strsplit(x,\"\\\\|\")[[1]][1] %in% c(\"UNMAPPED\",\"UniRef90_unknown\")) & length(strsplit(x,\"\\\\|\")[[1]])==1),]"
   ]
  },
  {
   "cell_type": "code",
   "execution_count": 3,
   "metadata": {},
   "outputs": [],
   "source": [
    "colnames(genefamiliesabundance)[-1] <- sapply(colnames(genefamiliesabundance)[-1],function(x) strsplit(x,\"_\")[[1]][1])"
   ]
  },
  {
   "cell_type": "code",
   "execution_count": 4,
   "metadata": {},
   "outputs": [],
   "source": [
    "IBD_test_metadata <- read.table(\"/work/IBD_test_metadata.txt\",stringsAsFactors=F,sep=\"\\t\",header=T)"
   ]
  },
  {
   "cell_type": "code",
   "execution_count": 5,
   "metadata": {},
   "outputs": [],
   "source": [
    "genefamiliesabundance_2 <- rbind(c(\"diagnosis\",IBD_test_metadata[match(colnames(genefamiliesabundance)[-1],IBD_test_metadata$Run),\"diagnosis\"]),genefamiliesabundance)"
   ]
  },
  {
   "cell_type": "code",
   "execution_count": 6,
   "metadata": {},
   "outputs": [],
   "source": [
    "genefamiliesabundance_2$X..Gene.Family[-1] <- paste(\"genefamilies\",genefamiliesabundance_2$X..Gene.Family[-1],sep=\"_\")"
   ]
  },
  {
   "cell_type": "code",
   "execution_count": 7,
   "metadata": {},
   "outputs": [],
   "source": [
    "write.table(genefamiliesabundance_2,\"/work/results/biobakery_workflows/humann2/merged/genefamiliesabundance_input_for_MetAML.tsv\",quote=F,sep=\"\\t\",row.names=F,col.names=F)"
   ]
  },
  {
   "cell_type": "markdown",
   "metadata": {},
   "source": [
    "3.4.13.2 命令（由于该命令运行时间较长，转移到服务器上运行）"
   ]
  },
  {
   "cell_type": "markdown",
   "metadata": {},
   "source": [
    "python classification.py genefamiliesabundance_input_for_MetAML.tsv genefamiliesabundance_lasso_rf -d 1:diagnosis:CD -i lasso -l rf -w -z genefamilies_'"
   ]
  },
  {
   "cell_type": "markdown",
   "metadata": {},
   "source": [
    "3.4.14 群落功能特征marker分析——物种个体UniRef90基因家族水平"
   ]
  },
  {
   "cell_type": "markdown",
   "metadata": {},
   "source": [
    "3.4.14.1 输入文件准备"
   ]
  },
  {
   "cell_type": "code",
   "execution_count": 1,
   "metadata": {},
   "outputs": [],
   "source": [
    "genefamiliesabundance <- read.delim(\"/work/results/biobakery_workflows/humann2/merged/genefamilies.tsv\",stringsAsFactors=F,sep=\"\\t\",header=T)"
   ]
  },
  {
   "cell_type": "code",
   "execution_count": 2,
   "metadata": {},
   "outputs": [],
   "source": [
    "genefamiliesabundance <- genefamiliesabundance[sapply(genefamiliesabundance$X..Gene.Family,function(x) !(strsplit(x,\"\\\\|\")[[1]][1] %in% c(\"UNMAPPED\",\"UniRef90_unknown\")) & length(strsplit(x,\"\\\\|\")[[1]])==2),]"
   ]
  },
  {
   "cell_type": "code",
   "execution_count": 3,
   "metadata": {},
   "outputs": [],
   "source": [
    "genefamiliesabundance <- genefamiliesabundance[sapply(genefamiliesabundance$X..Gene.Family,function(x) length(strsplit(strsplit(x,\"\\\\|\")[[1]][2],\"s__\")[[1]])==2),]"
   ]
  },
  {
   "cell_type": "code",
   "execution_count": 4,
   "metadata": {},
   "outputs": [],
   "source": [
    "colnames(genefamiliesabundance)[-1] <- sapply(colnames(genefamiliesabundance)[-1],function(x) strsplit(x,\"_\")[[1]][1])"
   ]
  },
  {
   "cell_type": "code",
   "execution_count": 5,
   "metadata": {},
   "outputs": [],
   "source": [
    "IBD_test_metadata <- read.table(\"/work/IBD_test_metadata.txt\",stringsAsFactors=F,sep=\"\\t\",header=T)"
   ]
  },
  {
   "cell_type": "code",
   "execution_count": 6,
   "metadata": {},
   "outputs": [],
   "source": [
    "genefamiliesabundance_2 <- rbind(c(\"diagnosis\",IBD_test_metadata[match(colnames(genefamiliesabundance)[-1],IBD_test_metadata$Run),\"diagnosis\"]),genefamiliesabundance)"
   ]
  },
  {
   "cell_type": "code",
   "execution_count": 7,
   "metadata": {},
   "outputs": [],
   "source": [
    "genefamiliesabundance_2$X..Gene.Family[-1] <- paste(\"genefamilies\",genefamiliesabundance_2$X..Gene.Family[-1],sep=\"_\")"
   ]
  },
  {
   "cell_type": "code",
   "execution_count": 8,
   "metadata": {},
   "outputs": [],
   "source": [
    "write.table(genefamiliesabundance_2,\"/work/results/biobakery_workflows/humann2/merged/genefamiliesabundance_stratified_input_for_MetAML.tsv\",quote=F,sep=\"\\t\",row.names=F,col.names=F)"
   ]
  },
  {
   "cell_type": "markdown",
   "metadata": {},
   "source": [
    "3.4.14.2 命令（由于该命令运行时间较长，转移到服务器上运行）"
   ]
  },
  {
   "cell_type": "markdown",
   "metadata": {},
   "source": [
    "python classification.py genefamiliesabundance_stratified_input_for_MetAML.tsv genefamiliesabundance_stratified_lasso_rf -d 1:diagnosis:CD -i lasso -l rf -w -z genefamilies_'"
   ]
  },
  {
   "cell_type": "markdown",
   "metadata": {},
   "source": [
    "3.4.15 群落代谢物差异分析 (整体群落)"
   ]
  },
  {
   "cell_type": "markdown",
   "metadata": {},
   "source": [
    "3.4.15.1 不考虑混杂因素，在CD疾病和健康两种状态下，分析群落代谢物的差异丰度变化"
   ]
  },
  {
   "cell_type": "code",
   "execution_count": 12,
   "metadata": {},
   "outputs": [],
   "source": [
    "!bash -c 'mkdir -p /work/results/wilcox/'"
   ]
  },
  {
   "cell_type": "code",
   "execution_count": 13,
   "metadata": {},
   "outputs": [
    {
     "name": "stdout",
     "output_type": "stream",
     "text": [
      "Warning messages:\n",
      "1: In wilcox.test.default(as.numeric(x[subset(IBD_test_metadata, diagnosis ==  :\n",
      "  cannot compute exact p-value with ties\n",
      "2: In wilcox.test.default(as.numeric(x[subset(IBD_test_metadata, diagnosis ==  :\n",
      "  cannot compute exact p-value with ties\n",
      "[1] \"Number of metabolites with differential abundance:0\"\n"
     ]
    }
   ],
   "source": [
    "!sudo docker run --rm -v /Volumes/Untitled:/home/data biobakery-workflows-add-r-6 bash \\\n",
    "    -c 'Rscript /home/data/nlme_metabolites.R \\\n",
    "    --metabolites_profile /home/data/results/melonnpan/MelonnPan_Predicted_Metabolites.txt \\\n",
    "    --metadata /home/data/IBD_test_metadata.txt \\\n",
    "    --output_all /home/data/results/wilcox/CD_vs_nonIBD_metabolites.txt \\\n",
    "    --output_DA /home/data/results/wilcox/CD_vs_nonIBD_metabolites_DA.txt'"
   ]
  },
  {
   "cell_type": "markdown",
   "metadata": {},
   "source": [
    "3.4.15.2 同时以抗生素使用情况和年龄作为混杂因素，在CD疾病和健康两种状态下，分析群落代谢物的差异丰度变化"
   ]
  },
  {
   "cell_type": "code",
   "execution_count": 14,
   "metadata": {},
   "outputs": [],
   "source": [
    "!bash -c 'mkdir -p /work/results/nlme/'"
   ]
  },
  {
   "cell_type": "code",
   "execution_count": 15,
   "metadata": {},
   "outputs": [
    {
     "name": "stdout",
     "output_type": "stream",
     "text": [
      "[1] \"Number of metabolites with differential abundance:3\"\n"
     ]
    }
   ],
   "source": [
    "!sudo docker run --rm -v /Volumes/Untitled:/home/data biobakery-workflows-add-r-6 bash \\\n",
    "    -c 'Rscript /home/data/nlme_metabolites_confounder.R \\\n",
    "    --metabolites_profile /home/data/results/melonnpan/MelonnPan_Predicted_Metabolites.txt \\\n",
    "    --metadata /home/data/IBD_test_metadata.txt \\\n",
    "    --output_all /home/data/results/nlme/CD_vs_nonIBD_metabolites_confounder.txt \\\n",
    "    --output_DA /home/data/results/nlme/CD_vs_nonIBD_metabolites_DA_confounder.txt'"
   ]
  },
  {
   "cell_type": "markdown",
   "metadata": {},
   "source": [
    "3.4.16 群落代谢物特征marker分析 (整体群落)"
   ]
  },
  {
   "cell_type": "markdown",
   "metadata": {},
   "source": [
    "3.4.16.1 输入文件准备"
   ]
  },
  {
   "cell_type": "code",
   "execution_count": 1,
   "metadata": {},
   "outputs": [],
   "source": [
    "MelonnPan_Predicted_Metabolites <- read.table(\"/work/results/melonnpan/MelonnPan_Predicted_Metabolites.txt\",stringsAsFactors=F,sep=\"\\t\",header=T)"
   ]
  },
  {
   "cell_type": "code",
   "execution_count": 2,
   "metadata": {},
   "outputs": [],
   "source": [
    "rownames(MelonnPan_Predicted_Metabolites) <- MelonnPan_Predicted_Metabolites$ID "
   ]
  },
  {
   "cell_type": "code",
   "execution_count": 3,
   "metadata": {},
   "outputs": [],
   "source": [
    "MelonnPan_Predicted_Metabolites <- MelonnPan_Predicted_Metabolites[,-1]"
   ]
  },
  {
   "cell_type": "code",
   "execution_count": 4,
   "metadata": {},
   "outputs": [],
   "source": [
    "MelonnPan_Predicted_Metabolites_2 <- t(MelonnPan_Predicted_Metabolites)"
   ]
  },
  {
   "cell_type": "code",
   "execution_count": 5,
   "metadata": {},
   "outputs": [],
   "source": [
    "MelonnPan_Predicted_Metabolites_3 <- data.frame(metabolites=rownames(MelonnPan_Predicted_Metabolites_2),MelonnPan_Predicted_Metabolites_2)"
   ]
  },
  {
   "cell_type": "code",
   "execution_count": 6,
   "metadata": {},
   "outputs": [],
   "source": [
    "IBD_test_metadata <- read.table(\"/work/IBD_test_metadata.txt\",stringsAsFactors=F,sep=\"\\t\",header=T)"
   ]
  },
  {
   "cell_type": "code",
   "execution_count": 7,
   "metadata": {},
   "outputs": [],
   "source": [
    "MelonnPan_Predicted_Metabolites_3$metabolites <- as.character(MelonnPan_Predicted_Metabolites_3$metabolites)"
   ]
  },
  {
   "cell_type": "code",
   "execution_count": 8,
   "metadata": {},
   "outputs": [],
   "source": [
    "MelonnPan_Predicted_Metabolites_4 <- rbind(c(\"diagnosis\",IBD_test_metadata[match(colnames(MelonnPan_Predicted_Metabolites_3)[-1],IBD_test_metadata$Run),\"diagnosis\"]),MelonnPan_Predicted_Metabolites_3)"
   ]
  },
  {
   "cell_type": "code",
   "execution_count": 9,
   "metadata": {},
   "outputs": [],
   "source": [
    "MelonnPan_Predicted_Metabolites_4$metabolites[-1] <- paste(\"metabolites\",MelonnPan_Predicted_Metabolites_4$metabolites[-1],sep=\"_\")"
   ]
  },
  {
   "cell_type": "code",
   "execution_count": 10,
   "metadata": {},
   "outputs": [],
   "source": [
    "write.table(MelonnPan_Predicted_Metabolites_4,\"/work/results/melonnpan/MelonnPan_Predicted_Metabolites_input_for_MetAML.tsv\",quote=F,sep=\"\\t\",row.names=F,col.names=F)"
   ]
  },
  {
   "cell_type": "markdown",
   "metadata": {},
   "source": [
    "3.4.16.2 命令"
   ]
  },
  {
   "cell_type": "code",
   "execution_count": 8,
   "metadata": {},
   "outputs": [
    {
     "name": "stdout",
     "output_type": "stream",
     "text": [
      "/opt/conda/lib/python2.7/site-packages/sklearn/ensemble/weight_boosting.py:27: DeprecationWarning: numpy.core.umath_tests is an internal NumPy module and should not be imported. It will be removed in a future NumPy release.\n",
      "  from numpy.core.umath_tests import inner1d\n",
      "/opt/conda/lib/python2.7/site-packages/sklearn/cross_validation.py:412: Warning: The least populated class in y has only 5 members, which is too few. The minimum number of labels for any class cannot be less than n_folds=10.\n",
      "  % (min_labels, self.n_folds)), Warning)\n",
      "/opt/conda/lib/python2.7/site-packages/sklearn/linear_model/coordinate_descent.py:490: ConvergenceWarning: Objective did not converge. You might want to increase the number of iterations\n",
      "  ConvergenceWarning)\n",
      "/opt/conda/lib/python2.7/site-packages/sklearn/metrics/metrics.py:1771: UndefinedMetricWarning: F-score is ill-defined and being set to 0.0 in labels with no predicted samples.\n",
      "  'precision', 'predicted', average, warn_for)\n",
      "/opt/conda/lib/python2.7/site-packages/sklearn/metrics/metrics.py:1771: UndefinedMetricWarning: Precision is ill-defined and being set to 0.0 in labels with no predicted samples.\n",
      "  'precision', 'predicted', average, warn_for)\n",
      "/opt/conda/lib/python2.7/site-packages/sklearn/metrics/metrics.py:1773: UndefinedMetricWarning: F-score is ill-defined and being set to 0.0 in labels with no true samples.\n",
      "  'recall', 'true', average, warn_for)\n",
      "/opt/conda/lib/python2.7/site-packages/sklearn/metrics/metrics.py:1773: UndefinedMetricWarning: Recall is ill-defined and being set to 0.0 in labels with no true samples.\n",
      "  'recall', 'true', average, warn_for)\n",
      "/opt/conda/lib/python2.7/site-packages/numpy/core/fromnumeric.py:3118: RuntimeWarning: Mean of empty slice.\n",
      "  out=out, **kwargs)\n",
      "/opt/conda/lib/python2.7/site-packages/numpy/core/_methods.py:85: RuntimeWarning: invalid value encountered in double_scalars\n",
      "  ret = ret.dtype.type(ret / rcount)\n"
     ]
    }
   ],
   "source": [
    "!sudo docker run --rm -v /Volumes/Untitled:/home/data biobakery-workflows-add-r-6 bash \\\n",
    "    -c 'python /opt/metaml/classification.py /home/data/results/melonnpan/MelonnPan_Predicted_Metabolites_input_for_MetAML.tsv \\\n",
    "/home/data/results/metaml/metabolites_lasso_rf -d 1:diagnosis:CD -i lasso -l rf -w -z metabolites_'"
   ]
  }
 ],
 "metadata": {
  "kernelspec": {
   "display_name": "Python 3",
   "language": "python",
   "name": "python3"
  },
  "language_info": {
   "codemirror_mode": {
    "name": "ipython",
    "version": 3
   },
   "file_extension": ".py",
   "mimetype": "text/x-python",
   "name": "python",
   "nbconvert_exporter": "python",
   "pygments_lexer": "ipython3",
   "version": "3.7.3"
  }
 },
 "nbformat": 4,
 "nbformat_minor": 4
}
